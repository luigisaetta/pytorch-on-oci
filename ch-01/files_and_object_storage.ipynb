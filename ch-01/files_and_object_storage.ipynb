{
 "cells": [
  {
   "cell_type": "markdown",
   "id": "663137af",
   "metadata": {},
   "source": [
    "### Files and Object Storage\n",
    "\n",
    "Common tasks are:\n",
    "* to copy files from the Object Storage to the local file system of the Notebook Session\n",
    "* to copy files from a local directory to a bucket in the Object Storage\n",
    "\n",
    "in **utils.py** you can find some utilities functions I have written to simplify these bulk operations.\n",
    "\n",
    "In this Notebook you can see how to use them."
   ]
  },
  {
   "cell_type": "code",
   "execution_count": 1,
   "id": "c403b07e",
   "metadata": {},
   "outputs": [],
   "source": [
    "import ads\n",
    "import os\n",
    "import oci\n",
    "from ads import set_auth\n",
    "\n",
    "# we wil be using utilities functions from this module\n",
    "from utils import *"
   ]
  },
  {
   "cell_type": "code",
   "execution_count": 2,
   "id": "4fbdf979",
   "metadata": {},
   "outputs": [
    {
     "name": "stdout",
     "output_type": "stream",
     "text": [
      "2.6.6\n"
     ]
    }
   ],
   "source": [
    "# check ads version\n",
    "print(ads.__version__)"
   ]
  },
  {
   "cell_type": "code",
   "execution_count": 3,
   "id": "8c40b7a5",
   "metadata": {},
   "outputs": [],
   "source": [
    "# We're using Resource Principal here. Check that it has beeen correctly configured\n",
    "\n",
    "# rps is the Resource Principal Signer\n",
    "# every REST call must be signed and, since we want to use RP, we need to get this and pass\n",
    "# to every call\n",
    "\n",
    "# be aware. It has a limited temporal duration, so if you get any security error, rexecute this to \n",
    "# have it refreshed and then execute the API call\n",
    "rps = oci.auth.signers.get_resource_principals_signer()"
   ]
  },
  {
   "cell_type": "markdown",
   "id": "7e162ee6",
   "metadata": {},
   "source": [
    "#### Get the list of objects from a bucket\n",
    "\n",
    "using **get_objects_list** we can get the list of all the files contained in the bucket specified"
   ]
  },
  {
   "cell_type": "code",
   "execution_count": 4,
   "id": "61d895d5",
   "metadata": {},
   "outputs": [
    {
     "name": "stdout",
     "output_type": "stream",
     "text": [
      "['oracle1.jpeg', 'oracle2.jpeg', 'oracle_red_bull1.jpeg', 'oracle_red_bull2.jpeg']\n"
     ]
    }
   ],
   "source": [
    "# you get the namespace from the bucket information page on top left (under: general)\n",
    "NAMESPACE = \"frqap2zhtzbe\"\n",
    "BUCKET_NAME = \"batch_image_input\"\n",
    "\n",
    "list_files = get_objects_list(NAMESPACE, BUCKET_NAME, rps)\n",
    "\n",
    "print(list_files)"
   ]
  },
  {
   "cell_type": "markdown",
   "id": "fda13fc4",
   "metadata": {},
   "source": [
    "#### Copy all the files from a bucket to a local dir (here: temp1)\n",
    "\n",
    "using **copy_list_objects_from_oss** we can pass a list of files and getvthem copied from the bucket to a specified local dir"
   ]
  },
  {
   "cell_type": "code",
   "execution_count": 5,
   "id": "eb668dad",
   "metadata": {},
   "outputs": [
    {
     "name": "stdout",
     "output_type": "stream",
     "text": [
      "Copy oracle1.jpeg done!\n",
      "Copy oracle2.jpeg done!\n",
      "Copy oracle_red_bull1.jpeg done!\n",
      "Copy oracle_red_bull2.jpeg done!\n"
     ]
    }
   ],
   "source": [
    "copy_list_objects_from_oss(list_files, \"./temp1\", NAMESPACE, BUCKET_NAME, rps)"
   ]
  },
  {
   "cell_type": "markdown",
   "id": "7bb2981f",
   "metadata": {},
   "source": [
    "#### Copy a list of files from a local directory to a bucket\n",
    "\n",
    "using **copy_list_objects_to_oss**"
   ]
  },
  {
   "cell_type": "code",
   "execution_count": 6,
   "id": "417cf3e6",
   "metadata": {},
   "outputs": [
    {
     "name": "stdout",
     "output_type": "stream",
     "text": [
      "Copy oracle1.jpeg done!\n",
      "Copy oracle2.jpeg done!\n",
      "Copy oracle_red_bull1.jpeg done!\n",
      "Copy oracle_red_bull2.jpeg done!\n"
     ]
    }
   ],
   "source": [
    "BUCKET_DEST = \"bucket-temp\"\n",
    "\n",
    "copy_list_objects_to_oss(list_files, \"./temp1\", NAMESPACE, BUCKET_DEST, rps)"
   ]
  },
  {
   "cell_type": "markdown",
   "id": "264f6704",
   "metadata": {},
   "source": [
    "In **utils.py** you have also the code for a single file copy."
   ]
  },
  {
   "cell_type": "code",
   "execution_count": null,
   "id": "26298484",
   "metadata": {},
   "outputs": [],
   "source": []
  }
 ],
 "metadata": {
  "kernelspec": {
   "display_name": "Python [conda env:pytorch110_p37_gpu_v1]",
   "language": "python",
   "name": "conda-env-pytorch110_p37_gpu_v1-py"
  },
  "language_info": {
   "codemirror_mode": {
    "name": "ipython",
    "version": 3
   },
   "file_extension": ".py",
   "mimetype": "text/x-python",
   "name": "python",
   "nbconvert_exporter": "python",
   "pygments_lexer": "ipython3",
   "version": "3.7.12"
  }
 },
 "nbformat": 4,
 "nbformat_minor": 5
}
