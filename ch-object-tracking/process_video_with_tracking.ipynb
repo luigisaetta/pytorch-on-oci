{
 "cells": [
  {
   "cell_type": "markdown",
   "id": "f272a124",
   "metadata": {},
   "source": [
    "### YOLO V8 Plane Detector: Object detection & tracking\n",
    "\n",
    "Features\n",
    "* process a video\n",
    "* using YOLO v8 model\n",
    "* using deep_sort for Object Tracking (https://github.com/levan92/deep_sort_realtime)\n",
    "\n",
    "Added features:\n",
    "* YOLO model is incapsulated in the ObjectDetector class\n",
    "* process only every n frames (for speed up)"
   ]
  },
  {
   "cell_type": "code",
   "execution_count": 1,
   "id": "2789ba3e",
   "metadata": {},
   "outputs": [],
   "source": [
    "import math\n",
    "import numpy as np\n",
    "from tqdm import tqdm\n",
    "import cv2\n",
    "\n",
    "from object_detector import ObjectDetector\n",
    "\n",
    "# added for tracking with DeepSort\n",
    "from deep_sort_realtime.deepsort_tracker import DeepSort"
   ]
  },
  {
   "cell_type": "code",
   "execution_count": 2,
   "id": "5041da6b",
   "metadata": {},
   "outputs": [],
   "source": [
    "# YOLO custom trained path (passati a modello large)\n",
    "MODEL_PATH = \"/home/datascience/yolov8/runs/detect/train12/weights/best.pt\"\n",
    "\n",
    "# Video in input\n",
    "# pattuglia di jet\n",
    "# VIDEO_PATH = \"mixkit-jet1.mp4\"\n",
    "# VIDEO_PATH = \"mixkit-crossing.mp4\"\n",
    "VIDEO_INPUT = \"mixkit-military.mp4\"\n",
    "\n",
    "CODEC = \"mp4v\"\n",
    "FOURCC = cv2.VideoWriter_fourcc(*CODEC)\n",
    "\n",
    "# to create the name for the video with BB + Id\n",
    "ONLY_NAME = VIDEO_INPUT.split(\".\")[0]\n",
    "VIDEO_OUTPUT = f\"{ONLY_NAME}_bb.mp4\"\n",
    "\n",
    "# settings for the BB that will be added\n",
    "# remember: OpenCV is BGR\n",
    "COLOR = (0, 0, 255)  # red\n",
    "\n",
    "TEXT_COLOR = (0, 0, 0)  # black\n",
    "TICKNESS = 1\n",
    "TEXT_TICKNESS = 2\n",
    "FONT = cv2.FONT_HERSHEY_SIMPLEX\n",
    "FONT_SIZE = 0.6\n",
    "\n",
    "# shift from BB\n",
    "TEXT_OFFSET = 10\n",
    "\n",
    "# DeepSort parameters\n",
    "# 2 seconds (if fps=30)\n",
    "MAX_AGE = 60\n",
    "\n",
    "# to speed up you can choose to process only every... x frames\n",
    "PROCESS_EVERY = 2"
   ]
  },
  {
   "cell_type": "code",
   "execution_count": 3,
   "id": "7c67e898",
   "metadata": {},
   "outputs": [
    {
     "name": "stdout",
     "output_type": "stream",
     "text": [
      "\n",
      "Input video analysis:\n",
      "\n",
      "Video duration: 26.4 sec.\n",
      "Number of frames: 792\n",
      "Fps: 30\n",
      "\n"
     ]
    }
   ],
   "source": [
    "# for the original video\n",
    "cap = cv2.VideoCapture(VIDEO_INPUT)\n",
    "\n",
    "n_frames = int(cap.get(cv2.CAP_PROP_FRAME_COUNT))\n",
    "fps = math.ceil(cap.get(cv2.CAP_PROP_FPS))\n",
    "duration = round(n_frames / fps, 1)\n",
    "\n",
    "print()\n",
    "print(\"Input video analysis:\")\n",
    "print()\n",
    "print(f\"Video duration: {duration} sec.\")\n",
    "print(f\"Number of frames: {n_frames}\")\n",
    "print(f\"Fps: {fps}\")\n",
    "print()"
   ]
  },
  {
   "cell_type": "markdown",
   "id": "e753d7cc",
   "metadata": {},
   "source": [
    "#### Apply YOLO + Deepsort to single frames"
   ]
  },
  {
   "cell_type": "code",
   "execution_count": 4,
   "id": "6c68097f",
   "metadata": {},
   "outputs": [
    {
     "name": "stdout",
     "output_type": "stream",
     "text": [
      "Processing input video mixkit-military.mp4...\n",
      "\n",
      "Loading YOLO v8 model..\n",
      "Loaded YOLO v8 model..\n",
      "\n"
     ]
    },
    {
     "name": "stderr",
     "output_type": "stream",
     "text": [
      "100%|██████████| 792/792 [00:54<00:00, 14.61it/s]\n"
     ]
    }
   ],
   "source": [
    "print(f\"Processing input video {VIDEO_INPUT}...\")\n",
    "print()\n",
    "\n",
    "# read the first frame and initialize\n",
    "ret, frame = cap.read()\n",
    "\n",
    "# take height, width from the first frame\n",
    "height, width, _ = frame.shape\n",
    "\n",
    "# to take into account PROCESS_EVERY\n",
    "new_fps = math.ceil(fps / PROCESS_EVERY)\n",
    "\n",
    "# the annotated (output) video\n",
    "video = cv2.VideoWriter(VIDEO_OUTPUT, FOURCC, new_fps, (width, height))\n",
    "\n",
    "# load and init YOLO\n",
    "object_detector = ObjectDetector(model_path=MODEL_PATH)\n",
    "\n",
    "# init DeepSort\n",
    "tracker = DeepSort(max_age=MAX_AGE)\n",
    "\n",
    "# for stats\n",
    "n_track_confirmed = 0\n",
    "n_track_not_confirmed = 0\n",
    "frame_counter = 1\n",
    "\n",
    "# process frame by frame\n",
    "# tqdm for progress bar\n",
    "with tqdm(total=n_frames) as pbar:\n",
    "    while ret:\n",
    "        # process every PROCESS_EVERY frame\n",
    "        if frame_counter % PROCESS_EVERY == 0:\n",
    "            # calls the YOLO model\n",
    "            detections = object_detector.detect(frame)\n",
    "            # detections is a list with tuples of this kind\n",
    "            # ([l, t, w, h], conf, v_cls)\n",
    "\n",
    "            # apply deepsort\n",
    "            tracks = tracker.update_tracks(detections, frame=np.asarray(frame))\n",
    "\n",
    "            # make a copy to add bb\n",
    "            new_image = frame.copy()\n",
    "\n",
    "            # add bb + id to image\n",
    "            for track in tracks:\n",
    "                if not track.is_confirmed():\n",
    "                    # skip\n",
    "                    n_track_not_confirmed += 1\n",
    "                else:\n",
    "                    n_track_confirmed += 1\n",
    "\n",
    "                    # this way you get the track id\n",
    "                    track_id = track.track_id\n",
    "\n",
    "                    # get BB from tracker\n",
    "                    ltrb = track.to_ltrb().astype(int)\n",
    "\n",
    "                    # check if bb is correctly formed\n",
    "                    if len(ltrb) == 4:\n",
    "                        # add BB to image\n",
    "                        new_image = cv2.rectangle(\n",
    "                            new_image,\n",
    "                            (ltrb[0], ltrb[1]),\n",
    "                            (ltrb[2], ltrb[3]),\n",
    "                            COLOR,\n",
    "                            TICKNESS,\n",
    "                        )\n",
    "                        # add text with Id (tracker)\n",
    "                        text_position = (ltrb[0], ltrb[1] - TEXT_OFFSET)\n",
    "                        cv2.putText(\n",
    "                            new_image,\n",
    "                            track_id,\n",
    "                            text_position,\n",
    "                            FONT,\n",
    "                            FONT_SIZE,\n",
    "                            TEXT_COLOR,\n",
    "                            TEXT_TICKNESS,\n",
    "                        )\n",
    "\n",
    "            # write the annotated image in the video\n",
    "            video.write(new_image)\n",
    "\n",
    "        # update the progress bar\n",
    "        pbar.update(1)\n",
    "\n",
    "        # read next frame from video\n",
    "        ret, frame = cap.read()\n",
    "        frame_counter += 1\n",
    "\n",
    "# close the output\n",
    "video.release()\n",
    "\n",
    "# close the input\n",
    "cap.release()"
   ]
  },
  {
   "cell_type": "code",
   "execution_count": 5,
   "id": "59bc0545",
   "metadata": {},
   "outputs": [
    {
     "name": "stdout",
     "output_type": "stream",
     "text": [
      "\n",
      "Process video with YOLO v8 Model + Deep Sort correctly terminated.\n",
      "\n",
      "Tracker stats:\n",
      "# track not confirmed: 39\n",
      "# track confirmed: 2452\n"
     ]
    }
   ],
   "source": [
    "print()\n",
    "print(\"Process video with YOLO v8 Model + Deep Sort correctly terminated.\")\n",
    "print()\n",
    "print(\"Tracker stats:\")\n",
    "print(f\"# track not confirmed: {n_track_not_confirmed}\")\n",
    "print(f\"# track confirmed: {n_track_confirmed}\")"
   ]
  },
  {
   "cell_type": "code",
   "execution_count": null,
   "id": "57b8bd34",
   "metadata": {},
   "outputs": [],
   "source": []
  }
 ],
 "metadata": {
  "kernelspec": {
   "display_name": "Python [conda env:mycomputervision_yolov8_v1_0]",
   "language": "python",
   "name": "conda-env-mycomputervision_yolov8_v1_0-py"
  },
  "language_info": {
   "codemirror_mode": {
    "name": "ipython",
    "version": 3
   },
   "file_extension": ".py",
   "mimetype": "text/x-python",
   "name": "python",
   "nbconvert_exporter": "python",
   "pygments_lexer": "ipython3",
   "version": "3.7.8"
  }
 },
 "nbformat": 4,
 "nbformat_minor": 5
}
