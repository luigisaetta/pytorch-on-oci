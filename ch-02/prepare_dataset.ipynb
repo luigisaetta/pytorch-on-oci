{
 "cells": [
  {
   "cell_type": "markdown",
   "id": "6acf4521",
   "metadata": {},
   "source": [
    "### How to: prepare a PyTorch Dataset\n",
    "\n",
    "we show how to, starting from a csv file, we wrap it in a PyTorch Dataset"
   ]
  },
  {
   "cell_type": "code",
   "execution_count": 1,
   "id": "c8295aca",
   "metadata": {},
   "outputs": [],
   "source": [
    "# using Pandas for Data Import from csv\n",
    "import pandas as pd\n",
    "\n",
    "from sklearn.preprocessing import LabelEncoder\n",
    "\n",
    "import torch\n",
    "from torch.utils.data import Dataset"
   ]
  },
  {
   "cell_type": "code",
   "execution_count": 2,
   "id": "030b983c",
   "metadata": {},
   "outputs": [],
   "source": [
    "# globals\n",
    "DEBUG = False"
   ]
  },
  {
   "cell_type": "code",
   "execution_count": 17,
   "id": "55d28ef4",
   "metadata": {},
   "outputs": [],
   "source": [
    "class AttritionDataset(Dataset):\n",
    "    \"\"\"Oracle Attrition dataset.\"\"\"\n",
    "\n",
    "    # cat cols are identified dynamically\n",
    "    # the rule used: each cols with < 10 distinct values\n",
    "    def identify_categoricals(self):\n",
    "        # theshol to identify categoricals cols\n",
    "        THR = 10\n",
    "\n",
    "        nunique = self.df.nunique()\n",
    "        types = self.df.dtypes\n",
    "\n",
    "        self.categorical_columns = []\n",
    "\n",
    "        for col in self.df.columns:\n",
    "            # identifichiamo come categoriche tutte le colonne che soddisfano questa condizione\n",
    "            # la soglia la possiamo cambiare\n",
    "            if types[col] == \"object\" or nunique[col] < THR:\n",
    "                if DEBUG:\n",
    "                    print(f\"{col} distinct values: {self.df[col].nunique()}\")\n",
    "\n",
    "                self.categorical_columns.append(col)\n",
    "\n",
    "    def codify_categoricals(self):\n",
    "        for col in self.categorical_columns:\n",
    "            # codifichiamo i categorici con LabelEncoder\n",
    "            l_enc = LabelEncoder()\n",
    "            self.df[col] = l_enc.fit_transform(self.df[col].values)\n",
    "\n",
    "    \"\"\"\n",
    "    In __init__ we encapsulate the logic for loading the data from csv\n",
    "    remove unneeded cols\n",
    "    identify categoricals\n",
    "    codify as integer, using LabelEncoder categoricals\n",
    "    \"\"\"\n",
    "\n",
    "    def __init__(self, csv_file):\n",
    "        \"\"\"Initializes instance of class AttritionDataset.\n",
    "\n",
    "        Args:\n",
    "            csv_file (str): Path to the csv file with the data.\n",
    "\n",
    "        \"\"\"\n",
    "        # here we read the entire csv\n",
    "        self.df = pd.read_csv(csv_file)\n",
    "\n",
    "        # cols not to be used\n",
    "        self.cols_to_drop = [\n",
    "            \"Directs\",\n",
    "            \"name\",\n",
    "            \"Over18\",\n",
    "            \"WeeklyWorkedHours\",\n",
    "            \"EmployeeNumber\",\n",
    "        ]\n",
    "\n",
    "        self.target = \"Attrition\"\n",
    "\n",
    "        # dropping cols not to be used\n",
    "        self.df = self.df.drop(columns=self.cols_to_drop)\n",
    "\n",
    "        # label encoding of categoricals\n",
    "        self.identify_categoricals()\n",
    "        self.codify_categoricals()\n",
    "\n",
    "        # Save features and target as tensors\n",
    "        self.X = torch.from_numpy(self.df.drop(self.target, axis=1).values)\n",
    "        self.y = torch.from_numpy(self.df[self.target].values)\n",
    "\n",
    "    \"\"\"\n",
    "    A PyTorch Dataset has two fundamentals methods\n",
    "    __len__ must return the number of records in the dataset\n",
    "    __get_item must return item of index idx\n",
    "    \"\"\"\n",
    "\n",
    "    def __len__(self):\n",
    "        return self.X.shape[0]\n",
    "\n",
    "    def __getitem__(self, idx):\n",
    "        # Convert idx from tensor to list due to pandas bug (that arises when using pytorch's random_split)\n",
    "        # if isinstance(idx, torch.Tensor):\n",
    "        #    idx = idx.tolist()\n",
    "\n",
    "        return (self.X[idx], self.y[idx])"
   ]
  },
  {
   "cell_type": "markdown",
   "id": "99acbd62",
   "metadata": {},
   "source": [
    "#### Instantiate the dataset from csv file"
   ]
  },
  {
   "cell_type": "code",
   "execution_count": 41,
   "id": "83b30bfc",
   "metadata": {},
   "outputs": [],
   "source": [
    "attrition_path = \"/opt/notebooks/ads-examples/oracle_data/orcl_attrition.csv\"\n",
    "\n",
    "attrition_ds = AttritionDataset(attrition_path)"
   ]
  },
  {
   "cell_type": "markdown",
   "id": "c39bb3e9",
   "metadata": {},
   "source": [
    "#### Get # of records and one item from the dataset"
   ]
  },
  {
   "cell_type": "code",
   "execution_count": 42,
   "id": "a5af817b",
   "metadata": {},
   "outputs": [
    {
     "name": "stdout",
     "output_type": "stream",
     "text": [
      "The number of records in the dataset is: 1470\n",
      "\n",
      "One example is: (tensor([   36,     0,  3710,     2,    17,     2,     3,     0,     1,    84,\n",
      "            3,     0,     2,     1,     1,  2426, 16479,     0,     0,    13,\n",
      "            0,     2,     1,     6,     5,     2,     5,     4,     0,     3]), tensor(0))\n"
     ]
    }
   ],
   "source": [
    "INDEX = 10\n",
    "print(f\"The number of records in the dataset is: {len(attrition_ds)}\")\n",
    "print()\n",
    "print(f\"One example is: {attrition_ds[INDEX]}\")"
   ]
  },
  {
   "cell_type": "code",
   "execution_count": 43,
   "id": "c35916ea",
   "metadata": {},
   "outputs": [],
   "source": [
    "# we can separate vec and label this way\n",
    "vec, label = attrition_ds[INDEX]"
   ]
  },
  {
   "cell_type": "code",
   "execution_count": 44,
   "id": "1f65d9a5",
   "metadata": {},
   "outputs": [
    {
     "data": {
      "text/plain": [
       "tensor(0)"
      ]
     },
     "execution_count": 44,
     "metadata": {},
     "output_type": "execute_result"
    }
   ],
   "source": [
    "label"
   ]
  },
  {
   "cell_type": "code",
   "execution_count": 45,
   "id": "ada9c747",
   "metadata": {},
   "outputs": [
    {
     "data": {
      "text/plain": [
       "torch.Size([30])"
      ]
     },
     "execution_count": 45,
     "metadata": {},
     "output_type": "execute_result"
    }
   ],
   "source": [
    "vec.shape"
   ]
  },
  {
   "cell_type": "code",
   "execution_count": null,
   "id": "0a724014",
   "metadata": {},
   "outputs": [],
   "source": []
  }
 ],
 "metadata": {
  "kernelspec": {
   "display_name": "Python [conda env:pytorch110_p37_gpu_v1]",
   "language": "python",
   "name": "conda-env-pytorch110_p37_gpu_v1-py"
  },
  "language_info": {
   "codemirror_mode": {
    "name": "ipython",
    "version": 3
   },
   "file_extension": ".py",
   "mimetype": "text/x-python",
   "name": "python",
   "nbconvert_exporter": "python",
   "pygments_lexer": "ipython3",
   "version": "3.7.12"
  }
 },
 "nbformat": 4,
 "nbformat_minor": 5
}
