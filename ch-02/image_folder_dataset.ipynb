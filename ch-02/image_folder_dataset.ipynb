{
 "cells": [
  {
   "cell_type": "markdown",
   "id": "7466d9a2",
   "metadata": {},
   "source": [
    "#### ImageFolder dataset\n",
    "\n",
    "How to create a **data loader** from images organized in folder associated with class"
   ]
  },
  {
   "cell_type": "code",
   "execution_count": 20,
   "id": "083239e2",
   "metadata": {},
   "outputs": [],
   "source": [
    "import os\n",
    "import glob\n",
    "import time\n",
    "import random\n",
    "import numpy as np\n",
    "from tqdm import tqdm\n",
    "\n",
    "import torch\n",
    "import torchvision\n",
    "import torchvision.transforms as T\n",
    "\n",
    "from torch.utils.data import Dataset, DataLoader"
   ]
  },
  {
   "cell_type": "code",
   "execution_count": 27,
   "id": "03611f6a",
   "metadata": {},
   "outputs": [],
   "source": [
    "# cats images are in cat folder\n",
    "# dogs images are in dog folder\n",
    "BASE_DIR = \"/home/datascience/pytorch-on-oci/ch-03/train_cats_dogs2\"\n",
    "\n",
    "TRANSFORM_IMG = T.Compose([\n",
    "    T.Resize((224, 224)),\n",
    "    T.ToTensor(),\n",
    "    T.Normalize(mean=[0.485, 0.456, 0.406],\n",
    "                std=[0.229, 0.224, 0.225] )\n",
    "    ])"
   ]
  },
  {
   "cell_type": "code",
   "execution_count": 28,
   "id": "0db56a6d",
   "metadata": {},
   "outputs": [],
   "source": [
    "dataset = torchvision.datasets.ImageFolder(BASE_DIR, transform=TRANSFORM_IMG)"
   ]
  },
  {
   "cell_type": "code",
   "execution_count": 32,
   "id": "5a455dea",
   "metadata": {},
   "outputs": [
    {
     "name": "stdout",
     "output_type": "stream",
     "text": [
      "Image label is 0 and tensor shape is torch.Size([3, 224, 224])\n"
     ]
    }
   ],
   "source": [
    "img_tensor, label = dataset[0]\n",
    "\n",
    "print(f\"Image label is {label} and tensor shape is {img_tensor.shape}\")"
   ]
  },
  {
   "cell_type": "code",
   "execution_count": null,
   "id": "6be0b471",
   "metadata": {},
   "outputs": [],
   "source": []
  }
 ],
 "metadata": {
  "kernelspec": {
   "display_name": "Python [conda env:computervision_p37_gpu_v1]",
   "language": "python",
   "name": "conda-env-computervision_p37_gpu_v1-py"
  },
  "language_info": {
   "codemirror_mode": {
    "name": "ipython",
    "version": 3
   },
   "file_extension": ".py",
   "mimetype": "text/x-python",
   "name": "python",
   "nbconvert_exporter": "python",
   "pygments_lexer": "ipython3",
   "version": "3.7.8"
  }
 },
 "nbformat": 4,
 "nbformat_minor": 5
}
