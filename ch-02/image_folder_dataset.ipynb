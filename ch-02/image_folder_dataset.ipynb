{
 "cells": [
  {
   "cell_type": "markdown",
   "id": "3b49fb35",
   "metadata": {},
   "source": [
    "#### ImageFolder dataset\n",
    "\n",
    "How to create a **dataset** from images organized in folder associated with class"
   ]
  },
  {
   "cell_type": "code",
   "execution_count": 20,
   "id": "bb6a9a55",
   "metadata": {},
   "outputs": [],
   "source": [
    "import os\n",
    "import glob\n",
    "import time\n",
    "import random\n",
    "import numpy as np\n",
    "from tqdm import tqdm\n",
    "\n",
    "import torch\n",
    "import torchvision\n",
    "import torchvision.transforms as T\n",
    "\n",
    "from torch.utils.data import Dataset, DataLoader"
   ]
  },
  {
   "cell_type": "code",
   "execution_count": 33,
   "id": "1dcc3bd8",
   "metadata": {},
   "outputs": [],
   "source": [
    "# cats images are in cat folder\n",
    "# dogs images are in dog folder\n",
    "BASE_DIR = \"/home/datascience/pytorch-on-oci/ch-03/train_cats_dogs2\"\n",
    "\n",
    "TRANSFORM_IMG = T.Compose([\n",
    "    T.Resize((224, 224)),\n",
    "    T.ToTensor(),\n",
    "    T.Normalize(mean=[0.485, 0.456, 0.406],\n",
    "                std=[0.229, 0.224, 0.225] )\n",
    "    ])"
   ]
  },
  {
   "cell_type": "code",
   "execution_count": 37,
   "id": "03001bb3",
   "metadata": {},
   "outputs": [],
   "source": [
    "# you can plug the transformation here or in the training loop\n",
    "# without the transform it returns PIL images\n",
    "dataset = torchvision.datasets.ImageFolder(BASE_DIR, transform=TRANSFORM_IMG)"
   ]
  },
  {
   "cell_type": "code",
   "execution_count": 38,
   "id": "22640988",
   "metadata": {},
   "outputs": [
    {
     "name": "stdout",
     "output_type": "stream",
     "text": [
      "Image label is 0 and tensor shape is torch.Size([3, 224, 224])\n"
     ]
    }
   ],
   "source": [
    "img_tensor, label = dataset[0]\n",
    "\n",
    "print(f\"Image label is {label} and tensor shape is {img_tensor.shape}\")"
   ]
  },
  {
   "cell_type": "code",
   "execution_count": null,
   "id": "d53632f6",
   "metadata": {},
   "outputs": [],
   "source": []
  }
 ],
 "metadata": {
  "kernelspec": {
   "display_name": "Python [conda env:computervision_p37_gpu_v1]",
   "language": "python",
   "name": "conda-env-computervision_p37_gpu_v1-py"
  },
  "language_info": {
   "codemirror_mode": {
    "name": "ipython",
    "version": 3
   },
   "file_extension": ".py",
   "mimetype": "text/x-python",
   "name": "python",
   "nbconvert_exporter": "python",
   "pygments_lexer": "ipython3",
   "version": "3.7.8"
  }
 },
 "nbformat": 4,
 "nbformat_minor": 5
}
