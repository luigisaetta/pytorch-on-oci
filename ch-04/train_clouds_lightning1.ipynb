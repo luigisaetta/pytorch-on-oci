{
 "cells": [
  {
   "cell_type": "markdown",
   "id": "662c8778",
   "metadata": {},
   "source": [
    "### Cloud Classifier based on PyTorch Lightning\n",
    "\n",
    "dataset used from: https://www.kaggle.com/competitions/cloud-type-classification2"
   ]
  },
  {
   "cell_type": "code",
   "execution_count": 1,
   "id": "b0957650",
   "metadata": {},
   "outputs": [],
   "source": [
    "import random\n",
    "import pandas as pd\n",
    "import matplotlib.pyplot as plt\n",
    "import seaborn as sns\n",
    "from sklearn.model_selection import train_test_split\n",
    "from tqdm import tqdm\n",
    "\n",
    "from PIL import Image\n",
    "\n",
    "from pytorch_lightning import LightningModule, Trainer\n",
    "from pytorch_lightning.callbacks.progress import TQDMProgressBar\n",
    "from pytorch_lightning.callbacks import ModelCheckpoint\n",
    "from pytorch_lightning.loggers import CSVLogger\n",
    "\n",
    "import torch\n",
    "from torch import nn\n",
    "from torch.nn import functional as F\n",
    "import torchvision.transforms as T\n",
    "from torch.utils.data import Dataset, DataLoader, random_split\n",
    "from torchmetrics import Accuracy\n",
    "# the backbone\n",
    "from torchvision.models import efficientnet_b0\n",
    "\n",
    "sns.set()\n",
    "\n",
    "%matplotlib inline"
   ]
  },
  {
   "cell_type": "code",
   "execution_count": 2,
   "id": "46f02e87",
   "metadata": {},
   "outputs": [],
   "source": [
    "# globals\n",
    "BATCH_SIZE = 16\n",
    "EPOCHS = 10\n",
    "\n",
    "# for train dataloader.\n",
    "NUM_WORKERS = 12\n",
    "\n",
    "# size of the image we're working on\n",
    "# fit for EffNetB0\n",
    "IMAGE_SIDE = 224\n",
    "\n",
    "DIR_TRAIN = \"./images/train/\"\n",
    "\n",
    "# number of different clouds types\n",
    "N_CLASSES = 7"
   ]
  },
  {
   "cell_type": "code",
   "execution_count": 3,
   "id": "2f3203c8",
   "metadata": {},
   "outputs": [],
   "source": [
    "# here we read the csv\n",
    "train_csv_df = pd.read_csv(\"train.csv\")"
   ]
  },
  {
   "cell_type": "code",
   "execution_count": 4,
   "id": "35e4a19d",
   "metadata": {},
   "outputs": [],
   "source": [
    "# I'm using mean and std for ImageNet\n",
    "MEANS = [0.485, 0.456, 0.406]\n",
    "STDS = [0.229, 0.224, 0.225]\n",
    "\n",
    "def get_train_transform():\n",
    "    return T.Compose(\n",
    "        [\n",
    "            T.Resize((IMAGE_SIDE, IMAGE_SIDE)),\n",
    "            T.RandomHorizontalFlip(p=0.5),\n",
    "            T.RandomVerticalFlip(p=0.5),\n",
    "            T.RandomRotation(25),\n",
    "            T.RandomAdjustSharpness(sharpness_factor=1.5, p=0.3),\n",
    "            T.ToTensor(),\n",
    "            T.Normalize(mean=MEANS, std=STDS),\n",
    "        ]\n",
    "    )\n",
    "\n",
    "# val transforms doesn't make augmentation: we want to validate every time\n",
    "# on the same images\n",
    "def get_val_transform():\n",
    "    return T.Compose(\n",
    "        [\n",
    "            T.Resize((IMAGE_SIDE, IMAGE_SIDE)),\n",
    "            T.ToTensor(), \n",
    "            T.Normalize(mean=MEANS, std=STDS)\n",
    "        ]\n",
    "    )"
   ]
  },
  {
   "cell_type": "code",
   "execution_count": 5,
   "id": "652ba268",
   "metadata": {},
   "outputs": [],
   "source": [
    "class CloudsDataset(Dataset):\n",
    "    def __init__(self, df, transforms=None):\n",
    "        super().__init__()\n",
    "        # list with imgs names\n",
    "        self.imgs = df['id'].values\n",
    "        self.df = df\n",
    "        self.labels = df['label'].values\n",
    "        self.transforms = transforms\n",
    "\n",
    "    def __getitem__(self, idx):\n",
    "        full_image_name = DIR_TRAIN + self.imgs[idx]\n",
    "        \n",
    "        img = Image.open(full_image_name)\n",
    "        # OK for EfficientNet B0\n",
    "        # if scaling to another EffNet change the size here!\n",
    "        img = self.transforms(img)\n",
    "\n",
    "        # get the label\n",
    "        label = self.labels[idx]\n",
    "        label = torch.tensor(label, dtype=torch.long)\n",
    "        \n",
    "        return img, label\n",
    "\n",
    "    def __len__(self):\n",
    "        return len(self.imgs)"
   ]
  },
  {
   "cell_type": "markdown",
   "id": "7de3d001",
   "metadata": {},
   "source": [
    "#### Datasets and DataLoaders"
   ]
  },
  {
   "cell_type": "code",
   "execution_count": 6,
   "id": "e99f3c6a",
   "metadata": {},
   "outputs": [
    {
     "name": "stdout",
     "output_type": "stream",
     "text": [
      "We have 864 imgs for training\n",
      "We have 96 imgs for validation\n"
     ]
    }
   ],
   "source": [
    "# split in train and validation\n",
    "# added shuffling (LS, 9/11/2022)\n",
    "train_df_used, val_df_used = train_test_split(train_csv_df, shuffle= True, test_size=0.10)\n",
    "\n",
    "print(f\"We have {len(train_df_used)} imgs for training\")\n",
    "print(f\"We have {len(val_df_used)} imgs for validation\")"
   ]
  },
  {
   "cell_type": "code",
   "execution_count": 7,
   "id": "24c0d60a",
   "metadata": {},
   "outputs": [],
   "source": [
    "# datasets\n",
    "train_ds = CloudsDataset(train_df_used, transforms=get_train_transform())\n",
    "val_ds = CloudsDataset(val_df_used, transforms=get_val_transform())\n",
    "\n",
    "# data loaders\n",
    "train_dl = DataLoader(\n",
    "    dataset=train_ds, num_workers=NUM_WORKERS, batch_size=BATCH_SIZE, shuffle=True, pin_memory=True\n",
    ")\n",
    "\n",
    "val_dl = DataLoader(\n",
    "    dataset=val_ds, num_workers=NUM_WORKERS, batch_size=BATCH_SIZE, shuffle=False\n",
    ")"
   ]
  },
  {
   "cell_type": "markdown",
   "id": "23bf45bb",
   "metadata": {},
   "source": [
    "#### Model"
   ]
  },
  {
   "cell_type": "code",
   "execution_count": 8,
   "id": "773d04d9",
   "metadata": {},
   "outputs": [],
   "source": [
    "class LitCloudClassifierB0(LightningModule):\n",
    "    def __init__(self, learning_rate=0.0001):\n",
    "\n",
    "        super().__init__()\n",
    "\n",
    "        # Set our init args as class attributes\n",
    "        self.lr = learning_rate\n",
    "\n",
    "        # dataset specific attributes\n",
    "        self.num_classes = N_CLASSES\n",
    "        \n",
    "        # Define PyTorch model: a simple CNN\n",
    "        self.model = efficientnet_b0(pretrained=True)\n",
    "        self.model.classifier[1] = nn.Sequential(nn.Linear(1280,self.num_classes, bias=True))\n",
    "\n",
    "        self.val_accuracy = Accuracy()\n",
    "        self.test_accuracy = Accuracy()\n",
    "\n",
    "    def forward(self, x):\n",
    "        # the model outputs logits not probabilities\n",
    "        # this is better for numerical stability\n",
    "        x = self.model(x)\n",
    "        return F.log_softmax(x, dim=1)\n",
    "    \n",
    "    def training_step(self, batch, batch_idx):\n",
    "        x, y = batch\n",
    "        logits = self(x)\n",
    "        loss = F.nll_loss(logits, y)\n",
    "        return loss\n",
    "\n",
    "    def validation_step(self, batch, batch_idx):\n",
    "        x, y = batch\n",
    "        logits = self(x)\n",
    "        loss = F.nll_loss(logits, y)\n",
    "        preds = torch.argmax(logits, dim=1)\n",
    "        self.val_accuracy.update(preds, y)\n",
    "\n",
    "        # Calling self.log will surface up scalars for you in TensorBoard\n",
    "        self.log(\"val_loss\", loss, prog_bar=True)\n",
    "        self.log(\"val_acc\", self.val_accuracy, prog_bar=True)\n",
    "\n",
    "    def test_step(self, batch, batch_idx):\n",
    "        x, y = batch\n",
    "        logits = self(x)\n",
    "        loss = F.nll_loss(logits, y)\n",
    "        preds = torch.argmax(logits, dim=1)\n",
    "        self.test_accuracy.update(preds, y)\n",
    "\n",
    "        # Calling self.log will surface up scalars for you in TensorBoard\n",
    "        self.log(\"test_loss\", loss, prog_bar=True)\n",
    "        self.log(\"test_acc\", self.test_accuracy, prog_bar=True)\n",
    "\n",
    "    def configure_optimizers(self):\n",
    "        # for now fixed LR\n",
    "        optimizer = torch.optim.Adam(self.parameters(), lr=self.lr)\n",
    "        \n",
    "        return optimizer"
   ]
  },
  {
   "cell_type": "code",
   "execution_count": 9,
   "id": "1e1d6dd2",
   "metadata": {},
   "outputs": [],
   "source": [
    "checkpoint_callback = ModelCheckpoint(dirpath=\"checkpoint_clouds\", save_top_k=2, monitor=\"val_loss\",\n",
    "                                     mode=\"min\",\n",
    "                                     filename=\"clouds-{epoch:02d}-{val_loss:.2f}\")"
   ]
  },
  {
   "cell_type": "code",
   "execution_count": 10,
   "id": "ba59ae42",
   "metadata": {},
   "outputs": [
    {
     "name": "stderr",
     "output_type": "stream",
     "text": [
      "Using 16bit native Automatic Mixed Precision (AMP)\n",
      "GPU available: True (cuda), used: True\n",
      "TPU available: False, using: 0 TPU cores\n",
      "IPU available: False, using: 0 IPUs\n",
      "HPU available: False, using: 0 HPUs\n"
     ]
    }
   ],
   "source": [
    "model = LitCloudClassifierB0()\n",
    "\n",
    "trainer = Trainer(\n",
    "    accelerator=\"auto\",\n",
    "    # we can choose to use mixed precision, to reduce mem. footprint\n",
    "    precision=16,\n",
    "    devices=1 if torch.cuda.is_available() else None,\n",
    "    max_epochs=EPOCHS,\n",
    "    callbacks=[TQDMProgressBar(refresh_rate=5), checkpoint_callback],\n",
    "    logger=CSVLogger(save_dir=\"logs/\"),\n",
    ")"
   ]
  },
  {
   "cell_type": "code",
   "execution_count": 11,
   "id": "21684f10",
   "metadata": {},
   "outputs": [
    {
     "name": "stderr",
     "output_type": "stream",
     "text": [
      "/home/datascience/conda/computervision_p37_gpu_v1/lib/python3.7/site-packages/pytorch_lightning/callbacks/model_checkpoint.py:606: UserWarning: Checkpoint directory /home/datascience/clouds_recognition/checkpoint_clouds exists and is not empty.\n",
      "  rank_zero_warn(f\"Checkpoint directory {dirpath} exists and is not empty.\")\n",
      "LOCAL_RANK: 0 - CUDA_VISIBLE_DEVICES: [0]\n",
      "\n",
      "  | Name          | Type         | Params\n",
      "-----------------------------------------------\n",
      "0 | model         | EfficientNet | 4.0 M \n",
      "1 | val_accuracy  | Accuracy     | 0     \n",
      "2 | test_accuracy | Accuracy     | 0     \n",
      "-----------------------------------------------\n",
      "4.0 M     Trainable params\n",
      "0         Non-trainable params\n",
      "4.0 M     Total params\n",
      "8.033     Total estimated model params size (MB)\n"
     ]
    },
    {
     "data": {
      "application/vnd.jupyter.widget-view+json": {
       "model_id": "",
       "version_major": 2,
       "version_minor": 0
      },
      "text/plain": [
       "Sanity Checking: 0it [00:00, ?it/s]"
      ]
     },
     "metadata": {},
     "output_type": "display_data"
    },
    {
     "data": {
      "application/vnd.jupyter.widget-view+json": {
       "model_id": "7eaee0eedca54a1baca5f25daaf6e8f8",
       "version_major": 2,
       "version_minor": 0
      },
      "text/plain": [
       "Training: 0it [00:00, ?it/s]"
      ]
     },
     "metadata": {},
     "output_type": "display_data"
    },
    {
     "data": {
      "application/vnd.jupyter.widget-view+json": {
       "model_id": "",
       "version_major": 2,
       "version_minor": 0
      },
      "text/plain": [
       "Validation: 0it [00:00, ?it/s]"
      ]
     },
     "metadata": {},
     "output_type": "display_data"
    },
    {
     "data": {
      "application/vnd.jupyter.widget-view+json": {
       "model_id": "",
       "version_major": 2,
       "version_minor": 0
      },
      "text/plain": [
       "Validation: 0it [00:00, ?it/s]"
      ]
     },
     "metadata": {},
     "output_type": "display_data"
    },
    {
     "data": {
      "application/vnd.jupyter.widget-view+json": {
       "model_id": "",
       "version_major": 2,
       "version_minor": 0
      },
      "text/plain": [
       "Validation: 0it [00:00, ?it/s]"
      ]
     },
     "metadata": {},
     "output_type": "display_data"
    },
    {
     "data": {
      "application/vnd.jupyter.widget-view+json": {
       "model_id": "",
       "version_major": 2,
       "version_minor": 0
      },
      "text/plain": [
       "Validation: 0it [00:00, ?it/s]"
      ]
     },
     "metadata": {},
     "output_type": "display_data"
    },
    {
     "data": {
      "application/vnd.jupyter.widget-view+json": {
       "model_id": "",
       "version_major": 2,
       "version_minor": 0
      },
      "text/plain": [
       "Validation: 0it [00:00, ?it/s]"
      ]
     },
     "metadata": {},
     "output_type": "display_data"
    },
    {
     "data": {
      "application/vnd.jupyter.widget-view+json": {
       "model_id": "",
       "version_major": 2,
       "version_minor": 0
      },
      "text/plain": [
       "Validation: 0it [00:00, ?it/s]"
      ]
     },
     "metadata": {},
     "output_type": "display_data"
    },
    {
     "data": {
      "application/vnd.jupyter.widget-view+json": {
       "model_id": "",
       "version_major": 2,
       "version_minor": 0
      },
      "text/plain": [
       "Validation: 0it [00:00, ?it/s]"
      ]
     },
     "metadata": {},
     "output_type": "display_data"
    },
    {
     "data": {
      "application/vnd.jupyter.widget-view+json": {
       "model_id": "",
       "version_major": 2,
       "version_minor": 0
      },
      "text/plain": [
       "Validation: 0it [00:00, ?it/s]"
      ]
     },
     "metadata": {},
     "output_type": "display_data"
    },
    {
     "data": {
      "application/vnd.jupyter.widget-view+json": {
       "model_id": "",
       "version_major": 2,
       "version_minor": 0
      },
      "text/plain": [
       "Validation: 0it [00:00, ?it/s]"
      ]
     },
     "metadata": {},
     "output_type": "display_data"
    },
    {
     "data": {
      "application/vnd.jupyter.widget-view+json": {
       "model_id": "",
       "version_major": 2,
       "version_minor": 0
      },
      "text/plain": [
       "Validation: 0it [00:00, ?it/s]"
      ]
     },
     "metadata": {},
     "output_type": "display_data"
    },
    {
     "name": "stderr",
     "output_type": "stream",
     "text": [
      "`Trainer.fit` stopped: `max_epochs=10` reached.\n"
     ]
    }
   ],
   "source": [
    "trainer.fit(model, train_dl, val_dl)"
   ]
  },
  {
   "cell_type": "code",
   "execution_count": 12,
   "id": "e86d1f04",
   "metadata": {},
   "outputs": [
    {
     "data": {
      "image/png": "[encoded data removed]",
      "text/plain": [
       "<Figure size 442.85x360 with 1 Axes>"
      ]
     },
     "metadata": {
      "needs_background": "light"
     },
     "output_type": "display_data"
    }
   ],
   "source": [
    "metrics = pd.read_csv(f\"{trainer.logger.log_dir}/metrics.csv\")\n",
    "del metrics[\"step\"]\n",
    "metrics.set_index(\"epoch\", inplace=True)\n",
    "\n",
    "# if you want also in tabular format\n",
    "# display(metrics.dropna(axis=1, how=\"all\").tail(10))\n",
    "sns.relplot(data=metrics, kind=\"line\").set(title='Metrics');\n",
    "plt.grid(True)\n",
    "plt.show();"
   ]
  },
  {
   "cell_type": "markdown",
   "id": "2cb479d3",
   "metadata": {},
   "source": [
    "#### Reload the Best Model and test"
   ]
  },
  {
   "cell_type": "code",
   "execution_count": 14,
   "id": "869d8e5c",
   "metadata": {},
   "outputs": [],
   "source": [
    "model = LitCloudClassifierB0.load_from_checkpoint(\"./checkpoint_clouds/best6_09112022.ckpt\")"
   ]
  },
  {
   "cell_type": "code",
   "execution_count": 15,
   "id": "000123aa",
   "metadata": {},
   "outputs": [
    {
     "name": "stderr",
     "output_type": "stream",
     "text": [
      "LOCAL_RANK: 0 - CUDA_VISIBLE_DEVICES: [0]\n"
     ]
    },
    {
     "data": {
      "application/vnd.jupyter.widget-view+json": {
       "model_id": "fb7cd88e2df8405a9fa14c12d63d882a",
       "version_major": 2,
       "version_minor": 0
      },
      "text/plain": [
       "Testing: 0it [00:00, ?it/s]"
      ]
     },
     "metadata": {},
     "output_type": "display_data"
    },
    {
     "name": "stdout",
     "output_type": "stream",
     "text": [
      "────────────────────────────────────────────────────────────────────────────────────────────────────────────────────────\n",
      "       Test metric             DataLoader 0\n",
      "────────────────────────────────────────────────────────────────────────────────────────────────────────────────────────\n",
      "        test_acc            0.9583333134651184\n",
      "        test_loss           0.15556417405605316\n",
      "────────────────────────────────────────────────────────────────────────────────────────────────────────────────────────\n"
     ]
    },
    {
     "data": {
      "text/plain": [
       "[{'test_loss': 0.15556417405605316, 'test_acc': 0.9583333134651184}]"
      ]
     },
     "execution_count": 15,
     "metadata": {},
     "output_type": "execute_result"
    }
   ],
   "source": [
    "trainer.test(model, val_dl)"
   ]
  },
  {
   "cell_type": "markdown",
   "id": "5751c563",
   "metadata": {},
   "source": [
    "#### let's see the errors on all validation set"
   ]
  },
  {
   "cell_type": "code",
   "execution_count": null,
   "id": "6badb3b8",
   "metadata": {},
   "outputs": [],
   "source": [
    "n_test = len(val_ds)\n",
    "n_ok = 0\n",
    "\n",
    "device = torch.device(\"cuda\") if torch.cuda.is_available() else torch.device(\"cpu\")\n",
    "\n",
    "model.eval()\n",
    "model.to(device)\n",
    "\n",
    "for i in tqdm(range(n_test)):\n",
    "    img, label = val_ds[i]\n",
    "\n",
    "    img_batch = img.unsqueeze(0)\n",
    "    img_batch = img_batch.to(device)\n",
    "    \n",
    "    with torch.no_grad():\n",
    "        preds = model(img_batch)\n",
    "\n",
    "    class_predicted = torch.argmax(preds, dim=1)\n",
    "    \n",
    "    # otherwise are tensors\n",
    "    label = label.item()\n",
    "    class_predicted = class_predicted.item()\n",
    "    \n",
    "    if class_predicted == label:\n",
    "        n_ok += 1\n",
    "    else:\n",
    "        print(f\"Expected: {label}, predicted: {class_predicted}\")\n",
    "        \n",
    "print()\n",
    "print(f\"Tot. OK: {n_ok} over: {n_test}\")\n",
    "print()"
   ]
  },
  {
   "cell_type": "markdown",
   "id": "b37ecede",
   "metadata": {},
   "source": [
    "#### Prepare Submission"
   ]
  },
  {
   "cell_type": "code",
   "execution_count": null,
   "id": "6324f966",
   "metadata": {},
   "outputs": [],
   "source": [
    "DIR_TEST = \"./images/test/\"\n",
    "\n",
    "test_df = pd.read_csv(\"test.csv\")"
   ]
  },
  {
   "cell_type": "code",
   "execution_count": null,
   "id": "99104ac3",
   "metadata": {},
   "outputs": [],
   "source": [
    "test_imgs = list(test_df['id'].values)\n",
    "\n",
    "print()"
   ]
  },
  {
   "cell_type": "code",
   "execution_count": 18,
   "id": "44e688ec",
   "metadata": {},
   "outputs": [],
   "source": [
    "class CloudsTestDataset(Dataset):\n",
    "    def __init__(self, df, transforms=None):\n",
    "        super().__init__()\n",
    "        # list with imgs names\n",
    "        self.imgs = df['id'].values\n",
    "        self.df = df\n",
    "        self.transforms = transforms\n",
    "\n",
    "    def __getitem__(self, idx):\n",
    "        full_image_name = DIR_TEST + self.imgs[idx]\n",
    "        \n",
    "        img = Image.open(full_image_name)\n",
    "        # OK for EfficientNet B0\n",
    "        # if scaling to another EffNet change the size here!\n",
    "        img = self.transforms(img)\n",
    "        \n",
    "        return img\n",
    "\n",
    "    def __len__(self):\n",
    "        return len(self.imgs)"
   ]
  },
  {
   "cell_type": "code",
   "execution_count": null,
   "id": "a5c2fe2b",
   "metadata": {},
   "outputs": [],
   "source": [
    "test_ds = CloudsTestDataset(test_df, transforms=get_val_transform())"
   ]
  },
  {
   "cell_type": "code",
   "execution_count": null,
   "id": "29082272",
   "metadata": {},
   "outputs": [],
   "source": [
    "model.eval()\n",
    "model.to(device)\n",
    "\n",
    "list_preds = []\n",
    "\n",
    "for i in tqdm(range(len(test_ds))):\n",
    "    img = test_ds[i]\n",
    "\n",
    "    img_batch = img.unsqueeze(0)\n",
    "    img_batch = img_batch.to(device)\n",
    "    \n",
    "    preds = model(img_batch)\n",
    "\n",
    "    class_predicted = torch.argmax(preds)\n",
    "    class_predicted = class_predicted.item()\n",
    "    \n",
    "    list_preds.append(class_predicted)"
   ]
  },
  {
   "cell_type": "code",
   "execution_count": null,
   "id": "e195c784",
   "metadata": {},
   "outputs": [],
   "source": [
    "dict_sub = {\"id\": test_imgs, \n",
    "           \"predict\": list_preds}\n",
    "\n",
    "df_sub = pd.DataFrame(dict_sub)\n",
    "\n",
    "df_sub.to_csv(\"submit03.csv\", index=None)"
   ]
  },
  {
   "cell_type": "markdown",
   "id": "36e1a99b",
   "metadata": {},
   "source": [
    "#### EDA on val_ds"
   ]
  },
  {
   "cell_type": "code",
   "execution_count": null,
   "id": "36d96d75",
   "metadata": {},
   "outputs": [],
   "source": [
    "# Plot the results\n",
    "cases_count = val_df_used['label'].value_counts()\n",
    "\n",
    "plt.figure(figsize=(10,8))\n",
    "sns.barplot(x=cases_count.index, y= cases_count.values)\n",
    "plt.title('Number of images', fontsize=14)\n",
    "plt.xlabel('class', fontsize=12)\n",
    "plt.ylabel('Count', fontsize=12)\n",
    "plt.xticks(range(len(cases_count.index)), ['0', '1', '2', '3', '4', '5', '6'])\n",
    "plt.grid(True)\n",
    "plt.show()"
   ]
  },
  {
   "cell_type": "markdown",
   "id": "61353899",
   "metadata": {},
   "source": [
    "#### New tests"
   ]
  },
  {
   "cell_type": "code",
   "execution_count": 33,
   "id": "fd54ea9a",
   "metadata": {},
   "outputs": [],
   "source": [
    "class CloudsNewTestDataset(Dataset):\n",
    "    def __init__(self, df, transforms=None):\n",
    "        super().__init__()\n",
    "        # list with imgs names\n",
    "        self.imgs = df['id'].values\n",
    "        self.df = df\n",
    "        self.transforms = transforms\n",
    "\n",
    "    def __getitem__(self, idx):\n",
    "        img_name = self.imgs[idx]\n",
    "        full_image_name = DIR_TEST + img_name\n",
    "        \n",
    "        img = Image.open(full_image_name)\n",
    "        # OK for EfficientNet B0\n",
    "        # if scaling to another EffNet change the size here!\n",
    "        img = self.transforms(img)\n",
    "        \n",
    "        return img, img_name\n",
    "\n",
    "    def __len__(self):\n",
    "        return len(self.imgs)"
   ]
  },
  {
   "cell_type": "code",
   "execution_count": 36,
   "id": "1e400881",
   "metadata": {},
   "outputs": [
    {
     "data": {
      "text/html": [
       "<div>\n",
       "<style scoped>\n",
       "    .dataframe tbody tr th:only-of-type {\n",
       "        vertical-align: middle;\n",
       "    }\n",
       "\n",
       "    .dataframe tbody tr th {\n",
       "        vertical-align: top;\n",
       "    }\n",
       "\n",
       "    .dataframe thead th {\n",
       "        text-align: right;\n",
       "    }\n",
       "</style>\n",
       "<table border=\"1\" class=\"dataframe\">\n",
       "  <thead>\n",
       "    <tr style=\"text-align: right;\">\n",
       "      <th></th>\n",
       "      <th>id</th>\n",
       "    </tr>\n",
       "  </thead>\n",
       "  <tbody>\n",
       "    <tr>\n",
       "      <th>0</th>\n",
       "      <td>clear_sky1.jpg</td>\n",
       "    </tr>\n",
       "    <tr>\n",
       "      <th>1</th>\n",
       "      <td>cum_nembo2.jpg</td>\n",
       "    </tr>\n",
       "    <tr>\n",
       "      <th>2</th>\n",
       "      <td>strato_cumulus1.jpg</td>\n",
       "    </tr>\n",
       "    <tr>\n",
       "      <th>3</th>\n",
       "      <td>normal1.jpg</td>\n",
       "    </tr>\n",
       "    <tr>\n",
       "      <th>4</th>\n",
       "      <td>cirr2.jpg</td>\n",
       "    </tr>\n",
       "    <tr>\n",
       "      <th>5</th>\n",
       "      <td>new_cirro1.jpg</td>\n",
       "    </tr>\n",
       "    <tr>\n",
       "      <th>6</th>\n",
       "      <td>cum_nembo1.jpg</td>\n",
       "    </tr>\n",
       "  </tbody>\n",
       "</table>\n",
       "</div>"
      ],
      "text/plain": [
       "                    id\n",
       "0       clear_sky1.jpg\n",
       "1       cum_nembo2.jpg\n",
       "2  strato_cumulus1.jpg\n",
       "3          normal1.jpg\n",
       "4            cirr2.jpg\n",
       "5       new_cirro1.jpg\n",
       "6       cum_nembo1.jpg"
      ]
     },
     "execution_count": 36,
     "metadata": {},
     "output_type": "execute_result"
    }
   ],
   "source": [
    "import glob\n",
    "import os\n",
    "\n",
    "# this way I can easily add new images for test\n",
    "list_new_imgs = [os.path.basename(path) for path in glob.glob(\"./*.jpg\")]\n",
    "\n",
    "DIR_TEST = \"./\"\n",
    "dict_new_tests = {\"id\": list_new_imgs}\n",
    "\n",
    "df_new_tests = pd.DataFrame(dict_new_tests)\n",
    "\n",
    "df_new_tests.head(10)"
   ]
  },
  {
   "cell_type": "code",
   "execution_count": 37,
   "id": "32e0d0c6",
   "metadata": {},
   "outputs": [],
   "source": [
    "new_test_ds = CloudsNewTestDataset(df_new_tests, transforms=get_val_transform())"
   ]
  },
  {
   "cell_type": "code",
   "execution_count": 38,
   "id": "2dd9a839",
   "metadata": {},
   "outputs": [
    {
     "name": "stdout",
     "output_type": "stream",
     "text": [
      "clear_sky1.jpg, predicted: 6\n",
      "cum_nembo2.jpg, predicted: 4\n",
      "strato_cumulus1.jpg, predicted: 4\n",
      "normal1.jpg, predicted: 4\n",
      "cirr2.jpg, predicted: 0\n",
      "new_cirro1.jpg, predicted: 0\n",
      "cum_nembo1.jpg, predicted: 3\n"
     ]
    }
   ],
   "source": [
    "device = torch.device(\"cuda\") if torch.cuda.is_available() else torch.device(\"cpu\")\n",
    "\n",
    "model.eval()\n",
    "model.to(device)\n",
    "\n",
    "for i in range(len(new_test_ds)):\n",
    "    img, img_name = new_test_ds[i]\n",
    "\n",
    "    img_batch = img.unsqueeze(0)\n",
    "    img_batch = img_batch.to(device)\n",
    "    \n",
    "    with torch.no_grad():\n",
    "        preds = model(img_batch)\n",
    "\n",
    "    class_predicted = torch.argmax(preds, dim=1)\n",
    "        \n",
    "    print(f\"{img_name}, predicted: {class_predicted.item()}\")"
   ]
  },
  {
   "cell_type": "code",
   "execution_count": null,
   "id": "a710b3ea",
   "metadata": {},
   "outputs": [],
   "source": []
  }
 ],
 "metadata": {
  "kernelspec": {
   "display_name": "Python [conda env:computervision_p37_gpu_v1]",
   "language": "python",
   "name": "conda-env-computervision_p37_gpu_v1-py"
  },
  "language_info": {
   "codemirror_mode": {
    "name": "ipython",
    "version": 3
   },
   "file_extension": ".py",
   "mimetype": "text/x-python",
   "name": "python",
   "nbconvert_exporter": "python",
   "pygments_lexer": "ipython3",
   "version": "3.7.8"
  }
 },
 "nbformat": 4,
 "nbformat_minor": 5
}
