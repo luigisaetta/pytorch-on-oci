{
 "cells": [
  {
   "cell_type": "markdown",
   "id": "630e9577",
   "metadata": {},
   "source": [
    "### Cloud Classifier based on PyTorch Lightning\n",
    "\n",
    "dataset used from: https://www.kaggle.com/competitions/cloud-type-classification2\n",
    "\n",
    "To execute the notebook you need to download the dataset, from the kaggle competition site, with the command:\n",
    "\n",
    "kaggle competitions download -c cloud-type-classification2\n",
    "\n",
    "and unzip the downloaded file in $BASE_DIR"
   ]
  },
  {
   "cell_type": "code",
   "execution_count": 4,
   "id": "9d005599",
   "metadata": {},
   "outputs": [],
   "source": [
    "import random\n",
    "import pandas as pd\n",
    "import matplotlib.pyplot as plt\n",
    "import seaborn as sns\n",
    "from sklearn.model_selection import train_test_split\n",
    "from tqdm import tqdm\n",
    "\n",
    "from PIL import Image\n",
    "\n",
    "from pytorch_lightning import LightningModule, Trainer\n",
    "from pytorch_lightning.callbacks.progress import TQDMProgressBar\n",
    "from pytorch_lightning.callbacks import ModelCheckpoint\n",
    "from pytorch_lightning.loggers import CSVLogger\n",
    "\n",
    "import torch\n",
    "from torch import nn\n",
    "from torch.nn import functional as F\n",
    "import torchvision.transforms as T\n",
    "from torch.utils.data import Dataset, DataLoader, random_split\n",
    "from torchmetrics import Accuracy\n",
    "\n",
    "# the backbone\n",
    "from torchvision.models import efficientnet_b0\n",
    "\n",
    "sns.set()\n",
    "\n",
    "%matplotlib inline"
   ]
  },
  {
   "cell_type": "code",
   "execution_count": 5,
   "id": "e1803b6c",
   "metadata": {},
   "outputs": [],
   "source": [
    "# globals\n",
    "BATCH_SIZE = 16\n",
    "EPOCHS = 10\n",
    "\n",
    "# for train dataloader.\n",
    "NUM_WORKERS = 12\n",
    "\n",
    "# size of the image we're working on for EffNetB0\n",
    "IMAGE_SIDE = 224\n",
    "\n",
    "# the base_dir inside which we unzip the file from Kaggle\n",
    "BASE_DIR = \"/home/datascience/clouds_classification_data/\"\n",
    "\n",
    "IMAGES_TRAIN = BASE_DIR + \"images/train/\"\n",
    "IMAGES_TEST = BASE_DIR +\"images/test/\"\n",
    "\n",
    "# the file with image_name, label\n",
    "FILE_TRAIN = BASE_DIR + \"train.csv\""
   ]
  },
  {
   "cell_type": "code",
   "execution_count": 11,
   "id": "01c9889d",
   "metadata": {},
   "outputs": [],
   "source": [
    "# here we read the csv with all file name + labes\n",
    "train_csv_df = pd.read_csv(FILE_TRAIN)\n",
    "\n",
    "# count the number of classes\n",
    "# cirriform clouds,high cumuliform clouds,stratocumulus clouds,cumulus clouds,cumulonimbus clouds,stratiform clouds,clear sky\n",
    "N_CLASSES = train_csv_df['label'].nunique()"
   ]
  },
  {
   "cell_type": "markdown",
   "id": "38e3d1d8",
   "metadata": {},
   "source": [
    "#### Image trasformations (also for augmentation, applied only to train set)"
   ]
  },
  {
   "cell_type": "code",
   "execution_count": 13,
   "id": "d5602adf",
   "metadata": {},
   "outputs": [],
   "source": [
    "# I'm using mean and std for ImageNet\n",
    "MEANS = [0.485, 0.456, 0.406]\n",
    "STDS = [0.229, 0.224, 0.225]\n",
    "\n",
    "def get_train_transform():\n",
    "    return T.Compose(\n",
    "        [\n",
    "            T.Resize((IMAGE_SIDE, IMAGE_SIDE)),\n",
    "            T.RandomHorizontalFlip(p=0.5),\n",
    "            T.RandomVerticalFlip(p=0.5),\n",
    "            T.RandomRotation(25),\n",
    "            T.RandomAdjustSharpness(sharpness_factor=1.5, p=0.3),\n",
    "            T.ToTensor(),\n",
    "            T.Normalize(mean=MEANS, std=STDS),\n",
    "        ]\n",
    "    )\n",
    "\n",
    "# val transforms doesn't make augmentation: we want to validate every time\n",
    "# on the same images\n",
    "def get_val_transform():\n",
    "    return T.Compose(\n",
    "        [\n",
    "            T.Resize((IMAGE_SIDE, IMAGE_SIDE)),\n",
    "            T.ToTensor(), \n",
    "            T.Normalize(mean=MEANS, std=STDS)\n",
    "        ]\n",
    "    )"
   ]
  },
  {
   "cell_type": "markdown",
   "id": "b3cc9714",
   "metadata": {},
   "source": [
    "#### The custom dataset"
   ]
  },
  {
   "cell_type": "code",
   "execution_count": 14,
   "id": "a5344b26",
   "metadata": {},
   "outputs": [],
   "source": [
    "# pass as input the train dataframe\n",
    "class CloudsDataset(Dataset):\n",
    "    def __init__(self, df, transforms=None):\n",
    "        super().__init__()\n",
    "        self.df = df\n",
    "        # list with imgs names\n",
    "        self.imgs = df['id'].values\n",
    "        self.labels = df['label'].values\n",
    "        self.transforms = transforms\n",
    "\n",
    "    def __getitem__(self, idx):\n",
    "        full_image_name = IMAGES_TRAIN + self.imgs[idx]\n",
    "        \n",
    "        img = Image.open(full_image_name)\n",
    "        # OK for EfficientNet B0\n",
    "        # if scaling to another EffNet change the size here!\n",
    "        img = self.transforms(img)\n",
    "\n",
    "        # get the label\n",
    "        label = self.labels[idx]\n",
    "        label = torch.tensor(label, dtype=torch.long)\n",
    "        \n",
    "        return img, label\n",
    "\n",
    "    def __len__(self):\n",
    "        return len(self.imgs)"
   ]
  },
  {
   "cell_type": "markdown",
   "id": "0bd5629b",
   "metadata": {},
   "source": [
    "#### Datasets and DataLoaders"
   ]
  },
  {
   "cell_type": "code",
   "execution_count": 19,
   "id": "ede9505d",
   "metadata": {},
   "outputs": [
    {
     "name": "stdout",
     "output_type": "stream",
     "text": [
      "Train/validation split:\n",
      "We have 864 imgs for training\n",
      "We have 96 imgs for validation\n"
     ]
    }
   ],
   "source": [
    "# split in train and validation\n",
    "# added shuffling (LS, 9/11/2022)\n",
    "\n",
    "# the dataset is small, I'm using only 10% for validation\n",
    "VAL_FRAC = 0.1\n",
    "\n",
    "train_df_used, val_df_used = train_test_split(train_csv_df, shuffle= True, test_size=VAL_FRAC)\n",
    "\n",
    "print(\"Train/validation split:\")\n",
    "print(f\"We have {len(train_df_used)} imgs for training\")\n",
    "print(f\"We have {len(val_df_used)} imgs for validation\")"
   ]
  },
  {
   "cell_type": "code",
   "execution_count": 20,
   "id": "7d23a81f",
   "metadata": {},
   "outputs": [],
   "source": [
    "# datasets\n",
    "train_ds = CloudsDataset(train_df_used, transforms=get_train_transform())\n",
    "val_ds = CloudsDataset(val_df_used, transforms=get_val_transform())\n",
    "\n",
    "# data loaders\n",
    "train_dl = DataLoader(\n",
    "    dataset=train_ds, num_workers=NUM_WORKERS, batch_size=BATCH_SIZE, shuffle=True, pin_memory=True\n",
    ")\n",
    "\n",
    "val_dl = DataLoader(\n",
    "    dataset=val_ds, num_workers=NUM_WORKERS, batch_size=BATCH_SIZE, shuffle=False\n",
    ")"
   ]
  },
  {
   "cell_type": "markdown",
   "id": "6e513c87",
   "metadata": {},
   "source": [
    "#### The Lightning Model based on EffNetB0\n",
    "\n",
    "we're using the EffNetB0 from TorchVision"
   ]
  },
  {
   "cell_type": "code",
   "execution_count": 21,
   "id": "812fd8c4",
   "metadata": {},
   "outputs": [],
   "source": [
    "class LitCloudClassifierB0(LightningModule):\n",
    "    def __init__(self, learning_rate=0.0001):\n",
    "\n",
    "        super().__init__()\n",
    "\n",
    "        # Set our init args as class attributes\n",
    "        self.lr = learning_rate\n",
    "\n",
    "        # dataset specific attributes\n",
    "        self.num_classes = N_CLASSES\n",
    "        \n",
    "        # Define PyTorch model: a simple CNN\n",
    "        self.model = efficientnet_b0(pretrained=True)\n",
    "        self.model.classifier[1] = nn.Sequential(nn.Linear(1280, self.num_classes, bias=True))\n",
    "\n",
    "        self.val_accuracy = Accuracy()\n",
    "        self.test_accuracy = Accuracy()\n",
    "\n",
    "    def forward(self, x):\n",
    "        # the model outputs logits not probabilities\n",
    "        # this is better for numerical stability\n",
    "        x = self.model(x)\n",
    "        return F.log_softmax(x, dim=1)\n",
    "    \n",
    "    def training_step(self, batch, batch_idx):\n",
    "        x, y = batch\n",
    "        logits = self(x)\n",
    "        loss = F.nll_loss(logits, y)\n",
    "        return loss\n",
    "\n",
    "    def validation_step(self, batch, batch_idx):\n",
    "        x, y = batch\n",
    "        logits = self(x)\n",
    "        loss = F.nll_loss(logits, y)\n",
    "        preds = torch.argmax(logits, dim=1)\n",
    "        self.val_accuracy.update(preds, y)\n",
    "\n",
    "        # Calling self.log will surface up scalars for you in TensorBoard\n",
    "        self.log(\"val_loss\", loss, prog_bar=True)\n",
    "        self.log(\"val_acc\", self.val_accuracy, prog_bar=True)\n",
    "\n",
    "    def test_step(self, batch, batch_idx):\n",
    "        x, y = batch\n",
    "        logits = self(x)\n",
    "        loss = F.nll_loss(logits, y)\n",
    "        preds = torch.argmax(logits, dim=1)\n",
    "        self.test_accuracy.update(preds, y)\n",
    "\n",
    "        # Calling self.log will surface up scalars for you in TensorBoard\n",
    "        self.log(\"test_loss\", loss, prog_bar=True)\n",
    "        self.log(\"test_acc\", self.test_accuracy, prog_bar=True)\n",
    "\n",
    "    def configure_optimizers(self):\n",
    "        # for now fixed LR\n",
    "        optimizer = torch.optim.Adam(self.parameters(), lr=self.lr)\n",
    "        \n",
    "        return optimizer"
   ]
  },
  {
   "cell_type": "code",
   "execution_count": 22,
   "id": "92f8d50f",
   "metadata": {},
   "outputs": [],
   "source": [
    "checkpoint_callback = ModelCheckpoint(dirpath=\"checkpoint_clouds\", save_top_k=1, monitor=\"val_loss\",\n",
    "                                     mode=\"min\",\n",
    "                                     filename=\"clouds-{epoch:02d}-{val_loss:.2f}\")"
   ]
  },
  {
   "cell_type": "code",
   "execution_count": 23,
   "id": "4a30e088",
   "metadata": {},
   "outputs": [
    {
     "name": "stderr",
     "output_type": "stream",
     "text": [
      "Using 16bit native Automatic Mixed Precision (AMP)\n",
      "GPU available: True (cuda), used: True\n",
      "TPU available: False, using: 0 TPU cores\n",
      "IPU available: False, using: 0 IPUs\n",
      "HPU available: False, using: 0 HPUs\n"
     ]
    }
   ],
   "source": [
    "model = LitCloudClassifierB0()\n",
    "\n",
    "trainer = Trainer(\n",
    "    accelerator=\"auto\",\n",
    "    # we can choose to use mixed precision, to reduce mem. footprint\n",
    "    precision=16,\n",
    "    devices=1 if torch.cuda.is_available() else None,\n",
    "    max_epochs=EPOCHS,\n",
    "    callbacks=[TQDMProgressBar(refresh_rate=5), checkpoint_callback],\n",
    "    logger=CSVLogger(save_dir=\"logs/\"),\n",
    ")"
   ]
  },
  {
   "cell_type": "code",
   "execution_count": null,
   "id": "2c35548f",
   "metadata": {},
   "outputs": [
    {
     "name": "stderr",
     "output_type": "stream",
     "text": [
      "LOCAL_RANK: 0 - CUDA_VISIBLE_DEVICES: [0]\n",
      "\n",
      "  | Name          | Type         | Params\n",
      "-----------------------------------------------\n",
      "0 | model         | EfficientNet | 4.0 M \n",
      "1 | val_accuracy  | Accuracy     | 0     \n",
      "2 | test_accuracy | Accuracy     | 0     \n",
      "-----------------------------------------------\n",
      "4.0 M     Trainable params\n",
      "0         Non-trainable params\n",
      "4.0 M     Total params\n",
      "8.033     Total estimated model params size (MB)\n"
     ]
    },
    {
     "data": {
      "application/vnd.jupyter.widget-view+json": {
       "model_id": "",
       "version_major": 2,
       "version_minor": 0
      },
      "text/plain": [
       "Sanity Checking: 0it [00:00, ?it/s]"
      ]
     },
     "metadata": {},
     "output_type": "display_data"
    },
    {
     "data": {
      "application/vnd.jupyter.widget-view+json": {
       "model_id": "80b916bfb8874978b270c23dfe4f8fd4",
       "version_major": 2,
       "version_minor": 0
      },
      "text/plain": [
       "Training: 0it [00:00, ?it/s]"
      ]
     },
     "metadata": {},
     "output_type": "display_data"
    },
    {
     "data": {
      "application/vnd.jupyter.widget-view+json": {
       "model_id": "",
       "version_major": 2,
       "version_minor": 0
      },
      "text/plain": [
       "Validation: 0it [00:00, ?it/s]"
      ]
     },
     "metadata": {},
     "output_type": "display_data"
    },
    {
     "data": {
      "application/vnd.jupyter.widget-view+json": {
       "model_id": "",
       "version_major": 2,
       "version_minor": 0
      },
      "text/plain": [
       "Validation: 0it [00:00, ?it/s]"
      ]
     },
     "metadata": {},
     "output_type": "display_data"
    },
    {
     "data": {
      "application/vnd.jupyter.widget-view+json": {
       "model_id": "",
       "version_major": 2,
       "version_minor": 0
      },
      "text/plain": [
       "Validation: 0it [00:00, ?it/s]"
      ]
     },
     "metadata": {},
     "output_type": "display_data"
    },
    {
     "data": {
      "application/vnd.jupyter.widget-view+json": {
       "model_id": "",
       "version_major": 2,
       "version_minor": 0
      },
      "text/plain": [
       "Validation: 0it [00:00, ?it/s]"
      ]
     },
     "metadata": {},
     "output_type": "display_data"
    },
    {
     "data": {
      "application/vnd.jupyter.widget-view+json": {
       "model_id": "",
       "version_major": 2,
       "version_minor": 0
      },
      "text/plain": [
       "Validation: 0it [00:00, ?it/s]"
      ]
     },
     "metadata": {},
     "output_type": "display_data"
    }
   ],
   "source": [
    "trainer.fit(model, train_dl, val_dl)"
   ]
  },
  {
   "cell_type": "markdown",
   "id": "92b797ce",
   "metadata": {},
   "source": [
    "#### Plot metrics during the epochs"
   ]
  },
  {
   "cell_type": "code",
   "execution_count": 26,
   "id": "97795fa4",
   "metadata": {},
   "outputs": [
    {
     "data": {
      "image/png": "[encoded data removed]",
      "text/plain": [
       "<Figure size 442.85x360 with 1 Axes>"
      ]
     },
     "metadata": {
      "needs_background": "light"
     },
     "output_type": "display_data"
    }
   ],
   "source": [
    "# get metrics from the logs\n",
    "metrics = pd.read_csv(f\"{trainer.logger.log_dir}/metrics.csv\")\n",
    "del metrics[\"step\"]\n",
    "metrics.set_index(\"epoch\", inplace=True)\n",
    "\n",
    "# if you want also in tabular format\n",
    "# display(metrics.dropna(axis=1, how=\"all\").tail(10))\n",
    "\n",
    "sns.relplot(data=metrics, kind=\"line\").set(title='Metrics for val set');\n",
    "plt.grid(True)\n",
    "plt.show();"
   ]
  },
  {
   "cell_type": "markdown",
   "id": "183d6a0a",
   "metadata": {},
   "source": [
    "#### Test: reload the Best Model and test"
   ]
  },
  {
   "cell_type": "code",
   "execution_count": 27,
   "id": "6a5bc8f8",
   "metadata": {},
   "outputs": [],
   "source": [
    "# put here the name of the best checkpoint file\n",
    "model = LitCloudClassifierB0.load_from_checkpoint(\"./checkpoint_clouds/best11092022.ckpt\")"
   ]
  },
  {
   "cell_type": "code",
   "execution_count": 28,
   "id": "ded42612",
   "metadata": {},
   "outputs": [
    {
     "name": "stderr",
     "output_type": "stream",
     "text": [
      "LOCAL_RANK: 0 - CUDA_VISIBLE_DEVICES: [0]\n"
     ]
    },
    {
     "data": {
      "application/vnd.jupyter.widget-view+json": {
       "model_id": "e845a388c2b74496b87567e068ce4d4c",
       "version_major": 2,
       "version_minor": 0
      },
      "text/plain": [
       "Testing: 0it [00:00, ?it/s]"
      ]
     },
     "metadata": {},
     "output_type": "display_data"
    },
    {
     "name": "stdout",
     "output_type": "stream",
     "text": [
      "────────────────────────────────────────────────────────────────────────────────────────────────────────────────────────\n",
      "       Test metric             DataLoader 0\n",
      "────────────────────────────────────────────────────────────────────────────────────────────────────────────────────────\n",
      "        test_acc                  0.96875\n",
      "        test_loss           0.13714081048965454\n",
      "────────────────────────────────────────────────────────────────────────────────────────────────────────────────────────\n"
     ]
    },
    {
     "data": {
      "text/plain": [
       "[{'test_loss': 0.13714081048965454, 'test_acc': 0.96875}]"
      ]
     },
     "execution_count": 28,
     "metadata": {},
     "output_type": "execute_result"
    }
   ],
   "source": [
    "trainer.test(model, val_dl)"
   ]
  },
  {
   "cell_type": "markdown",
   "id": "a84630f8",
   "metadata": {},
   "source": [
    "#### let's see the errors on the entire validation set\n",
    "\n",
    "could be imrpoved using batch, but since val_set is smal it is ok"
   ]
  },
  {
   "cell_type": "code",
   "execution_count": 29,
   "id": "b4e1b74a",
   "metadata": {},
   "outputs": [
    {
     "name": "stderr",
     "output_type": "stream",
     "text": [
      " 34%|███▍      | 33/96 [00:08<00:17,  3.52it/s]"
     ]
    },
    {
     "name": "stdout",
     "output_type": "stream",
     "text": [
      "Expected: 2, predicted: 1\n"
     ]
    },
    {
     "name": "stderr",
     "output_type": "stream",
     "text": [
      " 74%|███████▍  | 71/96 [00:18<00:05,  4.86it/s]"
     ]
    },
    {
     "name": "stdout",
     "output_type": "stream",
     "text": [
      "Expected: 5, predicted: 0\n"
     ]
    },
    {
     "name": "stderr",
     "output_type": "stream",
     "text": [
      " 79%|███████▉  | 76/96 [00:20<00:05,  3.85it/s]"
     ]
    },
    {
     "name": "stdout",
     "output_type": "stream",
     "text": [
      "Expected: 2, predicted: 1\n"
     ]
    },
    {
     "name": "stderr",
     "output_type": "stream",
     "text": [
      "100%|██████████| 96/96 [00:25<00:00,  3.79it/s]"
     ]
    },
    {
     "name": "stdout",
     "output_type": "stream",
     "text": [
      "\n",
      "Tot. OK: 93 over: 96\n",
      "\n"
     ]
    },
    {
     "name": "stderr",
     "output_type": "stream",
     "text": [
      "\n"
     ]
    }
   ],
   "source": [
    "n_test = len(val_ds)\n",
    "n_ok = 0\n",
    "\n",
    "device = torch.device(\"cuda\") if torch.cuda.is_available() else torch.device(\"cpu\")\n",
    "\n",
    "model.eval()\n",
    "model.to(device)\n",
    "\n",
    "for i in tqdm(range(n_test)):\n",
    "    img, label = val_ds[i]\n",
    "\n",
    "    img_batch = img.unsqueeze(0)\n",
    "    img_batch = img_batch.to(device)\n",
    "    \n",
    "    with torch.no_grad():\n",
    "        preds = model(img_batch)\n",
    "\n",
    "    class_predicted = torch.argmax(preds, dim=1)\n",
    "    \n",
    "    # otherwise are tensors\n",
    "    label = label.item()\n",
    "    class_predicted = class_predicted.item()\n",
    "    \n",
    "    if class_predicted == label:\n",
    "        n_ok += 1\n",
    "    else:\n",
    "        print(f\"Expected: {label}, predicted: {class_predicted}\")\n",
    "        \n",
    "print()\n",
    "print(f\"Tot. OK: {n_ok} over: {n_test}\")\n",
    "print()"
   ]
  },
  {
   "cell_type": "markdown",
   "id": "9cc2898b",
   "metadata": {},
   "source": [
    "#### Prepare Submission for Kaggle"
   ]
  },
  {
   "cell_type": "code",
   "execution_count": 30,
   "id": "adec29f3",
   "metadata": {},
   "outputs": [],
   "source": [
    "IMAGES_TEST = BASE_DIR +\"images/test/\"\n",
    "FILE_TEST = BASE_DIR + \"test.csv\"\n",
    "\n",
    "test_df = pd.read_csv(FILE_TEST)"
   ]
  },
  {
   "cell_type": "code",
   "execution_count": 31,
   "id": "24d078cd",
   "metadata": {},
   "outputs": [
    {
     "name": "stdout",
     "output_type": "stream",
     "text": [
      "\n"
     ]
    }
   ],
   "source": [
    "test_imgs = list(test_df['id'].values)\n",
    "\n",
    "print()"
   ]
  },
  {
   "cell_type": "code",
   "execution_count": 32,
   "id": "568e4150",
   "metadata": {},
   "outputs": [],
   "source": [
    "#### here we create a custom dataset for test (no labels)"
   ]
  },
  {
   "cell_type": "code",
   "execution_count": 33,
   "id": "03ffa357",
   "metadata": {},
   "outputs": [],
   "source": [
    "class CloudsTestDataset(Dataset):\n",
    "    def __init__(self, df, transforms=None):\n",
    "        super().__init__()\n",
    "        # list with imgs names\n",
    "        self.imgs = df['id'].values\n",
    "        self.df = df\n",
    "        self.transforms = transforms\n",
    "\n",
    "    def __getitem__(self, idx):\n",
    "        full_image_name = IMAGES_TEST + self.imgs[idx]\n",
    "        \n",
    "        img = Image.open(full_image_name)\n",
    "        # OK for EfficientNet B0\n",
    "        # if scaling to another EffNet change the size here!\n",
    "        img = self.transforms(img)\n",
    "        \n",
    "        return img\n",
    "\n",
    "    def __len__(self):\n",
    "        return len(self.imgs)"
   ]
  },
  {
   "cell_type": "code",
   "execution_count": 34,
   "id": "c2d11833",
   "metadata": {},
   "outputs": [],
   "source": [
    "test_ds = CloudsTestDataset(test_df, transforms=get_val_transform())"
   ]
  },
  {
   "cell_type": "markdown",
   "id": "f2d05216",
   "metadata": {},
   "source": [
    "#### Predictions for all test images"
   ]
  },
  {
   "cell_type": "code",
   "execution_count": 35,
   "id": "ed58cf5d",
   "metadata": {},
   "outputs": [
    {
     "name": "stderr",
     "output_type": "stream",
     "text": [
      "100%|██████████| 700/700 [02:25<00:00,  4.80it/s]\n"
     ]
    }
   ],
   "source": [
    "model.eval()\n",
    "model.to(device)\n",
    "\n",
    "list_preds = []\n",
    "\n",
    "for i in tqdm(range(len(test_ds))):\n",
    "    img = test_ds[i]\n",
    "\n",
    "    img_batch = img.unsqueeze(0)\n",
    "    img_batch = img_batch.to(device)\n",
    "    \n",
    "    preds = model(img_batch)\n",
    "\n",
    "    class_predicted = torch.argmax(preds)\n",
    "    class_predicted = class_predicted.item()\n",
    "    \n",
    "    list_preds.append(class_predicted)"
   ]
  },
  {
   "cell_type": "markdown",
   "id": "ccae0c7a",
   "metadata": {},
   "source": [
    "#### Get a file with the class_num for each jpg image"
   ]
  },
  {
   "cell_type": "code",
   "execution_count": 36,
   "id": "d57cfad5",
   "metadata": {},
   "outputs": [],
   "source": [
    "dict_sub = {\"id\": test_imgs, \n",
    "           \"predict\": list_preds}\n",
    "\n",
    "df_sub = pd.DataFrame(dict_sub)\n",
    "\n",
    "df_sub.to_csv(\"submit04.csv\", index=None)"
   ]
  },
  {
   "cell_type": "code",
   "execution_count": null,
   "id": "c443be82",
   "metadata": {},
   "outputs": [],
   "source": []
  }
 ],
 "metadata": {
  "kernelspec": {
   "display_name": "Python [conda env:computervision_p37_gpu_v1]",
   "language": "python",
   "name": "conda-env-computervision_p37_gpu_v1-py"
  },
  "language_info": {
   "codemirror_mode": {
    "name": "ipython",
    "version": 3
   },
   "file_extension": ".py",
   "mimetype": "text/x-python",
   "name": "python",
   "nbconvert_exporter": "python",
   "pygments_lexer": "ipython3",
   "version": "3.7.8"
  }
 },
 "nbformat": 4,
 "nbformat_minor": 5
}
