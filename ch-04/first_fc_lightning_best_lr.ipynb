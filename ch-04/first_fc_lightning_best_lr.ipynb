{
 "cells": [
  {
   "cell_type": "markdown",
   "id": "c33a96d0",
   "metadata": {},
   "source": [
    "### A Binary Classifier built using a FC network, with PyTorch\n",
    "\n",
    "We will be working with the Attrition dataset and we want to build a binary classifier: a model enabling to predict if the employee wants to leave the company (target = 1)\n",
    "\n",
    "In this Notebook we show **how-to automatically find the best learning rate**"
   ]
  },
  {
   "cell_type": "code",
   "execution_count": 1,
   "id": "768324bb",
   "metadata": {},
   "outputs": [],
   "source": [
    "import pandas as pd\n",
    "\n",
    "import torch\n",
    "from torch.utils.data import Dataset\n",
    "from torch.utils.data import DataLoader\n",
    "from torch import nn\n",
    "from torch import optim\n",
    "import torch.nn.functional as F\n",
    "\n",
    "import pytorch_lightning as pl\n",
    "# adding CSVLogger to the trainer we get at the end\n",
    "# metrics.csv from which we can easily get a plot of loss vs epochs\n",
    "from pytorch_lightning.loggers import CSVLogger\n",
    "\n",
    "from attrition_dataset import AttritionDataset\n",
    "\n",
    "# pyplot to plot the training loss\n",
    "import matplotlib.pyplot as plt\n",
    "import seaborn as sns\n",
    "\n",
    "sns.set()\n",
    "\n",
    "%matplotlib inline"
   ]
  },
  {
   "cell_type": "code",
   "execution_count": 2,
   "id": "deb77adc",
   "metadata": {},
   "outputs": [
    {
     "data": {
      "text/plain": [
       "True"
      ]
     },
     "execution_count": 2,
     "metadata": {},
     "output_type": "execute_result"
    }
   ],
   "source": [
    "# check that access to GPU is OK\n",
    "torch.cuda.is_available()"
   ]
  },
  {
   "cell_type": "code",
   "execution_count": 3,
   "id": "b67d18da",
   "metadata": {},
   "outputs": [
    {
     "data": {
      "text/plain": [
       "<torch._C.Generator at 0x7f7543554490>"
      ]
     },
     "execution_count": 3,
     "metadata": {},
     "output_type": "execute_result"
    }
   ],
   "source": [
    "# need to make training reproducible\n",
    "torch.manual_seed(42)"
   ]
  },
  {
   "cell_type": "code",
   "execution_count": 4,
   "id": "0e98b3bb",
   "metadata": {},
   "outputs": [],
   "source": [
    "# globals\n",
    "\n",
    "EPOCHS = 800"
   ]
  },
  {
   "cell_type": "markdown",
   "id": "a72468e2",
   "metadata": {},
   "source": [
    "#### Here you find defined the Network architecture"
   ]
  },
  {
   "cell_type": "code",
   "execution_count": 5,
   "id": "febf2b24",
   "metadata": {},
   "outputs": [],
   "source": [
    "# we need to implement a class subclassing nn.Module, writing the forward method\n",
    "\n",
    "#non conviene avere una rete troppo profonda e con troppi parametri... i dati non sono tantissimi\n",
    "class FirstFC(pl.LightningModule):\n",
    "    # here we define the structure\n",
    "    def __init__(self, learning_rate=1e-3):\n",
    "        super(FirstFC, self).__init__()\n",
    "        self.fc1 = nn.Linear(30, 30)\n",
    "        self.fc2 = nn.Linear(30, 30)\n",
    "        self.fc3 = nn.Linear(30, 30)\n",
    "        self.fc4 = nn.Linear(30, 10)\n",
    "        self.fc5 = nn.Linear(10, 1)\n",
    "        # fondamentale memorizzare anche il dropout tra gli attributi \n",
    "        # per disattivarlo in modalità eval\n",
    "        # altrimenti in eval i risultati non sono pienamente riproducibili\n",
    "        self.drop = nn.Dropout(0.1)\n",
    "        \n",
    "        # to find the best LR\n",
    "        self.learning_rate = learning_rate\n",
    "    \n",
    "    # here we implement the forward pass\n",
    "    def forward(self, x):\n",
    "        x = self.fc1(x)\n",
    "        x = F.relu(x)\n",
    "        x = self.drop(x)\n",
    "        \n",
    "        x = self.fc2(x)\n",
    "        x = F.relu(x)\n",
    "        x = self.drop(x)\n",
    "        \n",
    "        x = F.relu(self.fc3(x))\n",
    "        x = F.relu(self.fc4(x))\n",
    "        \n",
    "        # the last layer must give the prob that it is positive... so we use sigmoid\n",
    "        # so we must use nn.BCELoss\n",
    "        x = torch.sigmoid(self.fc5(x))\n",
    "        \n",
    "        return x\n",
    "    \n",
    "    def configure_optimizers(self):\n",
    "        # qui possiamo anche pluggare un LR scheduler !!!\n",
    "        optimizer = optim.Adam(self.parameters(), lr=self.learning_rate)\n",
    "        \n",
    "        return optimizer\n",
    "    \n",
    "    def training_step(self, batch, batch_idx):\n",
    "        inputs, targets = batch\n",
    "        \n",
    "        outputs = self.forward(inputs)\n",
    "            \n",
    "        # we need to add this !\n",
    "        targets = targets.unsqueeze(1)\n",
    "            \n",
    "        loss = nn.BCELoss()(outputs, targets)\n",
    "        \n",
    "        self.log(\"train_loss\", loss, on_epoch=True, prog_bar=True)\n",
    "        \n",
    "        return loss\n",
    "    \n",
    "    def validation_step(self, batch, batch_idx):\n",
    "        inputs, targets = batch\n",
    "        \n",
    "        outputs = self.forward(inputs)\n",
    "            \n",
    "        # we need to add this !\n",
    "        targets = targets.unsqueeze(1)\n",
    "            \n",
    "        loss = nn.BCELoss()(outputs, targets)\n",
    "        \n",
    "        self.log(\"validation_loss\", loss, on_epoch=True, prog_bar=True)\n",
    "        \n",
    "        return loss"
   ]
  },
  {
   "cell_type": "code",
   "execution_count": 6,
   "id": "7247c0cc",
   "metadata": {},
   "outputs": [
    {
     "name": "stdout",
     "output_type": "stream",
     "text": [
      "We have 2219 samples in training set...\n",
      "We have 247 samples in validation set...\n"
     ]
    }
   ],
   "source": [
    "# dataset\n",
    "attrition_path = \"/opt/notebooks/ads-examples/oracle_data/orcl_attrition.csv\"\n",
    "\n",
    "attrition_ds = AttritionDataset(attrition_path, over_sample=True)\n",
    "\n",
    "# split in train and validation\n",
    "FRAC = 0.1\n",
    "N_TRAIN = int(len(attrition_ds)*(1. - FRAC))\n",
    "N_VALID = len(attrition_ds) - N_TRAIN\n",
    "\n",
    "train_set, val_set = torch.utils.data.random_split(attrition_ds, [N_TRAIN, N_VALID], generator=torch.Generator().manual_seed(42))\n",
    "\n",
    "print(f\"We have {len(train_set)} samples in training set...\")\n",
    "print(f\"We have {len(val_set)} samples in validation set...\")"
   ]
  },
  {
   "cell_type": "code",
   "execution_count": 7,
   "id": "41ece34d",
   "metadata": {},
   "outputs": [],
   "source": [
    "# oversampling the size has greatly increased performance"
   ]
  },
  {
   "cell_type": "code",
   "execution_count": 8,
   "id": "374d4c71",
   "metadata": {},
   "outputs": [],
   "source": [
    "# dataloaders\n",
    "\n",
    "# aumentando il btch size le prestazioni peggiorano\n",
    "BATCH_SIZE = 64\n",
    "\n",
    "train_dl = DataLoader(train_set, batch_size=BATCH_SIZE, shuffle=True, num_workers=6)\n",
    "val_dl = DataLoader(val_set, batch_size=BATCH_SIZE, shuffle=False, num_workers=6)"
   ]
  },
  {
   "cell_type": "markdown",
   "id": "bd76549e",
   "metadata": {},
   "source": [
    "#### Do the test to find the best LR (in a given interval)"
   ]
  },
  {
   "cell_type": "code",
   "execution_count": 9,
   "id": "191e65d9",
   "metadata": {},
   "outputs": [
    {
     "name": "stderr",
     "output_type": "stream",
     "text": [
      "GPU available: True (cuda), used: False\n",
      "TPU available: False, using: 0 TPU cores\n",
      "IPU available: False, using: 0 IPUs\n",
      "HPU available: False, using: 0 HPUs\n",
      "/home/datascience/conda/pytorch_onoci_v1_0/lib/python3.8/site-packages/pytorch_lightning/trainer/trainer.py:1764: PossibleUserWarning: GPU available but not used. Set `accelerator` and `devices` using `Trainer(accelerator='gpu', devices=1)`.\n",
      "  rank_zero_warn(\n",
      "/home/datascience/conda/pytorch_onoci_v1_0/lib/python3.8/site-packages/pytorch_lightning/trainer/trainer.py:1892: PossibleUserWarning: The number of training batches (35) is smaller than the logging interval Trainer(log_every_n_steps=50). Set a lower value for log_every_n_steps if you want to see logs for the training epoch.\n",
      "  rank_zero_warn(\n"
     ]
    },
    {
     "data": {
      "application/vnd.jupyter.widget-view+json": {
       "model_id": "bc98dfff18e04d22a1e5b939ae149bbc",
       "version_major": 2,
       "version_minor": 0
      },
      "text/plain": [
       "Finding best initial lr:   0%|          | 0/100 [00:00<?, ?it/s]"
      ]
     },
     "metadata": {},
     "output_type": "display_data"
    },
    {
     "name": "stderr",
     "output_type": "stream",
     "text": [
      "`Trainer.fit` stopped: `max_steps=100` reached.\n",
      "Restoring states from the checkpoint path at /home/datascience/pytorch-on-oci/ch-04/.lr_find_65e5189f-2545-4050-a6be-b909df0df62c.ckpt\n"
     ]
    },
    {
     "data": {
      "image/png": "[encoded data removed]",
      "text/plain": [
       "<Figure size 640x480 with 1 Axes>"
      ]
     },
     "metadata": {},
     "output_type": "display_data"
    }
   ],
   "source": [
    "model = FirstFC()\n",
    "\n",
    "trainer = pl.Trainer()\n",
    "\n",
    "# Run learning rate finder\n",
    "lr_finder = trainer.tuner.lr_find(model, train_dl, val_dl, \n",
    "                                  min_lr=1e-4, max_lr=1e-2)\n",
    "\n",
    "fig = lr_finder.plot(suggest=True)\n",
    "fig.show()"
   ]
  },
  {
   "cell_type": "code",
   "execution_count": 11,
   "id": "7d9c9752",
   "metadata": {},
   "outputs": [
    {
     "name": "stdout",
     "output_type": "stream",
     "text": [
      "LR suggested is: 0.0003467368504525317\n"
     ]
    }
   ],
   "source": [
    "print(f\"LR suggested is: {lr_finder.suggestion()}\")"
   ]
  },
  {
   "cell_type": "code",
   "execution_count": null,
   "id": "c73019ac",
   "metadata": {},
   "outputs": [],
   "source": []
  }
 ],
 "metadata": {
  "kernelspec": {
   "display_name": "Python [conda env:pytorch_onoci_v1_0]",
   "language": "python",
   "name": "conda-env-pytorch_onoci_v1_0-py"
  },
  "language_info": {
   "codemirror_mode": {
    "name": "ipython",
    "version": 3
   },
   "file_extension": ".py",
   "mimetype": "text/x-python",
   "name": "python",
   "nbconvert_exporter": "python",
   "pygments_lexer": "ipython3",
   "version": "3.8.13"
  }
 },
 "nbformat": 4,
 "nbformat_minor": 5
}
