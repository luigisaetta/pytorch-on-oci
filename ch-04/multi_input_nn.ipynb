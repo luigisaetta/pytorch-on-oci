{
 "cells": [
  {
   "cell_type": "markdown",
   "id": "3fe68682",
   "metadata": {},
   "source": [
    "### Multi-input NN with PyTorch Lightning\n",
    "\n",
    "In this Notebook we see how to create a **multi-input NN**: a NN that has as input an image + tabular data\n",
    "\n",
    "I have started from the example by M. Rosenfelder here: https://rosenfelder.ai/multi-input-neural-network-pytorch/\n",
    "\n",
    "I have made some modifications:\n",
    "* removed the need to use the pickle file. The csv file extracted (tab_data.csv) is in my GotHUb repo, in the same dir as this NoteBook\n",
    "* I have changed the LR\n",
    "* The dataset is only split in train/validation to have more data for training\n",
    "* I have added a LRSCheduler (ReduceLROnPlateau)\n",
    "* I have done some other changes to make the code a little clearer (in my view)\n",
    "\n",
    "Images can be found here: https://1drv.ms/u/s!AqUPqx8G81xZiL1l80RtZbjPj43MhA?e=KagzKc"
   ]
  },
  {
   "cell_type": "code",
   "execution_count": 1,
   "id": "3ba6cdc1",
   "metadata": {},
   "outputs": [],
   "source": [
    "import pandas as pd\n",
    "import numpy as np\n",
    "from PIL import Image\n",
    "\n",
    "import torch\n",
    "import torch.nn as nn\n",
    "from torch.utils.data import Dataset, DataLoader, random_split\n",
    "from torchvision import transforms\n",
    "\n",
    "from torch.optim.lr_scheduler import ReduceLROnPlateau\n",
    "\n",
    "import pytorch_lightning as pl\n",
    "from pytorch_lightning.callbacks import LearningRateMonitor\n",
    "from pytorch_lightning.loggers import CSVLogger\n",
    "\n",
    "import matplotlib.pyplot as plt\n",
    "import seaborn as sns\n",
    "\n",
    "sns.set()\n",
    "\n",
    "%matplotlib inline"
   ]
  },
  {
   "cell_type": "code",
   "execution_count": 2,
   "id": "144cd0da",
   "metadata": {},
   "outputs": [
    {
     "name": "stderr",
     "output_type": "stream",
     "text": [
      "Global seed set to 42\n"
     ]
    },
    {
     "data": {
      "text/plain": [
       "42"
      ]
     },
     "execution_count": 2,
     "metadata": {},
     "output_type": "execute_result"
    }
   ],
   "source": [
    "SEED = 42\n",
    "\n",
    "DATA_PATH = \"/home/datascience/multi-input-data/\"\n",
    "\n",
    "# Seed everything\n",
    "pl.seed_everything(SEED)"
   ]
  },
  {
   "cell_type": "code",
   "execution_count": 3,
   "id": "f31df4ab",
   "metadata": {},
   "outputs": [
    {
     "data": {
      "text/html": [
       "<div>\n",
       "<style scoped>\n",
       "    .dataframe tbody tr th:only-of-type {\n",
       "        vertical-align: middle;\n",
       "    }\n",
       "\n",
       "    .dataframe tbody tr th {\n",
       "        vertical-align: top;\n",
       "    }\n",
       "\n",
       "    .dataframe thead th {\n",
       "        text-align: right;\n",
       "    }\n",
       "</style>\n",
       "<table border=\"1\" class=\"dataframe\">\n",
       "  <thead>\n",
       "    <tr style=\"text-align: right;\">\n",
       "      <th></th>\n",
       "      <th>zpid</th>\n",
       "      <th>price</th>\n",
       "      <th>latitude</th>\n",
       "      <th>longitude</th>\n",
       "      <th>beds</th>\n",
       "      <th>baths</th>\n",
       "      <th>area</th>\n",
       "    </tr>\n",
       "  </thead>\n",
       "  <tbody>\n",
       "    <tr>\n",
       "      <th>0</th>\n",
       "      <td>29776969</td>\n",
       "      <td>525000.0</td>\n",
       "      <td>40.811995</td>\n",
       "      <td>-73.919353</td>\n",
       "      <td>4.0</td>\n",
       "      <td>3.0</td>\n",
       "      <td>1904.0</td>\n",
       "    </tr>\n",
       "    <tr>\n",
       "      <th>1</th>\n",
       "      <td>29776973</td>\n",
       "      <td>565000.0</td>\n",
       "      <td>40.812076</td>\n",
       "      <td>-73.919541</td>\n",
       "      <td>6.0</td>\n",
       "      <td>3.0</td>\n",
       "      <td>1800.0</td>\n",
       "    </tr>\n",
       "    <tr>\n",
       "      <th>2</th>\n",
       "      <td>29777045</td>\n",
       "      <td>805000.0</td>\n",
       "      <td>40.812729</td>\n",
       "      <td>-73.919133</td>\n",
       "      <td>5.0</td>\n",
       "      <td>3.0</td>\n",
       "      <td>2280.0</td>\n",
       "    </tr>\n",
       "    <tr>\n",
       "      <th>3</th>\n",
       "      <td>29777854</td>\n",
       "      <td>435000.0</td>\n",
       "      <td>40.826804</td>\n",
       "      <td>-73.917024</td>\n",
       "      <td>3.0</td>\n",
       "      <td>2.0</td>\n",
       "      <td>1728.0</td>\n",
       "    </tr>\n",
       "    <tr>\n",
       "      <th>4</th>\n",
       "      <td>29777997</td>\n",
       "      <td>665000.0</td>\n",
       "      <td>40.833573</td>\n",
       "      <td>-73.912594</td>\n",
       "      <td>6.0</td>\n",
       "      <td>3.0</td>\n",
       "      <td>2871.0</td>\n",
       "    </tr>\n",
       "  </tbody>\n",
       "</table>\n",
       "</div>"
      ],
      "text/plain": [
       "       zpid     price   latitude  longitude  beds  baths    area\n",
       "0  29776969  525000.0  40.811995 -73.919353   4.0    3.0  1904.0\n",
       "1  29776973  565000.0  40.812076 -73.919541   6.0    3.0  1800.0\n",
       "2  29777045  805000.0  40.812729 -73.919133   5.0    3.0  2280.0\n",
       "3  29777854  435000.0  40.826804 -73.917024   3.0    2.0  1728.0\n",
       "4  29777997  665000.0  40.833573 -73.912594   6.0    3.0  2871.0"
      ]
     },
     "execution_count": 3,
     "metadata": {},
     "output_type": "execute_result"
    }
   ],
   "source": [
    "# have a look at structured data\n",
    "# to have a look at structured data\n",
    "# now it is in tab_data.csv\n",
    "# remember tab_data.csv must be put in the folder DATA_PATH\n",
    "# \n",
    "data = pd.read_csv(DATA_PATH + \"tab_data.csv\")\n",
    "\n",
    "data.head()"
   ]
  },
  {
   "cell_type": "code",
   "execution_count": 4,
   "id": "633f7e7f",
   "metadata": {},
   "outputs": [
    {
     "data": {
      "text/html": [
       "<div>\n",
       "<style scoped>\n",
       "    .dataframe tbody tr th:only-of-type {\n",
       "        vertical-align: middle;\n",
       "    }\n",
       "\n",
       "    .dataframe tbody tr th {\n",
       "        vertical-align: top;\n",
       "    }\n",
       "\n",
       "    .dataframe thead th {\n",
       "        text-align: right;\n",
       "    }\n",
       "</style>\n",
       "<table border=\"1\" class=\"dataframe\">\n",
       "  <thead>\n",
       "    <tr style=\"text-align: right;\">\n",
       "      <th></th>\n",
       "      <th>zpid</th>\n",
       "      <th>price</th>\n",
       "      <th>latitude</th>\n",
       "      <th>longitude</th>\n",
       "      <th>beds</th>\n",
       "      <th>baths</th>\n",
       "      <th>area</th>\n",
       "    </tr>\n",
       "  </thead>\n",
       "  <tbody>\n",
       "    <tr>\n",
       "      <th>count</th>\n",
       "      <td>2.840000e+03</td>\n",
       "      <td>2.840000e+03</td>\n",
       "      <td>2840.000000</td>\n",
       "      <td>2840.000000</td>\n",
       "      <td>2840.000000</td>\n",
       "      <td>2840.000000</td>\n",
       "      <td>2840.000000</td>\n",
       "    </tr>\n",
       "    <tr>\n",
       "      <th>mean</th>\n",
       "      <td>3.026418e+07</td>\n",
       "      <td>7.666985e+05</td>\n",
       "      <td>40.739368</td>\n",
       "      <td>-73.912034</td>\n",
       "      <td>3.672183</td>\n",
       "      <td>2.519877</td>\n",
       "      <td>1796.098592</td>\n",
       "    </tr>\n",
       "    <tr>\n",
       "      <th>std</th>\n",
       "      <td>6.342499e+05</td>\n",
       "      <td>3.918023e+05</td>\n",
       "      <td>0.115101</td>\n",
       "      <td>0.070550</td>\n",
       "      <td>1.119459</td>\n",
       "      <td>0.644396</td>\n",
       "      <td>565.281025</td>\n",
       "    </tr>\n",
       "    <tr>\n",
       "      <th>min</th>\n",
       "      <td>5.409160e+06</td>\n",
       "      <td>6.000000e+04</td>\n",
       "      <td>40.573728</td>\n",
       "      <td>-74.039917</td>\n",
       "      <td>1.000000</td>\n",
       "      <td>1.500000</td>\n",
       "      <td>935.000000</td>\n",
       "    </tr>\n",
       "    <tr>\n",
       "      <th>25%</th>\n",
       "      <td>2.983074e+07</td>\n",
       "      <td>4.866252e+05</td>\n",
       "      <td>40.624906</td>\n",
       "      <td>-73.978018</td>\n",
       "      <td>3.000000</td>\n",
       "      <td>2.000000</td>\n",
       "      <td>1364.000000</td>\n",
       "    </tr>\n",
       "    <tr>\n",
       "      <th>50%</th>\n",
       "      <td>3.059224e+07</td>\n",
       "      <td>6.250000e+05</td>\n",
       "      <td>40.685717</td>\n",
       "      <td>-73.902310</td>\n",
       "      <td>3.000000</td>\n",
       "      <td>2.000000</td>\n",
       "      <td>1690.000000</td>\n",
       "    </tr>\n",
       "    <tr>\n",
       "      <th>75%</th>\n",
       "      <td>3.069626e+07</td>\n",
       "      <td>9.550000e+05</td>\n",
       "      <td>40.851511</td>\n",
       "      <td>-73.848839</td>\n",
       "      <td>4.000000</td>\n",
       "      <td>3.000000</td>\n",
       "      <td>2080.000000</td>\n",
       "    </tr>\n",
       "    <tr>\n",
       "      <th>max</th>\n",
       "      <td>3.074296e+07</td>\n",
       "      <td>2.430000e+06</td>\n",
       "      <td>40.911744</td>\n",
       "      <td>-73.782983</td>\n",
       "      <td>7.000000</td>\n",
       "      <td>4.000000</td>\n",
       "      <td>3585.000000</td>\n",
       "    </tr>\n",
       "  </tbody>\n",
       "</table>\n",
       "</div>"
      ],
      "text/plain": [
       "               zpid         price     latitude    longitude         beds  \\\n",
       "count  2.840000e+03  2.840000e+03  2840.000000  2840.000000  2840.000000   \n",
       "mean   3.026418e+07  7.666985e+05    40.739368   -73.912034     3.672183   \n",
       "std    6.342499e+05  3.918023e+05     0.115101     0.070550     1.119459   \n",
       "min    5.409160e+06  6.000000e+04    40.573728   -74.039917     1.000000   \n",
       "25%    2.983074e+07  4.866252e+05    40.624906   -73.978018     3.000000   \n",
       "50%    3.059224e+07  6.250000e+05    40.685717   -73.902310     3.000000   \n",
       "75%    3.069626e+07  9.550000e+05    40.851511   -73.848839     4.000000   \n",
       "max    3.074296e+07  2.430000e+06    40.911744   -73.782983     7.000000   \n",
       "\n",
       "             baths         area  \n",
       "count  2840.000000  2840.000000  \n",
       "mean      2.519877  1796.098592  \n",
       "std       0.644396   565.281025  \n",
       "min       1.500000   935.000000  \n",
       "25%       2.000000  1364.000000  \n",
       "50%       2.000000  1690.000000  \n",
       "75%       3.000000  2080.000000  \n",
       "max       4.000000  3585.000000  "
      ]
     },
     "execution_count": 4,
     "metadata": {},
     "output_type": "execute_result"
    }
   ],
   "source": [
    "# compute some quick stats\n",
    "data.describe()"
   ]
  },
  {
   "cell_type": "markdown",
   "id": "10a7b677",
   "metadata": {},
   "source": [
    "as we can see:\n",
    "* **mean** price is: 766698\n",
    "* **std** price is:  391802"
   ]
  },
  {
   "cell_type": "code",
   "execution_count": 5,
   "id": "d049e1cf",
   "metadata": {},
   "outputs": [],
   "source": [
    "class ImageDataset(Dataset):\n",
    "    \"\"\"Tabular and Image dataset.\"\"\"\n",
    "\n",
    "    def __init__(self, csv_file, image_dir):\n",
    "        self.csv_file = csv_file\n",
    "        self.image_dir = image_dir\n",
    "        \n",
    "        # removed pickle, now load from csv file\n",
    "        self.tabular = pd.read_csv(DATA_PATH + self.csv_file)\n",
    "\n",
    "    def __len__(self):\n",
    "        return len(self.tabular)\n",
    "\n",
    "    def __getitem__(self, idx):\n",
    "        if torch.is_tensor(idx):\n",
    "            idx = idx.tolist()\n",
    "        \n",
    "        # all the data for the sample of index idx\n",
    "        all_data = self.tabular.iloc[idx, 0:]\n",
    "\n",
    "        y = all_data[\"price\"]\n",
    "        \n",
    "        # int() to solve problems with data conversion\n",
    "        # get the file name\n",
    "        zpid = int(all_data['zpid'])\n",
    "        image = Image.open(f\"{self.image_dir}/{zpid}.png\")\n",
    "        image = np.array(image)\n",
    "        image = image[..., :3]\n",
    "        \n",
    "        # only transform applied: to_tensor\n",
    "        # since we're not using a pretrained net, we don't need to normalize\n",
    "        image = transforms.functional.to_tensor(image)\n",
    "        \n",
    "        # get all tabular data\n",
    "        tab_data = all_data[[\"latitude\", \"longitude\", \"beds\", \"baths\", \"area\"]]\n",
    "        tab_data = tab_data.tolist()\n",
    "        tab_data = torch.FloatTensor(tab_data)\n",
    "\n",
    "        return image, tab_data, y"
   ]
  },
  {
   "cell_type": "code",
   "execution_count": 6,
   "id": "a98e0cf7",
   "metadata": {},
   "outputs": [],
   "source": [
    "def conv_block(input_size, output_size):\n",
    "    block = nn.Sequential(\n",
    "        nn.Conv2d(input_size, output_size, (3, 3)), \n",
    "        nn.ReLU(), \n",
    "        nn.BatchNorm2d(output_size), \n",
    "        nn.MaxPool2d((2, 2)),\n",
    "    )\n",
    "\n",
    "    return block"
   ]
  },
  {
   "cell_type": "code",
   "execution_count": 7,
   "id": "d57648db",
   "metadata": {},
   "outputs": [],
   "source": [
    "#\n",
    "# Here is the NN\n",
    "#\n",
    "class LitClassifier(pl.LightningModule):\n",
    "    def __init__(\n",
    "        self, lr: float = 1e-3, num_workers: int = 4, batch_size: int = 32,\n",
    "    ):\n",
    "        super().__init__()\n",
    "        self.lr = lr\n",
    "        self.num_workers = num_workers\n",
    "        self.batch_size = batch_size\n",
    "        \n",
    "        # Loss used: MAE\n",
    "        self.criterion = torch.nn.L1Loss()\n",
    "\n",
    "        self.conv1 = conv_block(3, 16)\n",
    "        self.conv2 = conv_block(16, 32)\n",
    "        self.conv3 = conv_block(32, 64)\n",
    "\n",
    "        self.ln1 = nn.Linear(64 * 26 * 26, 16)\n",
    "        self.relu = nn.ReLU()\n",
    "        self.batchnorm = nn.BatchNorm1d(16)\n",
    "        self.dropout = nn.Dropout2d(0.5)\n",
    "        self.ln2 = nn.Linear(16, 5)\n",
    "        \n",
    "        # for tab\n",
    "        self.ln4 = nn.Linear(5, 10)\n",
    "        self.ln5 = nn.Linear(10, 10)\n",
    "        self.ln6 = nn.Linear(10, 5)\n",
    "        \n",
    "        # final\n",
    "        self.ln7 = nn.Linear(10, 1)\n",
    "        \n",
    "    def forward(self, img, tab):\n",
    "        img = self.conv1(img)\n",
    "        img = self.conv2(img)\n",
    "        img = self.conv3(img)\n",
    "        img = img.reshape(img.shape[0], -1)\n",
    "        img = self.ln1(img)\n",
    "        img = self.relu(img)\n",
    "        img = self.batchnorm(img)\n",
    "        img = self.dropout(img)\n",
    "        img = self.ln2(img)\n",
    "        img = self.relu(img)\n",
    "        \n",
    "        # process tabular data: [\"latitude\", \"longitude\", \"beds\", \"baths\", \"area\"]\n",
    "        # so input is 5 values\n",
    "        tab = self.relu(self.ln4(tab))\n",
    "        tab = self.relu(self.ln5(tab))\n",
    "        tab = self.relu(self.ln6(tab))\n",
    "        \n",
    "        # 5 features for img and 5 for tab\n",
    "        x = torch.cat((img, tab), dim=1)\n",
    "        x = self.relu(x)\n",
    "\n",
    "        return self.ln7(x)\n",
    "    \n",
    "    def training_step(self, batch, batch_idx):\n",
    "        image, tabular, y = batch\n",
    "\n",
    "        y_pred = torch.flatten(self(image, tabular))\n",
    "        y_pred = y_pred.double()\n",
    "\n",
    "        loss = self.criterion(y_pred, y)\n",
    "        \n",
    "        self.log(\"train_loss\", loss, on_epoch=True, prog_bar=True)\n",
    "        \n",
    "        return loss\n",
    "\n",
    "    def validation_step(self, batch, batch_idx):\n",
    "        image, tabular, y = batch\n",
    "\n",
    "        y_pred = torch.flatten(self(image, tabular))\n",
    "        y_pred = y_pred.double()\n",
    "\n",
    "        val_loss = self.criterion(y_pred, y)\n",
    "        \n",
    "        return {\"val_loss\": val_loss}\n",
    "\n",
    "    def validation_epoch_end(self, outputs):\n",
    "        avg_loss = torch.stack([x[\"val_loss\"] for x in outputs]).mean()\n",
    "        \n",
    "        # moved here.. to remove spike due to step\n",
    "        self.log(\"val_loss\", avg_loss, on_epoch=True, prog_bar=True)\n",
    "        \n",
    "        return {\"val_loss\": avg_loss}\n",
    "        \n",
    "    def test_step(self, batch, batch_idx):\n",
    "        image, tabular, y = batch\n",
    "\n",
    "        y_pred = torch.flatten(self(image, tabular))\n",
    "        y_pred = y_pred.double()\n",
    "\n",
    "        test_loss = self.criterion(y_pred, y)\n",
    "\n",
    "        return test_loss\n",
    "\n",
    "    def test_epoch_end(self, outputs):\n",
    "        avg_loss = torch.stack([x[\"test_loss\"] for x in outputs]).mean()\n",
    "        logs = {\"test_loss\": avg_loss}\n",
    "        return {\"test_loss\": avg_loss, \"log\": logs, \"progress_bar\": logs}\n",
    "    \n",
    "    def setup(self, stage):\n",
    "        image_data = ImageDataset(csv_file=\"tab_data.csv\", image_dir=f\"{DATA_PATH}images/\")\n",
    "        \n",
    "        # split in train/validation\n",
    "        FRAC_TRAIN = 0.9\n",
    "        train_size = int(FRAC_TRAIN * len(image_data))\n",
    "        val_size = int((len(image_data) - train_size))\n",
    "        # test_size = int((len(image_data) - train_size) / 2)\n",
    "        \n",
    "        # here we split in train,val, test\n",
    "        self.train_set, self.val_set = random_split(image_data, (train_size, val_size), \n",
    "                                                   generator=torch.Generator().manual_seed(SEED))\n",
    "\n",
    "    def configure_optimizers(self):\n",
    "        optimizer = torch.optim.Adam(self.parameters(), lr=self.lr)\n",
    "        \n",
    "        # I have added a LR scheduler... \n",
    "        # it is important in this case the threshold: base on the value of the prediction (z*10**5)\n",
    "        # with lower threshoòds doesn't trigger\n",
    "        scheduler = ReduceLROnPlateau(optimizer, patience=5, factor=0.5, threshold = 0.1, verbose=True)\n",
    "        \n",
    "        lr_scheduler = {\"scheduler\": scheduler, \"monitor\": \"val_loss\", \"interval\": \"epoch\"}\n",
    "        \n",
    "        return [optimizer], [lr_scheduler]\n",
    "\n",
    "    def train_dataloader(self):\n",
    "        return DataLoader(self.train_set, batch_size=self.batch_size, num_workers=self.num_workers)\n",
    "\n",
    "    def val_dataloader(self):\n",
    "        return DataLoader(self.val_set, batch_size=self.batch_size, num_workers=self.num_workers)"
   ]
  },
  {
   "cell_type": "code",
   "execution_count": 8,
   "id": "06468758",
   "metadata": {},
   "outputs": [],
   "source": [
    "# add as a callback if you want to monitor changes of LR\n",
    "# lr_monitor = LearningRateMonitor(logging_interval=\"epoch\")"
   ]
  },
  {
   "cell_type": "code",
   "execution_count": 9,
   "id": "4499ce22",
   "metadata": {},
   "outputs": [
    {
     "name": "stderr",
     "output_type": "stream",
     "text": [
      "GPU available: True (cuda), used: True\n",
      "TPU available: False, using: 0 TPU cores\n",
      "IPU available: False, using: 0 IPUs\n",
      "HPU available: False, using: 0 HPUs\n"
     ]
    }
   ],
   "source": [
    "EPOCHS = 30\n",
    "\n",
    "# modo corretto di settare il LR iniziale\n",
    "# con questo LR va in overfitting\n",
    "model = LitClassifier(lr=1e-1)\n",
    "\n",
    "\n",
    "trainer = pl.Trainer(max_epochs=EPOCHS, accelerator='gpu', devices=1,\n",
    "                    logger=CSVLogger(save_dir=\"logs_multi/\")) #, callbacks=[lr_monitor])"
   ]
  },
  {
   "cell_type": "code",
   "execution_count": 10,
   "id": "06fdfcf2",
   "metadata": {},
   "outputs": [
    {
     "data": {
      "text/plain": [
       "LitClassifier(\n",
       "  (criterion): L1Loss()\n",
       "  (conv1): Sequential(\n",
       "    (0): Conv2d(3, 16, kernel_size=(3, 3), stride=(1, 1))\n",
       "    (1): ReLU()\n",
       "    (2): BatchNorm2d(16, eps=1e-05, momentum=0.1, affine=True, track_running_stats=True)\n",
       "    (3): MaxPool2d(kernel_size=(2, 2), stride=(2, 2), padding=0, dilation=1, ceil_mode=False)\n",
       "  )\n",
       "  (conv2): Sequential(\n",
       "    (0): Conv2d(16, 32, kernel_size=(3, 3), stride=(1, 1))\n",
       "    (1): ReLU()\n",
       "    (2): BatchNorm2d(32, eps=1e-05, momentum=0.1, affine=True, track_running_stats=True)\n",
       "    (3): MaxPool2d(kernel_size=(2, 2), stride=(2, 2), padding=0, dilation=1, ceil_mode=False)\n",
       "  )\n",
       "  (conv3): Sequential(\n",
       "    (0): Conv2d(32, 64, kernel_size=(3, 3), stride=(1, 1))\n",
       "    (1): ReLU()\n",
       "    (2): BatchNorm2d(64, eps=1e-05, momentum=0.1, affine=True, track_running_stats=True)\n",
       "    (3): MaxPool2d(kernel_size=(2, 2), stride=(2, 2), padding=0, dilation=1, ceil_mode=False)\n",
       "  )\n",
       "  (ln1): Linear(in_features=43264, out_features=16, bias=True)\n",
       "  (relu): ReLU()\n",
       "  (batchnorm): BatchNorm1d(16, eps=1e-05, momentum=0.1, affine=True, track_running_stats=True)\n",
       "  (dropout): Dropout2d(p=0.5, inplace=False)\n",
       "  (ln2): Linear(in_features=16, out_features=5, bias=True)\n",
       "  (ln4): Linear(in_features=5, out_features=10, bias=True)\n",
       "  (ln5): Linear(in_features=10, out_features=10, bias=True)\n",
       "  (ln6): Linear(in_features=10, out_features=5, bias=True)\n",
       "  (ln7): Linear(in_features=10, out_features=1, bias=True)\n",
       ")"
      ]
     },
     "execution_count": 10,
     "metadata": {},
     "output_type": "execute_result"
    }
   ],
   "source": [
    "model"
   ]
  },
  {
   "cell_type": "code",
   "execution_count": 11,
   "id": "bcd8b1cf",
   "metadata": {},
   "outputs": [],
   "source": [
    "# to find a suggestion for the LR\n",
    "# lr_finder = trainer.tuner.lr_find(model)\n",
    "\n",
    "# fig = lr_finder.plot(suggest=True)\n",
    "# fig.show();\n",
    "\n",
    "# new_lr = lr_finder.suggestion()\n",
    "\n",
    "# print(new_lr)"
   ]
  },
  {
   "cell_type": "code",
   "execution_count": 12,
   "id": "2458c521",
   "metadata": {},
   "outputs": [
    {
     "name": "stderr",
     "output_type": "stream",
     "text": [
      "LOCAL_RANK: 0 - CUDA_VISIBLE_DEVICES: [0]\n",
      "\n",
      "   | Name      | Type        | Params\n",
      "-------------------------------------------\n",
      "0  | criterion | L1Loss      | 0     \n",
      "1  | conv1     | Sequential  | 480   \n",
      "2  | conv2     | Sequential  | 4.7 K \n",
      "3  | conv3     | Sequential  | 18.6 K\n",
      "4  | ln1       | Linear      | 692 K \n",
      "5  | relu      | ReLU        | 0     \n",
      "6  | batchnorm | BatchNorm1d | 32    \n",
      "7  | dropout   | Dropout2d   | 0     \n",
      "8  | ln2       | Linear      | 85    \n",
      "9  | ln4       | Linear      | 60    \n",
      "10 | ln5       | Linear      | 110   \n",
      "11 | ln6       | Linear      | 55    \n",
      "12 | ln7       | Linear      | 11    \n",
      "-------------------------------------------\n",
      "716 K     Trainable params\n",
      "0         Non-trainable params\n",
      "716 K     Total params\n",
      "2.866     Total estimated model params size (MB)\n"
     ]
    },
    {
     "data": {
      "application/vnd.jupyter.widget-view+json": {
       "model_id": "",
       "version_major": 2,
       "version_minor": 0
      },
      "text/plain": [
       "Sanity Checking: 0it [00:00, ?it/s]"
      ]
     },
     "metadata": {},
     "output_type": "display_data"
    },
    {
     "data": {
      "application/vnd.jupyter.widget-view+json": {
       "model_id": "925d1ecb2a084958862fe13faba465f1",
       "version_major": 2,
       "version_minor": 0
      },
      "text/plain": [
       "Training: 0it [00:00, ?it/s]"
      ]
     },
     "metadata": {},
     "output_type": "display_data"
    },
    {
     "data": {
      "application/vnd.jupyter.widget-view+json": {
       "model_id": "",
       "version_major": 2,
       "version_minor": 0
      },
      "text/plain": [
       "Validation: 0it [00:00, ?it/s]"
      ]
     },
     "metadata": {},
     "output_type": "display_data"
    },
    {
     "data": {
      "application/vnd.jupyter.widget-view+json": {
       "model_id": "",
       "version_major": 2,
       "version_minor": 0
      },
      "text/plain": [
       "Validation: 0it [00:00, ?it/s]"
      ]
     },
     "metadata": {},
     "output_type": "display_data"
    },
    {
     "data": {
      "application/vnd.jupyter.widget-view+json": {
       "model_id": "",
       "version_major": 2,
       "version_minor": 0
      },
      "text/plain": [
       "Validation: 0it [00:00, ?it/s]"
      ]
     },
     "metadata": {},
     "output_type": "display_data"
    },
    {
     "data": {
      "application/vnd.jupyter.widget-view+json": {
       "model_id": "",
       "version_major": 2,
       "version_minor": 0
      },
      "text/plain": [
       "Validation: 0it [00:00, ?it/s]"
      ]
     },
     "metadata": {},
     "output_type": "display_data"
    },
    {
     "data": {
      "application/vnd.jupyter.widget-view+json": {
       "model_id": "",
       "version_major": 2,
       "version_minor": 0
      },
      "text/plain": [
       "Validation: 0it [00:00, ?it/s]"
      ]
     },
     "metadata": {},
     "output_type": "display_data"
    },
    {
     "data": {
      "application/vnd.jupyter.widget-view+json": {
       "model_id": "",
       "version_major": 2,
       "version_minor": 0
      },
      "text/plain": [
       "Validation: 0it [00:00, ?it/s]"
      ]
     },
     "metadata": {},
     "output_type": "display_data"
    },
    {
     "data": {
      "application/vnd.jupyter.widget-view+json": {
       "model_id": "",
       "version_major": 2,
       "version_minor": 0
      },
      "text/plain": [
       "Validation: 0it [00:00, ?it/s]"
      ]
     },
     "metadata": {},
     "output_type": "display_data"
    },
    {
     "name": "stdout",
     "output_type": "stream",
     "text": [
      "Epoch     7: reducing learning rate of group 0 to 5.0000e-02.\n"
     ]
    },
    {
     "data": {
      "application/vnd.jupyter.widget-view+json": {
       "model_id": "",
       "version_major": 2,
       "version_minor": 0
      },
      "text/plain": [
       "Validation: 0it [00:00, ?it/s]"
      ]
     },
     "metadata": {},
     "output_type": "display_data"
    },
    {
     "data": {
      "application/vnd.jupyter.widget-view+json": {
       "model_id": "",
       "version_major": 2,
       "version_minor": 0
      },
      "text/plain": [
       "Validation: 0it [00:00, ?it/s]"
      ]
     },
     "metadata": {},
     "output_type": "display_data"
    },
    {
     "data": {
      "application/vnd.jupyter.widget-view+json": {
       "model_id": "",
       "version_major": 2,
       "version_minor": 0
      },
      "text/plain": [
       "Validation: 0it [00:00, ?it/s]"
      ]
     },
     "metadata": {},
     "output_type": "display_data"
    },
    {
     "data": {
      "application/vnd.jupyter.widget-view+json": {
       "model_id": "",
       "version_major": 2,
       "version_minor": 0
      },
      "text/plain": [
       "Validation: 0it [00:00, ?it/s]"
      ]
     },
     "metadata": {},
     "output_type": "display_data"
    },
    {
     "data": {
      "application/vnd.jupyter.widget-view+json": {
       "model_id": "",
       "version_major": 2,
       "version_minor": 0
      },
      "text/plain": [
       "Validation: 0it [00:00, ?it/s]"
      ]
     },
     "metadata": {},
     "output_type": "display_data"
    },
    {
     "data": {
      "application/vnd.jupyter.widget-view+json": {
       "model_id": "",
       "version_major": 2,
       "version_minor": 0
      },
      "text/plain": [
       "Validation: 0it [00:00, ?it/s]"
      ]
     },
     "metadata": {},
     "output_type": "display_data"
    },
    {
     "name": "stdout",
     "output_type": "stream",
     "text": [
      "Epoch    13: reducing learning rate of group 0 to 2.5000e-02.\n"
     ]
    },
    {
     "data": {
      "application/vnd.jupyter.widget-view+json": {
       "model_id": "",
       "version_major": 2,
       "version_minor": 0
      },
      "text/plain": [
       "Validation: 0it [00:00, ?it/s]"
      ]
     },
     "metadata": {},
     "output_type": "display_data"
    },
    {
     "data": {
      "application/vnd.jupyter.widget-view+json": {
       "model_id": "",
       "version_major": 2,
       "version_minor": 0
      },
      "text/plain": [
       "Validation: 0it [00:00, ?it/s]"
      ]
     },
     "metadata": {},
     "output_type": "display_data"
    },
    {
     "data": {
      "application/vnd.jupyter.widget-view+json": {
       "model_id": "",
       "version_major": 2,
       "version_minor": 0
      },
      "text/plain": [
       "Validation: 0it [00:00, ?it/s]"
      ]
     },
     "metadata": {},
     "output_type": "display_data"
    },
    {
     "data": {
      "application/vnd.jupyter.widget-view+json": {
       "model_id": "",
       "version_major": 2,
       "version_minor": 0
      },
      "text/plain": [
       "Validation: 0it [00:00, ?it/s]"
      ]
     },
     "metadata": {},
     "output_type": "display_data"
    },
    {
     "data": {
      "application/vnd.jupyter.widget-view+json": {
       "model_id": "",
       "version_major": 2,
       "version_minor": 0
      },
      "text/plain": [
       "Validation: 0it [00:00, ?it/s]"
      ]
     },
     "metadata": {},
     "output_type": "display_data"
    },
    {
     "data": {
      "application/vnd.jupyter.widget-view+json": {
       "model_id": "",
       "version_major": 2,
       "version_minor": 0
      },
      "text/plain": [
       "Validation: 0it [00:00, ?it/s]"
      ]
     },
     "metadata": {},
     "output_type": "display_data"
    },
    {
     "name": "stdout",
     "output_type": "stream",
     "text": [
      "Epoch    19: reducing learning rate of group 0 to 1.2500e-02.\n"
     ]
    },
    {
     "data": {
      "application/vnd.jupyter.widget-view+json": {
       "model_id": "",
       "version_major": 2,
       "version_minor": 0
      },
      "text/plain": [
       "Validation: 0it [00:00, ?it/s]"
      ]
     },
     "metadata": {},
     "output_type": "display_data"
    },
    {
     "data": {
      "application/vnd.jupyter.widget-view+json": {
       "model_id": "",
       "version_major": 2,
       "version_minor": 0
      },
      "text/plain": [
       "Validation: 0it [00:00, ?it/s]"
      ]
     },
     "metadata": {},
     "output_type": "display_data"
    },
    {
     "data": {
      "application/vnd.jupyter.widget-view+json": {
       "model_id": "",
       "version_major": 2,
       "version_minor": 0
      },
      "text/plain": [
       "Validation: 0it [00:00, ?it/s]"
      ]
     },
     "metadata": {},
     "output_type": "display_data"
    },
    {
     "data": {
      "application/vnd.jupyter.widget-view+json": {
       "model_id": "",
       "version_major": 2,
       "version_minor": 0
      },
      "text/plain": [
       "Validation: 0it [00:00, ?it/s]"
      ]
     },
     "metadata": {},
     "output_type": "display_data"
    },
    {
     "data": {
      "application/vnd.jupyter.widget-view+json": {
       "model_id": "",
       "version_major": 2,
       "version_minor": 0
      },
      "text/plain": [
       "Validation: 0it [00:00, ?it/s]"
      ]
     },
     "metadata": {},
     "output_type": "display_data"
    },
    {
     "data": {
      "application/vnd.jupyter.widget-view+json": {
       "model_id": "",
       "version_major": 2,
       "version_minor": 0
      },
      "text/plain": [
       "Validation: 0it [00:00, ?it/s]"
      ]
     },
     "metadata": {},
     "output_type": "display_data"
    },
    {
     "name": "stdout",
     "output_type": "stream",
     "text": [
      "Epoch    25: reducing learning rate of group 0 to 6.2500e-03.\n"
     ]
    },
    {
     "data": {
      "application/vnd.jupyter.widget-view+json": {
       "model_id": "",
       "version_major": 2,
       "version_minor": 0
      },
      "text/plain": [
       "Validation: 0it [00:00, ?it/s]"
      ]
     },
     "metadata": {},
     "output_type": "display_data"
    },
    {
     "data": {
      "application/vnd.jupyter.widget-view+json": {
       "model_id": "",
       "version_major": 2,
       "version_minor": 0
      },
      "text/plain": [
       "Validation: 0it [00:00, ?it/s]"
      ]
     },
     "metadata": {},
     "output_type": "display_data"
    },
    {
     "data": {
      "application/vnd.jupyter.widget-view+json": {
       "model_id": "",
       "version_major": 2,
       "version_minor": 0
      },
      "text/plain": [
       "Validation: 0it [00:00, ?it/s]"
      ]
     },
     "metadata": {},
     "output_type": "display_data"
    },
    {
     "data": {
      "application/vnd.jupyter.widget-view+json": {
       "model_id": "",
       "version_major": 2,
       "version_minor": 0
      },
      "text/plain": [
       "Validation: 0it [00:00, ?it/s]"
      ]
     },
     "metadata": {},
     "output_type": "display_data"
    },
    {
     "data": {
      "application/vnd.jupyter.widget-view+json": {
       "model_id": "",
       "version_major": 2,
       "version_minor": 0
      },
      "text/plain": [
       "Validation: 0it [00:00, ?it/s]"
      ]
     },
     "metadata": {},
     "output_type": "display_data"
    },
    {
     "name": "stderr",
     "output_type": "stream",
     "text": [
      "`Trainer.fit` stopped: `max_epochs=30` reached.\n"
     ]
    }
   ],
   "source": [
    "trainer.fit(model)"
   ]
  },
  {
   "cell_type": "code",
   "execution_count": null,
   "id": "073e66bb",
   "metadata": {},
   "outputs": [],
   "source": [
    "# trainer.test(model)"
   ]
  },
  {
   "cell_type": "markdown",
   "id": "d25789fa",
   "metadata": {},
   "source": [
    "#### Plot training history"
   ]
  },
  {
   "cell_type": "code",
   "execution_count": 13,
   "id": "734f42ff",
   "metadata": {},
   "outputs": [
    {
     "data": {
      "image/png": "[encoded data removed]",
      "text/plain": [
       "<Figure size 491.6x360 with 1 Axes>"
      ]
     },
     "metadata": {
      "needs_background": "light"
     },
     "output_type": "display_data"
    }
   ],
   "source": [
    "# reading metrics from the logs produced by CSVLogger\n",
    "metrics = pd.read_csv(f\"{trainer.logger.log_dir}/metrics.csv\")\n",
    "\n",
    "del metrics[\"step\"]\n",
    "del metrics[\"train_loss_step\"]\n",
    "# comment if not logging lr changes\n",
    "# del metrics[\"lr-Adam\"]\n",
    "metrics.set_index(\"epoch\", inplace=True)\n",
    "# display(metrics.dropna(axis=1, how=\"all\").head(10))\n",
    "\n",
    "sns.relplot(data=metrics, kind=\"line\").set(title='Loss vs epochs')\n",
    "plt.grid(True);"
   ]
  },
  {
   "cell_type": "code",
   "execution_count": null,
   "id": "b0c02efd",
   "metadata": {},
   "outputs": [],
   "source": [
    "# con il LR più alto mostra overfitting\n",
    "# loss è MAE, quindi l'errore è intorno a 250000/750000, 30%"
   ]
  },
  {
   "cell_type": "code",
   "execution_count": null,
   "id": "b668f910",
   "metadata": {},
   "outputs": [],
   "source": []
  }
 ],
 "metadata": {
  "kernelspec": {
   "display_name": "Python [conda env:computervision_p37_gpu_v1]",
   "language": "python",
   "name": "conda-env-computervision_p37_gpu_v1-py"
  },
  "language_info": {
   "codemirror_mode": {
    "name": "ipython",
    "version": 3
   },
   "file_extension": ".py",
   "mimetype": "text/x-python",
   "name": "python",
   "nbconvert_exporter": "python",
   "pygments_lexer": "ipython3",
   "version": "3.7.8"
  }
 },
 "nbformat": 4,
 "nbformat_minor": 5
}
