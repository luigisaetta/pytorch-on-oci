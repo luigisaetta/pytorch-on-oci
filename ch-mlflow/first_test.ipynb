{
 "cells": [
  {
   "cell_type": "markdown",
   "id": "156b2561",
   "metadata": {},
   "source": [
    "### First test with MLFlow"
   ]
  },
  {
   "cell_type": "code",
   "execution_count": 1,
   "id": "2ea1c0fb",
   "metadata": {},
   "outputs": [],
   "source": [
    "import os\n",
    "\n",
    "# for experiment tracking\n",
    "import mlflow"
   ]
  },
  {
   "cell_type": "code",
   "execution_count": 2,
   "id": "4a13ab54",
   "metadata": {},
   "outputs": [],
   "source": [
    "# setting for MLFlow\n",
    "from config import (MLFLOW_TRACKING_URI, MLFLOW_TRACKING_USERNAME,\n",
    "                    MLFLOW_TRACKING_PASSWORD, MLFLOW_S3_ENDPOINT_URL,\n",
    "                    AWS_ACCESS_KEY_ID, AWS_SECRET_ACCESS_KEY)\n",
    "\n",
    "os.environ['MLFLOW_TRACKING_URI'] = MLFLOW_TRACKING_URI\n",
    "os.environ['MLFLOW_TRACKING_USERNAME'] = MLFLOW_TRACKING_USERNAME\n",
    "os.environ['MLFLOW_TRACKING_PASSWORD'] = MLFLOW_TRACKING_PASSWORD"
   ]
  },
  {
   "cell_type": "code",
   "execution_count": 5,
   "id": "47c7feee",
   "metadata": {},
   "outputs": [
    {
     "name": "stderr",
     "output_type": "stream",
     "text": [
      "2023/01/20 09:59:44 INFO mlflow.tracking.fluent: Experiment with name 'exp04' does not exist. Creating a new experiment.\n"
     ]
    }
   ],
   "source": [
    "# test a first connection\n",
    "EXP_NAME = \"exp04\"\n",
    "mlflow.set_tracking_uri(MLFLOW_TRACKING_URI)\n",
    "exp_id = mlflow.set_experiment(EXP_NAME)\n",
    "\n",
    "params = {\"param1\": 42}\n",
    "ACC = 0.9\n",
    "\n",
    "# start the experiment\n",
    "with mlflow.start_run(run_name=\"run01\"):\n",
    "    # log the hyper-parameters you're tracking\n",
    "    mlflow.log_params(params)\n",
    "    \n",
    "    # log the metrics\n",
    "    mlflow.log_metric(\"acc\", ACC)\n",
    "    \n",
    "    # end the run\n",
    "    mlflow.end_run()"
   ]
  },
  {
   "cell_type": "code",
   "execution_count": null,
   "id": "6922a4ba",
   "metadata": {},
   "outputs": [],
   "source": []
  }
 ],
 "metadata": {
  "kernelspec": {
   "display_name": "Python [conda env:computervision_p37_gpu_v1]",
   "language": "python",
   "name": "conda-env-computervision_p37_gpu_v1-py"
  },
  "language_info": {
   "codemirror_mode": {
    "name": "ipython",
    "version": 3
   },
   "file_extension": ".py",
   "mimetype": "text/x-python",
   "name": "python",
   "nbconvert_exporter": "python",
   "pygments_lexer": "ipython3",
   "version": "3.7.8"
  }
 },
 "nbformat": 4,
 "nbformat_minor": 5
}
