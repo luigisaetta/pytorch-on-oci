{
 "cells": [
  {
   "cell_type": "markdown",
   "id": "f58d2639",
   "metadata": {},
   "source": [
    "### Train a cats vs dogs classifier"
   ]
  },
  {
   "cell_type": "code",
   "execution_count": 1,
   "id": "83cd4e18",
   "metadata": {},
   "outputs": [],
   "source": [
    "import os\n",
    "import cv2\n",
    "import time\n",
    "import random\n",
    "import numpy as np\n",
    "from tqdm import tqdm\n",
    "\n",
    "import torch\n",
    "import torch.nn as nn\n",
    "import torch.nn.functional as F\n",
    "\n",
    "from torch.utils.data import Dataset, DataLoader\n",
    "\n",
    "import torchvision.transforms as T\n",
    "from torchvision.utils import make_grid\n",
    "from torchvision.models import resnet50\n",
    "\n",
    "from sklearn.model_selection import train_test_split\n",
    "\n",
    "from PIL import Image\n",
    "\n",
    "import matplotlib.pyplot as plt\n",
    "%matplotlib inline"
   ]
  },
  {
   "cell_type": "code",
   "execution_count": 2,
   "id": "7849760f",
   "metadata": {},
   "outputs": [],
   "source": [
    "DIR_TRAIN = \"./train_cats_dogs/\""
   ]
  },
  {
   "cell_type": "code",
   "execution_count": 3,
   "id": "e3f0e018",
   "metadata": {},
   "outputs": [
    {
     "name": "stdout",
     "output_type": "stream",
     "text": [
      "['dog.1564.jpg', 'dog.5155.jpg', 'dog.5943.jpg', 'dog.6978.jpg', 'dog.3523.jpg']\n"
     ]
    }
   ],
   "source": [
    "imgs = os.listdir(DIR_TRAIN) \n",
    "\n",
    "print(imgs[:5])"
   ]
  },
  {
   "cell_type": "code",
   "execution_count": 4,
   "id": "3a2e8510",
   "metadata": {},
   "outputs": [
    {
     "name": "stdout",
     "output_type": "stream",
     "text": [
      "Number of images: 25000\n"
     ]
    }
   ],
   "source": [
    "print(f\"Number of images: {len(imgs)}\")"
   ]
  },
  {
   "cell_type": "code",
   "execution_count": 5,
   "id": "bf6e3fa0",
   "metadata": {},
   "outputs": [],
   "source": [
    "# mappa la classe ad un intero\n",
    "class_to_int = {\n",
    "    \"cat\" : 0,\n",
    "    \"dog\" : 1\n",
    "}"
   ]
  },
  {
   "cell_type": "code",
   "execution_count": 6,
   "id": "a4246ce0",
   "metadata": {},
   "outputs": [],
   "source": [
    "# augmentation only on train set\n",
    "def get_train_transform():\n",
    "    return T.Compose([\n",
    "        T.RandomHorizontalFlip(p=0.5),\n",
    "        T.RandomRotation(15),\n",
    "        T.RandomCrop(204),\n",
    "        T.ToTensor(),\n",
    "        T.Normalize((0, 0, 0),(1, 1, 1))\n",
    "    ])\n",
    "    \n",
    "def get_val_transform():\n",
    "    return T.Compose([\n",
    "        T.ToTensor(),\n",
    "        T.Normalize((0, 0, 0),(1, 1, 1))\n",
    "    ])"
   ]
  },
  {
   "cell_type": "code",
   "execution_count": 7,
   "id": "a44f11f9",
   "metadata": {},
   "outputs": [],
   "source": [
    "class CatDogDataset(Dataset):\n",
    "    \n",
    "    def __init__(self, imgs, class_to_int, mode = \"train\", transforms = None):\n",
    "        \n",
    "        super().__init__()\n",
    "        self.imgs = imgs\n",
    "        self.class_to_int = class_to_int\n",
    "        self.mode = mode\n",
    "        self.transforms = transforms\n",
    "        \n",
    "    def __getitem__(self, idx):\n",
    "        \n",
    "        image_name = self.imgs[idx]\n",
    "        \n",
    "        ### Reading, converting and normalizing image\n",
    "        #img = cv2.imread(DIR_TRAIN + image_name, cv2.IMREAD_COLOR)\n",
    "        #img = cv2.resize(img, (224,224))\n",
    "        #img = cv2.cvtColor(img, cv2.COLOR_BGR2RGB).astype(np.float32)\n",
    "        #img /= 255.\n",
    "        img = Image.open(DIR_TRAIN + image_name)\n",
    "        img = img.resize((224, 224))\n",
    "        \n",
    "        if self.mode == \"train\" or self.mode == \"val\":\n",
    "        \n",
    "            ### Preparing class label\n",
    "            label = self.class_to_int[image_name.split(\".\")[0]]\n",
    "            label = torch.tensor(label, dtype = torch.float32)\n",
    "\n",
    "            ### Apply Transforms on image\n",
    "            img = self.transforms(img)\n",
    "\n",
    "            return img, label\n",
    "        \n",
    "        elif self.mode == \"test\":\n",
    "            \n",
    "            ### Apply Transforms on image\n",
    "            img = self.transforms(img)\n",
    "\n",
    "            return img\n",
    "            \n",
    "        \n",
    "    def __len__(self):\n",
    "        return len(self.imgs)"
   ]
  },
  {
   "cell_type": "code",
   "execution_count": 8,
   "id": "6435621f",
   "metadata": {},
   "outputs": [],
   "source": [
    "train_imgs, val_imgs = train_test_split(imgs, test_size = 0.20)"
   ]
  },
  {
   "cell_type": "code",
   "execution_count": 9,
   "id": "a35782e9",
   "metadata": {},
   "outputs": [],
   "source": [
    "train_dataset = CatDogDataset(train_imgs, class_to_int, mode = \"train\", transforms = get_train_transform())\n",
    "val_dataset = CatDogDataset(val_imgs, class_to_int, mode = \"val\", transforms = get_val_transform())\n",
    "\n",
    "# batch_size was 16\n",
    "BATCH_SIZE = 32\n",
    "\n",
    "train_data_loader = DataLoader(\n",
    "    dataset = train_dataset,\n",
    "    num_workers = 4,\n",
    "    batch_size = BATCH_SIZE,\n",
    "    shuffle = True\n",
    ")\n",
    "\n",
    "val_data_loader = DataLoader(\n",
    "    dataset = val_dataset,\n",
    "    num_workers = 4,\n",
    "    batch_size = BATCH_SIZE,\n",
    "    shuffle = True\n",
    ")"
   ]
  },
  {
   "cell_type": "code",
   "execution_count": 10,
   "id": "b9371d90",
   "metadata": {},
   "outputs": [],
   "source": [
    "device = torch.device('cuda') if torch.cuda.is_available() else torch.device('cpu')"
   ]
  },
  {
   "cell_type": "code",
   "execution_count": 11,
   "id": "14ad41aa",
   "metadata": {},
   "outputs": [],
   "source": [
    "def accuracy(preds, trues):\n",
    "    THR = 0.5\n",
    "    \n",
    "    ### Converting preds to 0 or 1\n",
    "    preds = [1 if preds[i] >= THR else 0 for i in range(len(preds))]\n",
    "    \n",
    "    ### Calculating accuracy by comparing predictions with true labels\n",
    "    acc = [1 if preds[i] == trues[i] else 0 for i in range(len(preds))]\n",
    "    \n",
    "    ### Summing over all correct predictions\n",
    "    acc = np.sum(acc) / len(preds)\n",
    "    \n",
    "    return (acc * 100)"
   ]
  },
  {
   "cell_type": "code",
   "execution_count": 12,
   "id": "716ca5fa",
   "metadata": {},
   "outputs": [],
   "source": [
    "def train_one_epoch(train_data_loader):\n",
    "    \n",
    "    model.train()\n",
    "    \n",
    "    ### Local Parameters\n",
    "    epoch_loss = []\n",
    "    epoch_acc = []\n",
    "    start_time = time.time()\n",
    "    \n",
    "    ### Iterating over data loader\n",
    "    for images, labels in tqdm(train_data_loader):\n",
    "        \n",
    "        # Loading images and labels to device\n",
    "        images = images.to(device)\n",
    "        labels = labels.to(device)\n",
    "        labels = labels.reshape((labels.shape[0], 1)) # [N, 1] - to match with preds shape\n",
    "        \n",
    "        # Reseting Gradients\n",
    "        optimizer.zero_grad()\n",
    "        \n",
    "        # Forward\n",
    "        preds = model(images)\n",
    "        \n",
    "        # Calculating Loss\n",
    "        _loss = criterion(preds, labels)\n",
    "        loss = _loss.item()\n",
    "        epoch_loss.append(loss)\n",
    "        \n",
    "        # Calculating Accuracy\n",
    "        acc = accuracy(preds, labels)\n",
    "        epoch_acc.append(acc)\n",
    "        \n",
    "        # Backward\n",
    "        _loss.backward()\n",
    "        optimizer.step()\n",
    "    \n",
    "    ### Overall Epoch Results\n",
    "    end_time = time.time()\n",
    "    total_time = end_time - start_time\n",
    "    \n",
    "    ### Acc and Loss\n",
    "    epoch_loss = np.mean(epoch_loss)\n",
    "    # TODO: improve this one\n",
    "    epoch_acc = np.mean(epoch_acc)\n",
    "    \n",
    "    ### Storing results to logs\n",
    "    train_logs[\"loss\"].append(epoch_loss)\n",
    "    train_logs[\"accuracy\"].append(epoch_acc)\n",
    "    train_logs[\"time\"].append(total_time)\n",
    "        \n",
    "    return epoch_loss, epoch_acc, total_time"
   ]
  },
  {
   "cell_type": "code",
   "execution_count": 13,
   "id": "cea98227",
   "metadata": {},
   "outputs": [],
   "source": [
    "def val_one_epoch(val_data_loader, best_val_acc):\n",
    "    \n",
    "    model.eval()\n",
    "    \n",
    "    ### Local Parameters\n",
    "    epoch_loss = []\n",
    "    epoch_acc = []\n",
    "    start_time = time.time()\n",
    "    \n",
    "    ### Iterating over data loader\n",
    "    for images, labels in val_data_loader:\n",
    "        \n",
    "        # Loading images and labels to device\n",
    "        images = images.to(device)\n",
    "        labels = labels.to(device)\n",
    "        labels = labels.reshape((labels.shape[0], 1)) # [N, 1] - to match with preds shape\n",
    "        \n",
    "        # Forward\n",
    "        preds = model(images)\n",
    "        \n",
    "        # Calculating Loss\n",
    "        _loss = criterion(preds, labels)\n",
    "        loss = _loss.item()\n",
    "        epoch_loss.append(loss)\n",
    "        \n",
    "        # Calculating Accuracy\n",
    "        acc = accuracy(preds, labels)\n",
    "        epoch_acc.append(acc)\n",
    "    \n",
    "    ### Overall Epoch Results\n",
    "    end_time = time.time()\n",
    "    total_time = end_time - start_time\n",
    "    \n",
    "    ### Acc and Loss\n",
    "    epoch_loss = np.mean(epoch_loss)\n",
    "    epoch_acc = np.mean(epoch_acc)\n",
    "    \n",
    "    ### Storing results to logs\n",
    "    val_logs[\"loss\"].append(epoch_loss)\n",
    "    val_logs[\"accuracy\"].append(epoch_acc)\n",
    "    val_logs[\"time\"].append(total_time)\n",
    "    \n",
    "    ### Saving best model\n",
    "    if epoch_acc > best_val_acc:\n",
    "        best_val_acc = epoch_acc\n",
    "        torch.save(model.state_dict(),\"resnet50_best.pth\")\n",
    "        \n",
    "    return epoch_loss, epoch_acc, total_time, best_val_acc"
   ]
  },
  {
   "cell_type": "code",
   "execution_count": 23,
   "id": "857f0c6e",
   "metadata": {},
   "outputs": [],
   "source": [
    "# This way no layer is frozen\n",
    "\n",
    "model = resnet50(pretrained = True)\n",
    "\n",
    "# Modifying Head, adding final classifier\n",
    "\n",
    "model.fc = nn.Sequential(\n",
    "    nn.Linear(2048, 1, bias = True),\n",
    "    nn.Sigmoid()\n",
    ")"
   ]
  },
  {
   "cell_type": "code",
   "execution_count": 24,
   "id": "bcfef0dc",
   "metadata": {},
   "outputs": [],
   "source": [
    "# Optimizer\n",
    "optimizer = torch.optim.Adam(model.parameters(), lr = 0.00008)\n",
    "\n",
    "# Learning Rate Scheduler\n",
    "# (LS): check, I don't think it is used\n",
    "lr_scheduler = torch.optim.lr_scheduler.StepLR(optimizer, step_size = 5, gamma = 0.5)\n",
    "\n",
    "#Loss Function\n",
    "criterion = nn.BCELoss()\n",
    "\n",
    "# Logs - Helpful for plotting after training finishes\n",
    "train_logs = {\"loss\" : [], \"accuracy\" : [], \"time\" : []}\n",
    "val_logs = {\"loss\" : [], \"accuracy\" : [], \"time\" : []}\n",
    "\n",
    "# Loading model to device\n",
    "model.to(device)\n",
    "\n",
    "# No of epochs \n",
    "EPOCHS = 10"
   ]
  },
  {
   "cell_type": "code",
   "execution_count": 25,
   "id": "ad9d713f",
   "metadata": {},
   "outputs": [
    {
     "name": "stderr",
     "output_type": "stream",
     "text": [
      "100%|██████████| 625/625 [01:38<00:00,  6.37it/s]"
     ]
    },
    {
     "name": "stdout",
     "output_type": "stream",
     "text": [
      "\n",
      "Training: Epoch 0, Loss : 0.0598 Acc : 97.805, Time : 98.1429\n"
     ]
    },
    {
     "name": "stderr",
     "output_type": "stream",
     "text": [
      "\n"
     ]
    },
    {
     "name": "stdout",
     "output_type": "stream",
     "text": [
      "\n",
      "Validation: Epoch 0, Loss : 0.0303 Acc : 98.8455, Time : 10.3153\n"
     ]
    },
    {
     "name": "stderr",
     "output_type": "stream",
     "text": [
      "100%|██████████| 625/625 [01:38<00:00,  6.37it/s]"
     ]
    },
    {
     "name": "stdout",
     "output_type": "stream",
     "text": [
      "\n",
      "Training: Epoch 1, Loss : 0.0353 Acc : 98.67, Time : 98.159\n"
     ]
    },
    {
     "name": "stderr",
     "output_type": "stream",
     "text": [
      "\n"
     ]
    },
    {
     "name": "stdout",
     "output_type": "stream",
     "text": [
      "\n",
      "Validation: Epoch 1, Loss : 0.0388 Acc : 98.4674, Time : 10.3223\n"
     ]
    },
    {
     "name": "stderr",
     "output_type": "stream",
     "text": [
      "100%|██████████| 625/625 [01:38<00:00,  6.37it/s]"
     ]
    },
    {
     "name": "stdout",
     "output_type": "stream",
     "text": [
      "\n",
      "Training: Epoch 2, Loss : 0.0279 Acc : 99.045, Time : 98.1575\n"
     ]
    },
    {
     "name": "stderr",
     "output_type": "stream",
     "text": [
      "\n"
     ]
    },
    {
     "name": "stdout",
     "output_type": "stream",
     "text": [
      "\n",
      "Validation: Epoch 2, Loss : 0.0591 Acc : 97.8304, Time : 10.384\n"
     ]
    },
    {
     "name": "stderr",
     "output_type": "stream",
     "text": [
      "100%|██████████| 625/625 [01:38<00:00,  6.36it/s]"
     ]
    },
    {
     "name": "stdout",
     "output_type": "stream",
     "text": [
      "\n",
      "Training: Epoch 3, Loss : 0.0262 Acc : 99.065, Time : 98.3133\n"
     ]
    },
    {
     "name": "stderr",
     "output_type": "stream",
     "text": [
      "\n"
     ]
    },
    {
     "name": "stdout",
     "output_type": "stream",
     "text": [
      "\n",
      "Validation: Epoch 3, Loss : 0.0308 Acc : 98.7659, Time : 10.4232\n"
     ]
    },
    {
     "name": "stderr",
     "output_type": "stream",
     "text": [
      "100%|██████████| 625/625 [01:38<00:00,  6.37it/s]"
     ]
    },
    {
     "name": "stdout",
     "output_type": "stream",
     "text": [
      "\n",
      "Training: Epoch 4, Loss : 0.019 Acc : 99.325, Time : 98.1852\n"
     ]
    },
    {
     "name": "stderr",
     "output_type": "stream",
     "text": [
      "\n"
     ]
    },
    {
     "name": "stdout",
     "output_type": "stream",
     "text": [
      "\n",
      "Validation: Epoch 4, Loss : 0.0429 Acc : 98.5669, Time : 10.3937\n"
     ]
    },
    {
     "name": "stderr",
     "output_type": "stream",
     "text": [
      "100%|██████████| 625/625 [01:38<00:00,  6.36it/s]"
     ]
    },
    {
     "name": "stdout",
     "output_type": "stream",
     "text": [
      "\n",
      "Training: Epoch 5, Loss : 0.0208 Acc : 99.3, Time : 98.2028\n"
     ]
    },
    {
     "name": "stderr",
     "output_type": "stream",
     "text": [
      "\n"
     ]
    },
    {
     "name": "stdout",
     "output_type": "stream",
     "text": [
      "\n",
      "Validation: Epoch 5, Loss : 0.0266 Acc : 98.9451, Time : 10.362\n"
     ]
    },
    {
     "name": "stderr",
     "output_type": "stream",
     "text": [
      "100%|██████████| 625/625 [01:38<00:00,  6.37it/s]"
     ]
    },
    {
     "name": "stdout",
     "output_type": "stream",
     "text": [
      "\n",
      "Training: Epoch 6, Loss : 0.0187 Acc : 99.34, Time : 98.1987\n"
     ]
    },
    {
     "name": "stderr",
     "output_type": "stream",
     "text": [
      "\n"
     ]
    },
    {
     "name": "stdout",
     "output_type": "stream",
     "text": [
      "\n",
      "Validation: Epoch 6, Loss : 0.0249 Acc : 99.0446, Time : 10.3469\n"
     ]
    },
    {
     "name": "stderr",
     "output_type": "stream",
     "text": [
      "100%|██████████| 625/625 [01:38<00:00,  6.36it/s]"
     ]
    },
    {
     "name": "stdout",
     "output_type": "stream",
     "text": [
      "\n",
      "Training: Epoch 7, Loss : 0.0177 Acc : 99.41, Time : 98.2214\n"
     ]
    },
    {
     "name": "stderr",
     "output_type": "stream",
     "text": [
      "\n"
     ]
    },
    {
     "name": "stdout",
     "output_type": "stream",
     "text": [
      "\n",
      "Validation: Epoch 7, Loss : 0.0451 Acc : 98.5868, Time : 10.3183\n"
     ]
    },
    {
     "name": "stderr",
     "output_type": "stream",
     "text": [
      "100%|██████████| 625/625 [01:38<00:00,  6.36it/s]"
     ]
    },
    {
     "name": "stdout",
     "output_type": "stream",
     "text": [
      "\n",
      "Training: Epoch 8, Loss : 0.0153 Acc : 99.465, Time : 98.225\n"
     ]
    },
    {
     "name": "stderr",
     "output_type": "stream",
     "text": [
      "\n"
     ]
    },
    {
     "name": "stdout",
     "output_type": "stream",
     "text": [
      "\n",
      "Validation: Epoch 8, Loss : 0.0517 Acc : 98.2285, Time : 10.3597\n"
     ]
    },
    {
     "name": "stderr",
     "output_type": "stream",
     "text": [
      "100%|██████████| 625/625 [01:38<00:00,  6.36it/s]"
     ]
    },
    {
     "name": "stdout",
     "output_type": "stream",
     "text": [
      "\n",
      "Training: Epoch 9, Loss : 0.0169 Acc : 99.39, Time : 98.2283\n"
     ]
    },
    {
     "name": "stderr",
     "output_type": "stream",
     "text": [
      "\n"
     ]
    },
    {
     "name": "stdout",
     "output_type": "stream",
     "text": [
      "\n",
      "Validation: Epoch 9, Loss : 0.0365 Acc : 98.6863, Time : 10.5236\n"
     ]
    }
   ],
   "source": [
    "best_val_acc = 0\n",
    "\n",
    "for epoch in range(EPOCHS):\n",
    "    \n",
    "    ### Training\n",
    "    loss, acc, _time = train_one_epoch(train_data_loader)\n",
    "    \n",
    "    # Print Epoch Details\n",
    "    print()\n",
    "    print(f\"Training: Epoch {epoch}, Loss : {round(loss, 4)} Acc : {round(acc, 4)}, Time : {round(_time, 4)}\")\n",
    "    \n",
    "    ### Validation\n",
    "    loss, acc, _time, best_val_acc = val_one_epoch(val_data_loader, best_val_acc)\n",
    "    \n",
    "    # Print Epoch Details\n",
    "    print()\n",
    "    print(f\"Validation: Epoch {epoch}, Loss : {round(loss, 4)} Acc : {round(acc, 4)}, Time : {round(_time, 4)}\")"
   ]
  },
  {
   "cell_type": "code",
   "execution_count": 26,
   "id": "abc66891",
   "metadata": {},
   "outputs": [
    {
     "data": {
      "image/png": "[encoded data removed]",
      "text/plain": [
       "<Figure size 648x432 with 1 Axes>"
      ]
     },
     "metadata": {
      "needs_background": "light"
     },
     "output_type": "display_data"
    },
    {
     "data": {
      "image/png": "[encoded data removed]",
      "text/plain": [
       "<Figure size 648x432 with 1 Axes>"
      ]
     },
     "metadata": {
      "needs_background": "light"
     },
     "output_type": "display_data"
    }
   ],
   "source": [
    "### Plotting Results\n",
    "\n",
    "vet_epochs = np.arange(1, 11, 1)\n",
    "\n",
    "# Loss\n",
    "plt.figure(figsize=(9, 6))\n",
    "plt.title(\"Loss\")\n",
    "plt.plot(vet_epochs, train_logs[\"loss\"], label='Training loss')\n",
    "plt.plot(vet_epochs, val_logs[\"loss\"], label='Validation loss')\n",
    "plt.xlabel(\"Epochs\")\n",
    "plt.ylabel(\"Loss\")\n",
    "plt.legend(loc='upper right')\n",
    "plt.grid(True)\n",
    "plt.show()\n",
    "\n",
    "# Accuracy\n",
    "plt.figure(figsize=(9, 6))\n",
    "plt.title(\"Accuracy\")\n",
    "plt.plot(vet_epochs, train_logs[\"accuracy\"], label='Training acc.')\n",
    "plt.plot(vet_epochs, val_logs[\"accuracy\"], label='Validation acc.')\n",
    "plt.xlabel(\"Epochs\")\n",
    "plt.ylabel(\"Accuracy\")\n",
    "plt.legend(loc='upper right')\n",
    "plt.grid(True)\n",
    "plt.show()"
   ]
  },
  {
   "cell_type": "code",
   "execution_count": null,
   "id": "cbbcf554",
   "metadata": {},
   "outputs": [],
   "source": []
  }
 ],
 "metadata": {
  "kernelspec": {
   "display_name": "Python [conda env:computervision_p37_gpu_v1]",
   "language": "python",
   "name": "conda-env-computervision_p37_gpu_v1-py"
  },
  "language_info": {
   "codemirror_mode": {
    "name": "ipython",
    "version": 3
   },
   "file_extension": ".py",
   "mimetype": "text/x-python",
   "name": "python",
   "nbconvert_exporter": "python",
   "pygments_lexer": "ipython3",
   "version": "3.7.8"
  }
 },
 "nbformat": 4,
 "nbformat_minor": 5
}
