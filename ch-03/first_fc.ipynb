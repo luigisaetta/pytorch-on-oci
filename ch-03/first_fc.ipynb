{
 "cells": [
  {
   "cell_type": "markdown",
   "id": "dd25e914",
   "metadata": {},
   "source": [
    "### A Binary Classifier built using a FC network, with PyTorch\n",
    "\n",
    "We will be working with the Attrition dataset and we want to build a binary classifier: a model enabling to predict if the employee wants to leave the company (target = 1)\n",
    "\n",
    "Here we explore:\n",
    "* how to define Network Architecture\n",
    "* How to write the training loop"
   ]
  },
  {
   "cell_type": "code",
   "execution_count": 1,
   "id": "c71106d3",
   "metadata": {},
   "outputs": [],
   "source": [
    "import torch\n",
    "from torch.utils.data import Dataset\n",
    "from torch.utils.data import DataLoader\n",
    "from torch import optim\n",
    "from torch import nn\n",
    "import torch.nn.functional as F\n",
    "from tqdm import tqdm\n",
    "\n",
    "from attrition_dataset import AttritionDataset\n",
    "\n",
    "# pyplot to plot the training loss\n",
    "import matplotlib.pyplot as plt\n",
    "\n",
    "%matplotlib inline"
   ]
  },
  {
   "cell_type": "code",
   "execution_count": 2,
   "id": "2a4587ed",
   "metadata": {},
   "outputs": [
    {
     "data": {
      "text/plain": [
       "True"
      ]
     },
     "execution_count": 2,
     "metadata": {},
     "output_type": "execute_result"
    }
   ],
   "source": [
    "# check that access to GPU is OK\n",
    "torch.cuda.is_available()"
   ]
  },
  {
   "cell_type": "code",
   "execution_count": 3,
   "id": "a811d188",
   "metadata": {},
   "outputs": [
    {
     "data": {
      "text/plain": [
       "<torch._C.Generator at 0x7f7efad99310>"
      ]
     },
     "execution_count": 3,
     "metadata": {},
     "output_type": "execute_result"
    }
   ],
   "source": [
    "if torch.cuda.is_available():\n",
    "    device = torch.device(\"cuda\")\n",
    "else:\n",
    "    device = torch.device(\"cpu\")\n",
    "\n",
    "# need to make training reproducible\n",
    "torch.manual_seed(42)"
   ]
  },
  {
   "cell_type": "markdown",
   "id": "c6846456",
   "metadata": {},
   "source": [
    "#### Here you find defined the Network architecture"
   ]
  },
  {
   "cell_type": "code",
   "execution_count": 4,
   "id": "9f03abf2",
   "metadata": {},
   "outputs": [],
   "source": [
    "# we need to implement a class subclassing nn.Module, writing the forward method\n",
    "\n",
    "#non conviene avere una rete troppo profonda e con troppi parametri... i dati non sono tantissimi\n",
    "class FirstFC(nn.Module):\n",
    "    # here we define the structure\n",
    "    def __init__(self):\n",
    "        super(FirstFC, self).__init__()\n",
    "        self.fc1 = nn.Linear(30, 30)\n",
    "        self.fc2 = nn.Linear(30, 30)\n",
    "        self.fc3 = nn.Linear(30, 30)\n",
    "        self.fc4 = nn.Linear(30, 10)\n",
    "        self.fc5 = nn.Linear(10, 1)\n",
    "        # fondamentale memorizzare anche il dropout tra gli attributi \n",
    "        # per disattivarlo in modalità eval\n",
    "        # altrimenti in eval i risultati non sono pienamente riproducibili\n",
    "        self.drop = nn.Dropout(0.1)\n",
    "    \n",
    "    # here we implement the forward pass\n",
    "    def forward(self, x):\n",
    "        x = self.fc1(x)\n",
    "        x = F.relu(x)\n",
    "        x = self.drop(x)\n",
    "        \n",
    "        x = self.fc2(x)\n",
    "        x = F.relu(x)\n",
    "        x = self.drop(x)\n",
    "        \n",
    "        x = F.relu(self.fc3(x))\n",
    "        x = F.relu(self.fc4(x))\n",
    "        \n",
    "        # the last layer must give the prob that it is positive... so we use sigmoid\n",
    "        # so we must use nn.BCELoss\n",
    "        x = torch.sigmoid(self.fc5(x))\n",
    "        \n",
    "        return x"
   ]
  },
  {
   "cell_type": "code",
   "execution_count": 5,
   "id": "31661da1",
   "metadata": {},
   "outputs": [
    {
     "name": "stdout",
     "output_type": "stream",
     "text": [
      "We have 2219 samples in training set...\n",
      "We have 247 samples in validation set...\n"
     ]
    }
   ],
   "source": [
    "# dataset\n",
    "attrition_path = \"/opt/notebooks/ads-examples/oracle_data/orcl_attrition.csv\"\n",
    "\n",
    "attrition_ds = AttritionDataset(attrition_path, over_sample=True)\n",
    "\n",
    "# split in train and validation\n",
    "FRAC = 0.1\n",
    "N_TRAIN = int(len(attrition_ds)*(1. - FRAC))\n",
    "N_VALID = len(attrition_ds) - N_TRAIN\n",
    "\n",
    "train_set, val_set = torch.utils.data.random_split(attrition_ds, [N_TRAIN, N_VALID], generator=torch.Generator().manual_seed(42))\n",
    "\n",
    "print(f\"We have {len(train_set)} samples in training set...\")\n",
    "print(f\"We have {len(val_set)} samples in validation set...\")"
   ]
  },
  {
   "cell_type": "code",
   "execution_count": 6,
   "id": "95de474c",
   "metadata": {},
   "outputs": [],
   "source": [
    "# oversampling the size has greatly increased performance"
   ]
  },
  {
   "cell_type": "code",
   "execution_count": 65,
   "id": "9931d137",
   "metadata": {},
   "outputs": [],
   "source": [
    "# dataloaders\n",
    "\n",
    "# aumentando il btch size le prestazioni peggiorano\n",
    "BATCH_SIZE = 64\n",
    "\n",
    "train_dl = DataLoader(train_set, batch_size=BATCH_SIZE, shuffle=True)\n",
    "val_dl = DataLoader(val_set, batch_size=BATCH_SIZE, shuffle=False)"
   ]
  },
  {
   "cell_type": "code",
   "execution_count": 84,
   "id": "bfb2ec2d",
   "metadata": {},
   "outputs": [
    {
     "data": {
      "text/plain": [
       "FirstFC(\n",
       "  (fc1): Linear(in_features=30, out_features=30, bias=True)\n",
       "  (fc2): Linear(in_features=30, out_features=30, bias=True)\n",
       "  (fc3): Linear(in_features=30, out_features=30, bias=True)\n",
       "  (fc4): Linear(in_features=30, out_features=10, bias=True)\n",
       "  (fc5): Linear(in_features=10, out_features=1, bias=True)\n",
       "  (drop): Dropout(p=0.1, inplace=False)\n",
       ")"
      ]
     },
     "execution_count": 84,
     "metadata": {},
     "output_type": "execute_result"
    }
   ],
   "source": [
    "# istantiate the PyTorch model\n",
    "model_net = FirstFC()\n",
    "\n",
    "# check\n",
    "model_net"
   ]
  },
  {
   "cell_type": "code",
   "execution_count": 85,
   "id": "5e8944f7",
   "metadata": {},
   "outputs": [
    {
     "name": "stdout",
     "output_type": "stream",
     "text": [
      "The model has: 3111 trainable params...\n"
     ]
    }
   ],
   "source": [
    "def count_parameters(model):\n",
    "    return sum(p.numel() for p in model.parameters() if p.requires_grad)\n",
    "\n",
    "print(f\"The model has: {count_parameters(model_net)} trainable params...\")"
   ]
  },
  {
   "cell_type": "code",
   "execution_count": 86,
   "id": "953554e4",
   "metadata": {},
   "outputs": [],
   "source": [
    "# move to gpu\n",
    "# model_net = model_net.to(\"cuda\")"
   ]
  },
  {
   "cell_type": "code",
   "execution_count": 87,
   "id": "5ce8d34a",
   "metadata": {},
   "outputs": [],
   "source": [
    "# here we define, writing all the code, the training loop\n",
    "\n",
    "# this part is (the first time) complicated !!\n",
    "\n",
    "def train(model, optimizer, loss_fn, train_loader, validation_loader, epochs=20, device=\"cpu\"):\n",
    "    vet_epochs = [] \n",
    "    train_loss_history = []\n",
    "    val_loss_history = []\n",
    "    \n",
    "    for epoch in range(epochs):\n",
    "        \n",
    "        model.train()\n",
    "        training_loss = 0.0\n",
    "        \n",
    "        for batch in train_loader:\n",
    "            optimizer.zero_grad()\n",
    "            inputs, targets = batch\n",
    "            \n",
    "            # move to device\n",
    "            inputs = inputs.to(device)\n",
    "            targets = targets.to(device)\n",
    "            \n",
    "            # apply the model\n",
    "            outputs = model(inputs)\n",
    "            \n",
    "            # we need to add this !\n",
    "            targets = targets.unsqueeze(1)\n",
    "            \n",
    "            loss = loss_fn(outputs, targets)\n",
    "            \n",
    "            # here we do the back propagation !!\n",
    "            loss.backward()\n",
    "            optimizer.step()\n",
    "            \n",
    "            training_loss += loss.data.item() * inputs.size(0)\n",
    "        \n",
    "        training_loss /= len(train_loader.dataset)\n",
    "        \n",
    "        # evaluation\n",
    "        model.eval()\n",
    "        val_loss = 0.0\n",
    "        \n",
    "        for batch in validation_loader:\n",
    "            inputs, targets = batch\n",
    "            \n",
    "            inputs = inputs.to(device)\n",
    "            targets = targets.to(device)\n",
    "            \n",
    "            outputs = model(inputs)\n",
    "    \n",
    "            targets = targets.unsqueeze(1)\n",
    "            \n",
    "            loss = loss_fn(outputs, targets)\n",
    "            \n",
    "            val_loss += loss.data.item() * inputs.size(0)\n",
    "            \n",
    "        val_loss /= len(validation_loader.dataset)\n",
    "        \n",
    "        # print only every 20 epochs\n",
    "        if epoch%20 == 0:\n",
    "            vet_epochs.append(epoch)\n",
    "            train_loss_history.append(training_loss)\n",
    "            val_loss_history.append(val_loss)\n",
    "            \n",
    "            print(f'Epoch: {epoch}, Training Loss: {round(training_loss, 3)}, Validation Loss: {round(val_loss, 3)}')\n",
    "    \n",
    "    # prepare output dict\n",
    "    out_dict = {\n",
    "        \"epochs\": vet_epochs,\n",
    "        \"train_loss_hist\": train_loss_history,\n",
    "        \"val_loss_hist\": val_loss_history\n",
    "    }\n",
    "    \n",
    "    return out_dict"
   ]
  },
  {
   "cell_type": "code",
   "execution_count": 88,
   "id": "18f907b2",
   "metadata": {},
   "outputs": [
    {
     "name": "stdout",
     "output_type": "stream",
     "text": [
      "Epoch: 0, Training Loss: 10.315, Validation Loss: 2.131\n",
      "Epoch: 20, Training Loss: 0.69, Validation Loss: 0.679\n",
      "Epoch: 40, Training Loss: 0.66, Validation Loss: 0.677\n",
      "Epoch: 60, Training Loss: 0.657, Validation Loss: 0.676\n",
      "Epoch: 80, Training Loss: 0.652, Validation Loss: 0.661\n",
      "Epoch: 100, Training Loss: 0.646, Validation Loss: 0.651\n",
      "Epoch: 120, Training Loss: 0.643, Validation Loss: 0.644\n",
      "Epoch: 140, Training Loss: 0.636, Validation Loss: 0.648\n",
      "Epoch: 160, Training Loss: 0.627, Validation Loss: 0.641\n",
      "Epoch: 180, Training Loss: 0.619, Validation Loss: 0.631\n",
      "Epoch: 200, Training Loss: 0.615, Validation Loss: 0.618\n",
      "Epoch: 220, Training Loss: 0.604, Validation Loss: 0.619\n",
      "Epoch: 240, Training Loss: 0.58, Validation Loss: 0.563\n",
      "Epoch: 260, Training Loss: 0.575, Validation Loss: 0.601\n",
      "Epoch: 280, Training Loss: 0.557, Validation Loss: 0.545\n",
      "Epoch: 300, Training Loss: 0.54, Validation Loss: 0.531\n",
      "Epoch: 320, Training Loss: 0.536, Validation Loss: 0.521\n",
      "Epoch: 340, Training Loss: 0.541, Validation Loss: 0.527\n",
      "Epoch: 360, Training Loss: 0.533, Validation Loss: 0.509\n",
      "Epoch: 380, Training Loss: 0.522, Validation Loss: 0.501\n",
      "Epoch: 400, Training Loss: 0.511, Validation Loss: 0.525\n",
      "Epoch: 420, Training Loss: 0.488, Validation Loss: 0.481\n",
      "Epoch: 440, Training Loss: 0.496, Validation Loss: 0.47\n",
      "Epoch: 460, Training Loss: 0.502, Validation Loss: 0.499\n",
      "Epoch: 480, Training Loss: 0.5, Validation Loss: 0.495\n",
      "Epoch: 500, Training Loss: 0.491, Validation Loss: 0.5\n",
      "Epoch: 520, Training Loss: 0.527, Validation Loss: 0.523\n",
      "Epoch: 540, Training Loss: 0.498, Validation Loss: 0.502\n",
      "Epoch: 560, Training Loss: 0.481, Validation Loss: 0.518\n",
      "Epoch: 580, Training Loss: 0.474, Validation Loss: 0.482\n",
      "Epoch: 600, Training Loss: 0.514, Validation Loss: 0.508\n",
      "Epoch: 620, Training Loss: 0.47, Validation Loss: 0.434\n",
      "Epoch: 640, Training Loss: 0.504, Validation Loss: 0.55\n",
      "Epoch: 660, Training Loss: 0.475, Validation Loss: 0.467\n",
      "Epoch: 680, Training Loss: 0.456, Validation Loss: 0.489\n",
      "Epoch: 700, Training Loss: 0.456, Validation Loss: 0.537\n",
      "Epoch: 720, Training Loss: 0.446, Validation Loss: 0.435\n",
      "Epoch: 740, Training Loss: 0.488, Validation Loss: 0.445\n",
      "Epoch: 760, Training Loss: 0.466, Validation Loss: 0.437\n",
      "Epoch: 780, Training Loss: 0.462, Validation Loss: 0.528\n",
      "CPU times: user 21min 12s, sys: 2min 35s, total: 23min 48s\n",
      "Wall time: 1min 59s\n"
     ]
    }
   ],
   "source": [
    "%%time\n",
    "\n",
    "LEARNING_RATE = 0.001\n",
    "EPOCHS = 800\n",
    "\n",
    "optimizer = optim.Adam(model_net.parameters(), lr=LEARNING_RATE)\n",
    "\n",
    "history = train(model_net, optimizer, nn.BCELoss(), train_dl, val_dl, epochs=EPOCHS, device=\"cpu\")"
   ]
  },
  {
   "cell_type": "code",
   "execution_count": 89,
   "id": "0042361d",
   "metadata": {},
   "outputs": [
    {
     "data": {
      "image/png": "[encoded data removed]",
      "text/plain": [
       "<Figure size 648x432 with 1 Axes>"
      ]
     },
     "metadata": {
      "needs_background": "light"
     },
     "output_type": "display_data"
    }
   ],
   "source": [
    "# let's exclude the first point to zoom in following steps\n",
    "start_from = 1\n",
    "\n",
    "plt.figure(figsize=(9, 6))\n",
    "plt.title(\"Loss \")\n",
    "plt.xlabel(\"Epochs\")\n",
    "plt.ylabel(\"Loss\")\n",
    "plt.plot(history[\"epochs\"][start_from:], history[\"train_loss_hist\"][start_from:], label='Training loss')\n",
    "# plt.plot(history[\"epochs\"], history[\"train_loss_hist\"], \"ro\")\n",
    "plt.plot(history[\"epochs\"][start_from:], history[\"val_loss_hist\"][start_from:], label='Validation loss')\n",
    "plt.legend(loc='upper right')\n",
    "plt.grid(True)\n",
    "plt.show();"
   ]
  },
  {
   "cell_type": "markdown",
   "id": "3aa683f7",
   "metadata": {},
   "source": [
    "#### Ok: from the training loss it seems that the network is learning... let's go to validation\n",
    "\n",
    "Timings:\n",
    "* GPU: 1min. 20'', 700 epochs\n",
    "* CPU: 1 min. 22'', 700 epochs\n",
    "\n",
    "L'utilizzation della GPU è bassa (13%), con cosi pochi dati l'impiego della GPU non fa la differenza.\n",
    "Aumentando il batch size (64->256) ovviamente il tempo diminuisce ma le prestazioni peggiorano\n",
    "\n",
    "Dal grafico si può osservare che da una vcerta epoch in poi (500?) il LR statico è troppo alto.\n",
    "Un risultato migliore si può ottenere cambiando dinamicamente il LR... una prassi nei modelli \"seri\".\n",
    "Vedrremo in un capitlo successivo come si può fare."
   ]
  },
  {
   "cell_type": "markdown",
   "id": "d237a182",
   "metadata": {},
   "source": [
    "### evaluate the model and compute accuracy"
   ]
  },
  {
   "cell_type": "code",
   "execution_count": 90,
   "id": "21b63521",
   "metadata": {},
   "outputs": [
    {
     "name": "stdout",
     "output_type": "stream",
     "text": [
      "\n",
      "Summary:\n",
      "Accuracy on validation set is: 0.785\n"
     ]
    }
   ],
   "source": [
    "# è fondamentale mettere il modello in modalità eval\n",
    "# per disabilitare il dropout che altrimenti produrrebbe un certo\n",
    "# livello di casualità nell'inferenza\n",
    "\n",
    "model_net.eval()\n",
    "\n",
    "device = \"cpu\"\n",
    "\n",
    "THR = 0.5\n",
    "\n",
    "tot_correct = 0\n",
    "\n",
    "for batch in val_dl:\n",
    "    inputs, targets = batch\n",
    "    \n",
    "    inputs = inputs.to(device)\n",
    "    targets = targets.to(device)\n",
    "        \n",
    "    outputs = model_net(inputs)\n",
    "    \n",
    "    class_outputs = torch.where(outputs >= THR, 1, 0)\n",
    "    class_outputs = class_outputs.squeeze(1)\n",
    "    outputs = outputs.squeeze(1)\n",
    "    \n",
    "    is_ok = torch.eq(class_outputs, targets)\n",
    "    \n",
    "    # ora è suffciente sommare True = 1\n",
    "    tot_correct += is_ok.sum().item()\n",
    "\n",
    "accuracy = round(tot_correct/len(val_set), 3)\n",
    "\n",
    "print()\n",
    "print(\"Summary:\")\n",
    "print(f\"Accuracy on validation set is: {accuracy}\")"
   ]
  },
  {
   "cell_type": "markdown",
   "id": "936613eb",
   "metadata": {},
   "source": [
    "### conclusioni:\n",
    "* over-sampling (fatto dalla classe AttritionDataset\n",
    "* una definizione attenta degli iper-parametri (faticosa, n. neuroni, LR)\n",
    "\n",
    "consentono di ottenere un'accuratezza tra il 73% e 80%... con TabNet vedremo che si riesce ad arrivare al 95% "
   ]
  },
  {
   "cell_type": "code",
   "execution_count": null,
   "id": "d34a87b7",
   "metadata": {},
   "outputs": [],
   "source": []
  }
 ],
 "metadata": {
  "kernelspec": {
   "display_name": "Python [conda env:pytorch110_p37_gpu_v1]",
   "language": "python",
   "name": "conda-env-pytorch110_p37_gpu_v1-py"
  },
  "language_info": {
   "codemirror_mode": {
    "name": "ipython",
    "version": 3
   },
   "file_extension": ".py",
   "mimetype": "text/x-python",
   "name": "python",
   "nbconvert_exporter": "python",
   "pygments_lexer": "ipython3",
   "version": "3.7.12"
  }
 },
 "nbformat": 4,
 "nbformat_minor": 5
}
