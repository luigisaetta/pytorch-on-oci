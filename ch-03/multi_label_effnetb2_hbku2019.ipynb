{
 "cells": [
  {
   "cell_type": "markdown",
   "id": "5792de1f",
   "metadata": {},
   "source": [
    "### Example of Multi-label classification with PyTorch\n",
    "\n",
    "Multi-label means that the same image can have associated several labels.\n",
    "\n",
    "In other words: class are not exclusive\n",
    "\n",
    "we will be using the **HBKU2019 dataset (from Kaggle)**\n",
    "\n",
    "In this NB we're using EffNet B2"
   ]
  },
  {
   "cell_type": "code",
   "execution_count": 1,
   "id": "a6e38849",
   "metadata": {},
   "outputs": [],
   "source": [
    "import os\n",
    "import time\n",
    "import random\n",
    "import pandas as pd\n",
    "import numpy as np\n",
    "from tqdm import tqdm\n",
    "\n",
    "import torch\n",
    "import torch.nn as nn\n",
    "from torch.utils.data import Dataset, DataLoader\n",
    "from torchvision import transforms\n",
    "from torchvision import models\n",
    "\n",
    "from sklearn.model_selection import train_test_split\n",
    "from sklearn.metrics import precision_score\n",
    "from sklearn.metrics import recall_score\n",
    "from sklearn.metrics import f1_score\n",
    "\n",
    "from PIL import Image\n",
    "\n",
    "import matplotlib.pyplot as plt\n",
    "\n",
    "%matplotlib inline"
   ]
  },
  {
   "cell_type": "code",
   "execution_count": 2,
   "id": "b6cd8ce1",
   "metadata": {},
   "outputs": [
    {
     "name": "stdout",
     "output_type": "stream",
     "text": [
      "['person', 'bicycle', 'car', 'motorcycle', 'airplane', 'bus', 'train', 'truck', 'boat', 'traffic light', 'fire hydrant', 'stop sign', 'parking meter', 'bench', 'bird', 'cat', 'dog', 'horse', 'sheep', 'cow', 'elephant', 'bear', 'zebra', 'giraffe', 'backpack', 'umbrella', 'handbag', 'tie', 'suitcase', 'frisbee', 'skis', 'snowboard', 'sports ball', 'kite', 'baseball bat', 'baseball glove', 'skateboard', 'surfboard', 'tennis racket', 'bottle', 'wine glass', 'cup', 'fork', 'knife', 'spoon', 'bowl', 'banana', 'apple', 'sandwich', 'orange', 'broccoli', 'carrot', 'hot dog', 'pizza', 'donut', 'cake', 'chair', 'couch', 'potted plant', 'bed', 'dining table', 'toilet', 'tv', 'laptop', 'mouse', 'remote', 'keyboard', 'cell phone', 'microwave', 'oven', 'toaster', 'sink', 'refrigerator', 'book', 'clock', 'vase', 'scissors', 'teddy bear', 'hair drier', 'toothbrush']\n",
      "80\n"
     ]
    }
   ],
   "source": [
    "# globals\n",
    "\n",
    "SEED = 42\n",
    "\n",
    "BASE_DIR = \"/home/datascience/hbku2019-dataset/\"\n",
    "# file with labels\n",
    "DATA_CSV = BASE_DIR + 'labels/labels_train.csv'\n",
    "# dir with images\n",
    "IMAGE_DIR = BASE_DIR + \"imgs/train/\"\n",
    "\n",
    "# Img model input size\n",
    "IM_SIDE = 260\n",
    "\n",
    "# reading the categories\n",
    "cats = pd.read_csv(BASE_DIR + 'labels/categories.csv', header=None)\n",
    "cats = list(cats[0])\n",
    "\n",
    "# Number of classes\n",
    "N_CLASSES = len(cats)\n",
    "\n",
    "print(cats)\n",
    "print(len(cats))"
   ]
  },
  {
   "cell_type": "code",
   "execution_count": 3,
   "id": "746444af",
   "metadata": {},
   "outputs": [],
   "source": [
    "class CustomDatasetFromCSV(Dataset):\n",
    "    def __init__(self, df, image_path, transformations):\n",
    "        \"\"\"\n",
    "        Args:\n",
    "            df: the dataframe with train or val rows\n",
    "            image_path: path to dir of images\n",
    "            transform: pytorch transforms for transforms and tensor conversion\n",
    "        \"\"\"\n",
    "        # Transforms\n",
    "        self.transforms = transformations\n",
    "        \n",
    "        # store the df\n",
    "        self.data_info = df\n",
    "        \n",
    "        # First column contains the image paths\n",
    "        self.image_arr = self.data_info.iloc[:, 0].values\n",
    "  \n",
    "        # remaining columns are the labels\n",
    "        self.label_arr = self.data_info.iloc[:, 1:].values\n",
    "\n",
    "        # Calculate len\n",
    "        self.data_len = len(self.label_arr)\n",
    "        \n",
    "        # image_path\n",
    "        self.image_path = image_path\n",
    "\n",
    "    def __getitem__(self, index):\n",
    "        # Get image name from the pandas df\n",
    "        single_image_name = self.image_arr[index]\n",
    "        \n",
    "        # Open image\n",
    "        # to RGB is needed, some imgs are grayscale\n",
    "        img = Image.open(self.image_path + single_image_name).convert(\"RGB\")\n",
    "\n",
    "        if self.transforms is not None:\n",
    "            # do the resize and normalize (based on ImageNet)\n",
    "            img_as_tensor = self.transforms(img)\n",
    "        \n",
    "        # Get labels of the image\n",
    "        single_image_label = self.label_arr[index]\n",
    "\n",
    "        return (img_as_tensor, single_image_label)\n",
    "\n",
    "    def __len__(self):\n",
    "        return self.data_len"
   ]
  },
  {
   "cell_type": "code",
   "execution_count": 4,
   "id": "67369521",
   "metadata": {},
   "outputs": [],
   "source": [
    "# Let's take a look at the data we have. To do it we need to load the dataset without augmentations.\n",
    "# read all images names and labels\n",
    "data = pd.read_csv(DATA_CSV, header=None)\n",
    "\n",
    "# split for train, val\n",
    "train_df, val_df = train_test_split(data, test_size=0.2, random_state=SEED, shuffle=True)"
   ]
  },
  {
   "cell_type": "code",
   "execution_count": 5,
   "id": "7d9949f5",
   "metadata": {},
   "outputs": [],
   "source": [
    "# Transformations on Images\n",
    "IMAGE_SIDE = 260\n",
    "\n",
    "mean = [0.485, 0.456, 0.406]\n",
    "std = [0.229, 0.224, 0.225]\n",
    "\n",
    "val_transform = transforms.Compose([\n",
    "    transforms.Resize((IMAGE_SIDE, IMAGE_SIDE)),\n",
    "    transforms.ToTensor(),\n",
    "    transforms.Normalize(mean, std)\n",
    "])\n",
    "\n",
    "# Train preprocessing\n",
    "train_transform = transforms.Compose([\n",
    "    transforms.Resize((IMAGE_SIDE, IMAGE_SIDE)),\n",
    "    transforms.RandomHorizontalFlip(),\n",
    "    # added to fight overfitting\n",
    "    transforms.RandomRotation(25),\n",
    "    transforms.ToTensor(),\n",
    "    transforms.Normalize(mean, std)\n",
    "])\n",
    "\n",
    "# train and validation datasets\n",
    "train_ds = CustomDatasetFromCSV(train_df, IMAGE_DIR, train_transform)\n",
    "val_ds = CustomDatasetFromCSV(val_df, IMAGE_DIR, val_transform)"
   ]
  },
  {
   "cell_type": "code",
   "execution_count": 6,
   "id": "ea8ed363",
   "metadata": {},
   "outputs": [
    {
     "name": "stdout",
     "output_type": "stream",
     "text": [
      "We have 80 classes...\n"
     ]
    }
   ],
   "source": [
    "print(f\"We have {N_CLASSES} classes...\")"
   ]
  },
  {
   "cell_type": "code",
   "execution_count": 7,
   "id": "a39f05a9",
   "metadata": {},
   "outputs": [],
   "source": [
    "# Model class definition\n",
    "# we can choose a different backbone\n",
    "\n",
    "# Use the torchvision's implementation of EFFNetB2\n",
    "# but add FC layer for a different number of classes (27) \n",
    "# and a Sigmoid for multi-label (not exclusive)\n",
    "class EFFNetB2(nn.Module):\n",
    "    def __init__(self, n_classes):\n",
    "        super().__init__()\n",
    "        effnetb2 = models.efficientnet_b2(pretrained=True)\n",
    "        effnetb2.classifier[1] = nn.Sequential(nn.Linear(1408, n_classes, bias=True))\n",
    "        \n",
    "        self.base_model = effnetb2\n",
    "        self.sigm = nn.Sigmoid()\n",
    "\n",
    "    def forward(self, x):\n",
    "        return self.sigm(self.base_model(x))"
   ]
  },
  {
   "cell_type": "code",
   "execution_count": 8,
   "id": "92d7e9bc",
   "metadata": {},
   "outputs": [],
   "source": [
    "# Initialize the dataloaders for training.\n",
    "BATCH_SIZE = 32\n",
    "NUM_WORKERS = 4\n",
    "\n",
    "train_data_loader = DataLoader(train_ds, batch_size=BATCH_SIZE, \n",
    "                               num_workers=NUM_WORKERS, shuffle=True, drop_last=True)\n",
    "val_data_loader = DataLoader(val_ds, batch_size=BATCH_SIZE, num_workers=NUM_WORKERS)"
   ]
  },
  {
   "cell_type": "code",
   "execution_count": 9,
   "id": "8c4e6157",
   "metadata": {},
   "outputs": [
    {
     "name": "stdout",
     "output_type": "stream",
     "text": [
      "Datasets:\n",
      "We have 78219 samples in train dataset\n",
      "We have 19555 samples in validation dataset\n"
     ]
    }
   ],
   "source": [
    "print(\"Datasets:\")\n",
    "print(f\"We have {len(train_ds)} samples in train dataset\")\n",
    "print(f\"We have {len(val_ds)} samples in validation dataset\")"
   ]
  },
  {
   "cell_type": "code",
   "execution_count": null,
   "id": "0ea1cdb2",
   "metadata": {},
   "outputs": [],
   "source": [
    "# Initialize the model\n",
    "device = torch.device('cuda')\n",
    "\n",
    "model = EFFNetB2(N_CLASSES)\n",
    "\n",
    "model = model.to(device)"
   ]
  },
  {
   "cell_type": "code",
   "execution_count": null,
   "id": "6ab2bcd8",
   "metadata": {},
   "outputs": [],
   "source": [
    "def count_parameters(model):\n",
    "    return sum(p.numel() for p in model.parameters() if p.requires_grad)\n",
    "\n",
    "print(f\"The model has: {count_parameters(model)} trainable params...\")"
   ]
  },
  {
   "cell_type": "code",
   "execution_count": 17,
   "id": "56919a3f",
   "metadata": {},
   "outputs": [],
   "source": [
    "def calculate_metrics(pred, target, threshold=0.5):\n",
    "    pred = np.array(pred > threshold, dtype=float)\n",
    "    \n",
    "    return {'micro/precision': precision_score(y_true=target, y_pred=pred, average='micro'),\n",
    "            'micro/recall': recall_score(y_true=target, y_pred=pred, average='micro'),\n",
    "            'micro/f1': f1_score(y_true=target, y_pred=pred, average='micro'),\n",
    "            'macro/precision': precision_score(y_true=target, y_pred=pred, average='macro'),\n",
    "            'macro/recall': recall_score(y_true=target, y_pred=pred, average='macro'),\n",
    "            'macro/f1': f1_score(y_true=target, y_pred=pred, average='macro'),\n",
    "            'samples/precision': precision_score(y_true=target, y_pred=pred, average='samples'),\n",
    "            'samples/recall': recall_score(y_true=target, y_pred=pred, average='samples'),\n",
    "            'samples/f1': f1_score(y_true=target, y_pred=pred, average='samples'),\n",
    "            }"
   ]
  },
  {
   "cell_type": "code",
   "execution_count": null,
   "id": "011ff13a",
   "metadata": {},
   "outputs": [],
   "source": [
    "EPOCHS = 10\n",
    "# lowered respect to tresnet\n",
    "LR = 2e-4\n",
    "\n",
    "# Loss\n",
    "criterion = nn.BCELoss()\n",
    "# optimizer\n",
    "optimizer = torch.optim.Adam(model.parameters(), lr=LR)\n",
    "\n",
    "# Logs - Helpful for plotting after training finishes\n",
    "train_logs = {\"loss\": [], \"accuracy\": [], \"time\": []}\n",
    "val_logs = {\"loss\": [], \"accuracy\": [], \"time\": []}"
   ]
  },
  {
   "cell_type": "code",
   "execution_count": null,
   "id": "51862df0",
   "metadata": {},
   "outputs": [],
   "source": [
    "def train_one_epoch(train_data_loader):\n",
    "\n",
    "    # Local Parameters\n",
    "    epoch_loss = []\n",
    "    epoch_acc = []\n",
    "    start_time = time.time()\n",
    "    \n",
    "    model.train()\n",
    "    \n",
    "    for images, labels in tqdm(train_data_loader):\n",
    "\n",
    "        # Loading images and labels to device\n",
    "        images = images.to(device)\n",
    "        labels = labels.to(device)\n",
    "        \n",
    "        # Resetting Gradients\n",
    "        optimizer.zero_grad()\n",
    "\n",
    "        # Forward\n",
    "        preds = model(images)\n",
    "\n",
    "        # Calculating Loss\n",
    "        _loss = criterion(preds, labels.type(torch.float))\n",
    "        loss = _loss.item()\n",
    "        epoch_loss.append(loss)\n",
    "\n",
    "        # Backward\n",
    "        _loss.backward()\n",
    "        optimizer.step()\n",
    "\n",
    "    # Overall Epoch Results \n",
    "    total_time = time.time() - start_time\n",
    "\n",
    "    # Acc and Loss\n",
    "    epoch_loss = np.mean(epoch_loss)\n",
    "\n",
    "    # Storing results to logs\n",
    "    train_logs[\"loss\"].append(epoch_loss)\n",
    "    train_logs[\"time\"].append(total_time)\n",
    "    \n",
    "    return epoch_loss, total_time"
   ]
  },
  {
   "cell_type": "code",
   "execution_count": null,
   "id": "02e80da7",
   "metadata": {},
   "outputs": [],
   "source": [
    "def val_one_epoch(val_data_loader):\n",
    "\n",
    "    # Local Parameters\n",
    "    epoch_loss = []\n",
    "    epoch_acc = []\n",
    "    start_time = time.time()\n",
    "    \n",
    "    model.eval()\n",
    "    \n",
    "    for images, labels in val_data_loader:\n",
    "\n",
    "        # Loading images and labels to device\n",
    "        images = images.to(device)\n",
    "        labels = labels.to(device)\n",
    "        \n",
    "        # Forward\n",
    "        preds = model(images)\n",
    "\n",
    "        # Calculating Loss\n",
    "        _loss = criterion(preds, labels.type(torch.float))\n",
    "        loss = _loss.item()\n",
    "        epoch_loss.append(loss)\n",
    "\n",
    "    # Overall Epoch Results\n",
    "    total_time = time.time() - start_time\n",
    "\n",
    "    # Acc and Loss\n",
    "    epoch_loss = np.mean(epoch_loss)\n",
    "\n",
    "    val_logs[\"loss\"].append(epoch_loss)\n",
    "    val_logs[\"time\"].append(total_time)\n",
    "\n",
    "    return epoch_loss, total_time "
   ]
  },
  {
   "cell_type": "code",
   "execution_count": null,
   "id": "14fd268e",
   "metadata": {},
   "outputs": [],
   "source": [
    "#\n",
    "# Here we do the training loop\n",
    "#\n",
    "for epoch in range(EPOCHS):\n",
    "    # Training\n",
    "    loss, _time = train_one_epoch(train_data_loader)\n",
    "\n",
    "    print()\n",
    "    print(\n",
    "        f\"Training: Epoch {epoch}, Loss : {round(loss, 4)}, Time : {round(_time, 1)}\"\n",
    "    )\n",
    "\n",
    "    # Validation\n",
    "    loss, _time, = val_one_epoch(val_data_loader)\n",
    "\n",
    "    print()\n",
    "    print(\n",
    "        f\"Validation: Epoch {epoch}, Loss : {round(loss, 4)}, Time : {round(_time, 1)}\"\n",
    "    )"
   ]
  },
  {
   "cell_type": "code",
   "execution_count": null,
   "id": "3a3040c4",
   "metadata": {},
   "outputs": [],
   "source": [
    "vet_epochs = np.arange(1, EPOCHS+1, 1)\n",
    "\n",
    "# Loss\n",
    "plt.figure(figsize=(9, 6))\n",
    "plt.title(\"Loss\")\n",
    "plt.plot(vet_epochs, train_logs[\"loss\"], label=\"Training loss\")\n",
    "plt.plot(vet_epochs, val_logs[\"loss\"], label=\"Validation loss\")\n",
    "plt.xlabel(\"Epochs\")\n",
    "plt.ylabel(\"Loss\")\n",
    "plt.legend(loc=\"upper right\")\n",
    "plt.grid(True)\n",
    "plt.show()"
   ]
  },
  {
   "cell_type": "markdown",
   "id": "87c865bf",
   "metadata": {},
   "source": [
    "La curva riportata sopra è un chiaro esempio di overfitting: dopo la epoch 4 la training loss continua a diminuire mentre la validation loss comincia a salire"
   ]
  },
  {
   "cell_type": "markdown",
   "id": "e4227328",
   "metadata": {},
   "source": [
    "#### Compute metrics on the entire validation set (needs to be done on GPU, or is too slow)"
   ]
  },
  {
   "cell_type": "code",
   "execution_count": null,
   "id": "62bc817c",
   "metadata": {},
   "outputs": [],
   "source": [
    "# torch.save(model, \"hbku2019.pt\")"
   ]
  },
  {
   "cell_type": "code",
   "execution_count": 10,
   "id": "efa34099",
   "metadata": {},
   "outputs": [],
   "source": [
    "model = torch.load('hbku2019.pt')"
   ]
  },
  {
   "cell_type": "code",
   "execution_count": 11,
   "id": "bc706c5b",
   "metadata": {},
   "outputs": [],
   "source": [
    "val_data_loader = DataLoader(val_ds, batch_size=32, num_workers=4)"
   ]
  },
  {
   "cell_type": "code",
   "execution_count": 12,
   "id": "4a9f4a7d",
   "metadata": {},
   "outputs": [
    {
     "name": "stderr",
     "output_type": "stream",
     "text": [
      "100%|██████████| 612/612 [01:02<00:00,  9.78it/s]\n"
     ]
    }
   ],
   "source": [
    "device = torch.device('cuda')\n",
    "# reload the model\n",
    "\n",
    "# model.to(device)\n",
    "model.eval()\n",
    "\n",
    "all_preds = []\n",
    "all_labels = []\n",
    "\n",
    "for images, labels in tqdm(val_data_loader):\n",
    "    with torch.no_grad():\n",
    "        images = images.to(device)\n",
    "        labels = labels\n",
    "    \n",
    "        # Forward\n",
    "        preds = model(images).to(\"cpu\")\n",
    "    \n",
    "        all_preds.append(preds.numpy())\n",
    "        all_labels.append(labels.numpy())"
   ]
  },
  {
   "cell_type": "code",
   "execution_count": 13,
   "id": "21b32404",
   "metadata": {},
   "outputs": [],
   "source": [
    "all_preds_flatten = [item for sublist in all_preds for item in sublist]"
   ]
  },
  {
   "cell_type": "code",
   "execution_count": 14,
   "id": "60ed4282",
   "metadata": {},
   "outputs": [],
   "source": [
    "all_labels_flatten = [item for sublist in all_labels for item in sublist]"
   ]
  },
  {
   "cell_type": "code",
   "execution_count": 18,
   "id": "97a5d1a6",
   "metadata": {},
   "outputs": [
    {
     "name": "stderr",
     "output_type": "stream",
     "text": [
      "/home/datascience/conda/computervision_p37_gpu_v1/lib/python3.7/site-packages/sklearn/metrics/_classification.py:1308: UndefinedMetricWarning: Precision is ill-defined and being set to 0.0 in samples with no predicted labels. Use `zero_division` parameter to control this behavior.\n",
      "  _warn_prf(average, modifier, msg_start, len(result))\n"
     ]
    }
   ],
   "source": [
    "out = calculate_metrics(np.array(all_preds_flatten), np.array(all_labels_flatten))"
   ]
  },
  {
   "cell_type": "markdown",
   "id": "b5cdbdb8",
   "metadata": {},
   "source": [
    "#### Results on validation set"
   ]
  },
  {
   "cell_type": "code",
   "execution_count": 22,
   "id": "8a5677ca",
   "metadata": {},
   "outputs": [],
   "source": [
    "# reduce decimal to 3\n",
    "for key in out.keys():\n",
    "    out[key] = round(out[key], 3)"
   ]
  },
  {
   "cell_type": "code",
   "execution_count": 23,
   "id": "c5ed5281",
   "metadata": {},
   "outputs": [
    {
     "data": {
      "text/plain": [
       "{'micro/precision': 0.811,\n",
       " 'micro/recall': 0.686,\n",
       " 'micro/f1': 0.743,\n",
       " 'macro/precision': 0.773,\n",
       " 'macro/recall': 0.651,\n",
       " 'macro/f1': 0.702,\n",
       " 'samples/precision': 0.841,\n",
       " 'samples/recall': 0.752,\n",
       " 'samples/f1': 0.769}"
      ]
     },
     "execution_count": 23,
     "metadata": {},
     "output_type": "execute_result"
    }
   ],
   "source": [
    "out"
   ]
  },
  {
   "cell_type": "code",
   "execution_count": null,
   "id": "68b81373",
   "metadata": {},
   "outputs": [],
   "source": []
  }
 ],
 "metadata": {
  "kernelspec": {
   "display_name": "Python [conda env:computervision_p37_gpu_v1]",
   "language": "python",
   "name": "conda-env-computervision_p37_gpu_v1-py"
  },
  "language_info": {
   "codemirror_mode": {
    "name": "ipython",
    "version": 3
   },
   "file_extension": ".py",
   "mimetype": "text/x-python",
   "name": "python",
   "nbconvert_exporter": "python",
   "pygments_lexer": "ipython3",
   "version": "3.7.8"
  }
 },
 "nbformat": 4,
 "nbformat_minor": 5
}
